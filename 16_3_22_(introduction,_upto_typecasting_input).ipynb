{
  "nbformat": 4,
  "nbformat_minor": 0,
  "metadata": {
    "colab": {
      "name": "16/3/22 (introduction, upto typecasting input).ipynb",
      "provenance": [],
      "collapsed_sections": [],
      "authorship_tag": "ABX9TyMLQ946H6/2vyqQ/F+EdlMO",
      "include_colab_link": true
    },
    "kernelspec": {
      "name": "python3",
      "display_name": "Python 3"
    },
    "language_info": {
      "name": "python"
    }
  },
  "cells": [
    {
      "cell_type": "markdown",
      "metadata": {
        "id": "view-in-github",
        "colab_type": "text"
      },
      "source": [
        "<a href=\"https://colab.research.google.com/github/tarun-reddy-13/_Python_/blob/main/16_3_22_(introduction%2C_upto_typecasting_input).ipynb\" target=\"_parent\"><img src=\"https://colab.research.google.com/assets/colab-badge.svg\" alt=\"Open In Colab\"/></a>"
      ]
    },
    {
      "cell_type": "markdown",
      "source": [
        "Welcome to python learning\n",
        "\n",
        "---\n",
        "\n"
      ],
      "metadata": {
        "id": "jbBaXxSP0ce9"
      }
    },
    {
      "cell_type": "markdown",
      "source": [
        "Demonstration of using print() :"
      ],
      "metadata": {
        "id": "ddb2dQhbzGsP"
      }
    },
    {
      "cell_type": "code",
      "source": [
        "print(\"Welcome to python learning\")"
      ],
      "metadata": {
        "colab": {
          "base_uri": "https://localhost:8080/"
        },
        "id": "_FXOxahrE_7J",
        "outputId": "3e38b340-deae-49b4-fe82-bbb99595db2e"
      },
      "execution_count": null,
      "outputs": [
        {
          "output_type": "stream",
          "name": "stdout",
          "text": [
            "Welcome to python learning\n"
          ]
        }
      ]
    },
    {
      "cell_type": "code",
      "source": [
        "print('Welcome to python learning')"
      ],
      "metadata": {
        "colab": {
          "base_uri": "https://localhost:8080/"
        },
        "id": "iN6uz3i9FVY4",
        "outputId": "c7954650-8048-47f7-ff2e-744012efe030"
      },
      "execution_count": null,
      "outputs": [
        {
          "output_type": "stream",
          "name": "stdout",
          "text": [
            "Welcome to python learning\n"
          ]
        }
      ]
    },
    {
      "cell_type": "markdown",
      "source": [
        "In Python + is used for adding two numbers and also for concatinating two strings. "
      ],
      "metadata": {
        "id": "sbg6FhlmxlP-"
      }
    },
    {
      "cell_type": "code",
      "source": [
        "2+5"
      ],
      "metadata": {
        "colab": {
          "base_uri": "https://localhost:8080/"
        },
        "id": "-Zhux5AuFu6I",
        "outputId": "308c6e05-b725-4d37-de49-6386dd3520f7"
      },
      "execution_count": null,
      "outputs": [
        {
          "output_type": "execute_result",
          "data": {
            "text/plain": [
              "7"
            ]
          },
          "metadata": {},
          "execution_count": 9
        }
      ]
    },
    {
      "cell_type": "code",
      "source": [
        "'2'+'5'"
      ],
      "metadata": {
        "colab": {
          "base_uri": "https://localhost:8080/",
          "height": 35
        },
        "id": "MUyKI8a0Gdnp",
        "outputId": "d294e1fb-7c85-4f27-be9f-c2180e47dce9"
      },
      "execution_count": null,
      "outputs": [
        {
          "output_type": "execute_result",
          "data": {
            "text/plain": [
              "'25'"
            ],
            "application/vnd.google.colaboratory.intrinsic+json": {
              "type": "string"
            }
          },
          "metadata": {},
          "execution_count": 6
        }
      ]
    },
    {
      "cell_type": "code",
      "source": [
        "a=5\n",
        "b=20\n",
        "a+b"
      ],
      "metadata": {
        "colab": {
          "base_uri": "https://localhost:8080/"
        },
        "id": "FCRAa5cBGlTJ",
        "outputId": "3c405e22-2bda-4303-ccf2-37e974c22dbc"
      },
      "execution_count": null,
      "outputs": [
        {
          "output_type": "execute_result",
          "data": {
            "text/plain": [
              "25"
            ]
          },
          "metadata": {},
          "execution_count": 7
        }
      ]
    },
    {
      "cell_type": "code",
      "source": [
        "a='5'\n",
        "b='20'\n",
        "a+b"
      ],
      "metadata": {
        "colab": {
          "base_uri": "https://localhost:8080/",
          "height": 35
        },
        "id": "V6hIbI_DHeQp",
        "outputId": "e31bacec-fe90-44fd-aab8-d481fd7a94ab"
      },
      "execution_count": null,
      "outputs": [
        {
          "output_type": "execute_result",
          "data": {
            "text/plain": [
              "'520'"
            ],
            "application/vnd.google.colaboratory.intrinsic+json": {
              "type": "string"
            }
          },
          "metadata": {},
          "execution_count": 2
        }
      ]
    },
    {
      "cell_type": "markdown",
      "source": [
        "Input() method is used for accepting input form user at compile time."
      ],
      "metadata": {
        "id": "EQ1pe0gHyRoz"
      }
    },
    {
      "cell_type": "code",
      "source": [
        "a=input(\"Enter the value of a : \")\n",
        "b=input(\"Enter the value of b : \")\n",
        "print(a+b)"
      ],
      "metadata": {
        "colab": {
          "base_uri": "https://localhost:8080/"
        },
        "id": "6Plq-OztIala",
        "outputId": "ce5ac354-55e5-4b6f-9d44-b47bf7212ed8"
      },
      "execution_count": null,
      "outputs": [
        {
          "output_type": "stream",
          "name": "stdout",
          "text": [
            "Enter the value of a : 25\n",
            "Enter the value of b : 50\n",
            "2550\n"
          ]
        }
      ]
    },
    {
      "cell_type": "markdown",
      "source": [
        "Python is a dynamically typed language. input() method reads the value in the \n",
        "form of a string. To read a value in required datatype we are required to type \n",
        "cast the input as shown below :"
      ],
      "metadata": {
        "id": "Onl59p5Fyk5Q"
      }
    },
    {
      "cell_type": "code",
      "source": [
        "a=int(input(\"Enter the value of a : \"))\n",
        "b=int(input(\"Enter the value of b : \"))\n",
        "print(a+b)"
      ],
      "metadata": {
        "colab": {
          "base_uri": "https://localhost:8080/"
        },
        "id": "A7VAcXM_Hm2p",
        "outputId": "abf2b59c-b88d-46f8-aa02-13484aba1b27"
      },
      "execution_count": null,
      "outputs": [
        {
          "output_type": "stream",
          "name": "stdout",
          "text": [
            "Enter the value of a : 25\n",
            "Enter the value of b : 50\n",
            "75\n"
          ]
        }
      ]
    }
  ]
}