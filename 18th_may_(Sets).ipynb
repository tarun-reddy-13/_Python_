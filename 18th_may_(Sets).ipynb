{
  "nbformat": 4,
  "nbformat_minor": 0,
  "metadata": {
    "colab": {
      "name": "18th may (Sets).ipynb",
      "provenance": [],
      "authorship_tag": "ABX9TyN6SRmprnoVMXkgr+jJCTlA",
      "include_colab_link": true
    },
    "kernelspec": {
      "name": "python3",
      "display_name": "Python 3"
    },
    "language_info": {
      "name": "python"
    }
  },
  "cells": [
    {
      "cell_type": "markdown",
      "metadata": {
        "id": "view-in-github",
        "colab_type": "text"
      },
      "source": [
        "<a href=\"https://colab.research.google.com/github/tarun-reddy-13/_Python_/blob/main/18th_may_(Sets).ipynb\" target=\"_parent\"><img src=\"https://colab.research.google.com/assets/colab-badge.svg\" alt=\"Open In Colab\"/></a>"
      ]
    },
    {
      "cell_type": "markdown",
      "source": [
        "#Sets"
      ],
      "metadata": {
        "id": "8LP04jxdPoeq"
      }
    },
    {
      "cell_type": "markdown",
      "source": [
        "Collection of elements irrespective of data type, sets dosen't allow duplicates. sets are represented using {}. It dosen't allow indexing it is unordered i.e; accesing elements using index is not possible.Sets are orbitary type"
      ],
      "metadata": {
        "id": "r_BvwFSAQkwo"
      }
    },
    {
      "cell_type": "code",
      "source": [
        "#Ex: Creating a set and displaying it.\n",
        "s={1,2,3,20,-1,4,0,3}\n",
        "print(s)"
      ],
      "metadata": {
        "colab": {
          "base_uri": "https://localhost:8080/"
        },
        "id": "QUgW5v1mR5Kf",
        "outputId": "95eb7500-2853-477c-96af-719337b67d59"
      },
      "execution_count": null,
      "outputs": [
        {
          "output_type": "stream",
          "name": "stdout",
          "text": [
            "{0, 1, 2, 3, 4, 20, -1}\n"
          ]
        }
      ]
    },
    {
      "cell_type": "markdown",
      "source": [
        "append() cant be used in sets as it is unordered so, we use add()"
      ],
      "metadata": {
        "id": "1prA54v2SI-f"
      }
    },
    {
      "cell_type": "code",
      "source": [
        "s.add(100)\n",
        "print(s)\n",
        "s.add(20)\n",
        "print(s)"
      ],
      "metadata": {
        "colab": {
          "base_uri": "https://localhost:8080/"
        },
        "id": "MuteqEeQTVVO",
        "outputId": "00cb10e0-52bd-4ceb-dc28-67374d95c099"
      },
      "execution_count": null,
      "outputs": [
        {
          "output_type": "stream",
          "name": "stdout",
          "text": [
            "{0, 1, 2, 3, 4, 100, 20, -1}\n",
            "{0, 1, 2, 3, 4, 100, 20, -1}\n"
          ]
        }
      ]
    },
    {
      "cell_type": "code",
      "source": [
        "l=[1,-1,2,3,7,7,100,4,5,6,100,-1,5,4,1]\n",
        "l=set(l)\n",
        "print(l)\n",
        "print(list(l))"
      ],
      "metadata": {
        "colab": {
          "base_uri": "https://localhost:8080/"
        },
        "id": "2L9BH4PYabyw",
        "outputId": "b9afadaf-b798-49e4-88f1-cb3f8655ece9"
      },
      "execution_count": null,
      "outputs": [
        {
          "output_type": "stream",
          "name": "stdout",
          "text": [
            "{1, 2, 3, 100, 4, 5, 7, 6, -1}\n",
            "[1, 2, 3, 100, 4, 5, 7, 6, -1]\n"
          ]
        }
      ]
    },
    {
      "cell_type": "code",
      "source": [
        "help(set)"
      ],
      "metadata": {
        "colab": {
          "base_uri": "https://localhost:8080/"
        },
        "id": "RzkZbuckTW1H",
        "outputId": "c381213b-6122-45d7-fc53-9575d487d20a"
      },
      "execution_count": null,
      "outputs": [
        {
          "output_type": "stream",
          "name": "stdout",
          "text": [
            "Help on class set in module builtins:\n",
            "\n",
            "class set(object)\n",
            " |  set() -> new empty set object\n",
            " |  set(iterable) -> new set object\n",
            " |  \n",
            " |  Build an unordered collection of unique elements.\n",
            " |  \n",
            " |  Methods defined here:\n",
            " |  \n",
            " |  __and__(self, value, /)\n",
            " |      Return self&value.\n",
            " |  \n",
            " |  __contains__(...)\n",
            " |      x.__contains__(y) <==> y in x.\n",
            " |  \n",
            " |  __eq__(self, value, /)\n",
            " |      Return self==value.\n",
            " |  \n",
            " |  __ge__(self, value, /)\n",
            " |      Return self>=value.\n",
            " |  \n",
            " |  __getattribute__(self, name, /)\n",
            " |      Return getattr(self, name).\n",
            " |  \n",
            " |  __gt__(self, value, /)\n",
            " |      Return self>value.\n",
            " |  \n",
            " |  __iand__(self, value, /)\n",
            " |      Return self&=value.\n",
            " |  \n",
            " |  __init__(self, /, *args, **kwargs)\n",
            " |      Initialize self.  See help(type(self)) for accurate signature.\n",
            " |  \n",
            " |  __ior__(self, value, /)\n",
            " |      Return self|=value.\n",
            " |  \n",
            " |  __isub__(self, value, /)\n",
            " |      Return self-=value.\n",
            " |  \n",
            " |  __iter__(self, /)\n",
            " |      Implement iter(self).\n",
            " |  \n",
            " |  __ixor__(self, value, /)\n",
            " |      Return self^=value.\n",
            " |  \n",
            " |  __le__(self, value, /)\n",
            " |      Return self<=value.\n",
            " |  \n",
            " |  __len__(self, /)\n",
            " |      Return len(self).\n",
            " |  \n",
            " |  __lt__(self, value, /)\n",
            " |      Return self<value.\n",
            " |  \n",
            " |  __ne__(self, value, /)\n",
            " |      Return self!=value.\n",
            " |  \n",
            " |  __or__(self, value, /)\n",
            " |      Return self|value.\n",
            " |  \n",
            " |  __rand__(self, value, /)\n",
            " |      Return value&self.\n",
            " |  \n",
            " |  __reduce__(...)\n",
            " |      Return state information for pickling.\n",
            " |  \n",
            " |  __repr__(self, /)\n",
            " |      Return repr(self).\n",
            " |  \n",
            " |  __ror__(self, value, /)\n",
            " |      Return value|self.\n",
            " |  \n",
            " |  __rsub__(self, value, /)\n",
            " |      Return value-self.\n",
            " |  \n",
            " |  __rxor__(self, value, /)\n",
            " |      Return value^self.\n",
            " |  \n",
            " |  __sizeof__(...)\n",
            " |      S.__sizeof__() -> size of S in memory, in bytes\n",
            " |  \n",
            " |  __sub__(self, value, /)\n",
            " |      Return self-value.\n",
            " |  \n",
            " |  __xor__(self, value, /)\n",
            " |      Return self^value.\n",
            " |  \n",
            " |  add(...)\n",
            " |      Add an element to a set.\n",
            " |      \n",
            " |      This has no effect if the element is already present.\n",
            " |  \n",
            " |  clear(...)\n",
            " |      Remove all elements from this set.\n",
            " |  \n",
            " |  copy(...)\n",
            " |      Return a shallow copy of a set.\n",
            " |  \n",
            " |  difference(...)\n",
            " |      Return the difference of two or more sets as a new set.\n",
            " |      \n",
            " |      (i.e. all elements that are in this set but not the others.)\n",
            " |  \n",
            " |  difference_update(...)\n",
            " |      Remove all elements of another set from this set.\n",
            " |  \n",
            " |  discard(...)\n",
            " |      Remove an element from a set if it is a member.\n",
            " |      \n",
            " |      If the element is not a member, do nothing.\n",
            " |  \n",
            " |  intersection(...)\n",
            " |      Return the intersection of two sets as a new set.\n",
            " |      \n",
            " |      (i.e. all elements that are in both sets.)\n",
            " |  \n",
            " |  intersection_update(...)\n",
            " |      Update a set with the intersection of itself and another.\n",
            " |  \n",
            " |  isdisjoint(...)\n",
            " |      Return True if two sets have a null intersection.\n",
            " |  \n",
            " |  issubset(...)\n",
            " |      Report whether another set contains this set.\n",
            " |  \n",
            " |  issuperset(...)\n",
            " |      Report whether this set contains another set.\n",
            " |  \n",
            " |  pop(...)\n",
            " |      Remove and return an arbitrary set element.\n",
            " |      Raises KeyError if the set is empty.\n",
            " |  \n",
            " |  remove(...)\n",
            " |      Remove an element from a set; it must be a member.\n",
            " |      \n",
            " |      If the element is not a member, raise a KeyError.\n",
            " |  \n",
            " |  symmetric_difference(...)\n",
            " |      Return the symmetric difference of two sets as a new set.\n",
            " |      \n",
            " |      (i.e. all elements that are in exactly one of the sets.)\n",
            " |  \n",
            " |  symmetric_difference_update(...)\n",
            " |      Update a set with the symmetric difference of itself and another.\n",
            " |  \n",
            " |  union(...)\n",
            " |      Return the union of sets as a new set.\n",
            " |      \n",
            " |      (i.e. all elements that are in either set.)\n",
            " |  \n",
            " |  update(...)\n",
            " |      Update a set with the union of itself and others.\n",
            " |  \n",
            " |  ----------------------------------------------------------------------\n",
            " |  Static methods defined here:\n",
            " |  \n",
            " |  __new__(*args, **kwargs) from builtins.type\n",
            " |      Create and return a new object.  See help(type) for accurate signature.\n",
            " |  \n",
            " |  ----------------------------------------------------------------------\n",
            " |  Data and other attributes defined here:\n",
            " |  \n",
            " |  __hash__ = None\n",
            "\n"
          ]
        }
      ]
    },
    {
      "cell_type": "markdown",
      "source": [
        "Creating set by adding one element at a time"
      ],
      "metadata": {
        "id": "kWkzdY7jTk23"
      }
    },
    {
      "cell_type": "code",
      "source": [
        "n=int(input(\"Enter the size of set :\"))\n",
        "print(\"Enter\",n,\"elements into set :\")\n",
        "s=set()\n",
        "for i in range(0,n):\n",
        "    #s.add(input()) gives an error as the preference is given to dictionary by interpretor so type cast set variable while declaring.\n",
        "    s.add(input())\n",
        "print(s)"
      ],
      "metadata": {
        "colab": {
          "base_uri": "https://localhost:8080/"
        },
        "id": "D74bnoF5Ud4n",
        "outputId": "686aeeff-2c66-48ef-cda1-f4eeacf1c20c"
      },
      "execution_count": null,
      "outputs": [
        {
          "output_type": "stream",
          "name": "stdout",
          "text": [
            "Enter the size of set :5\n",
            "Enter 5 elements into set :\n",
            "1\n",
            "2\n",
            "3\n",
            "3\n",
            "4\n",
            "{'1', '2', '4', '3'}\n"
          ]
        }
      ]
    },
    {
      "cell_type": "code",
      "source": [
        "n=int(input(\"Enter the size of set :\"))\n",
        "print(\"Enter\",n,\"elements into set :\")\n",
        "s=set()\n",
        "for i in range(0,n):\n",
        "    #s.add(input()) gives an error as the preference is given to dictionary by interpretor so type cast set variable while declaring.\n",
        "    s.add(int(input()))\n",
        "print(\"Elements of set :\", end=\" \")\n",
        "for i in s:\n",
        "    print(i,end=\" \")"
      ],
      "metadata": {
        "colab": {
          "base_uri": "https://localhost:8080/"
        },
        "id": "s6xf8cAoVLUY",
        "outputId": "c578b439-dd8e-4b17-9aef-10614ee62006"
      },
      "execution_count": null,
      "outputs": [
        {
          "output_type": "stream",
          "name": "stdout",
          "text": [
            "Enter the size of set :5\n",
            "Enter 5 elements into set :\n",
            "1\n",
            "2\n",
            "2\n",
            "3\n",
            "4\n",
            "Elements of set : 1 2 3 4 "
          ]
        }
      ]
    },
    {
      "cell_type": "markdown",
      "source": [
        "Read an elements into a set and compute sum of even numbers in the set and also display the total number od even numbers i the set:"
      ],
      "metadata": {
        "id": "CHqe5rLjVmSn"
      }
    },
    {
      "cell_type": "code",
      "source": [
        "n=int(input(\"Enter the size of set :\"))\n",
        "print(\"Enter\",n,\"elements into set :\")\n",
        "s=set();sum=0;c=0\n",
        "for i in range(0,n):\n",
        "    s.add(int(input()))\n",
        "for i in s:\n",
        "    if i%2==0:\n",
        "        sum=sum+i\n",
        "        c+=1\n",
        "print(\"Given set:\",s,\"\\nSum of even numbers in the set:\",sum,\"\\nCount of even numbers in the set:\",c)"
      ],
      "metadata": {
        "colab": {
          "base_uri": "https://localhost:8080/"
        },
        "id": "tSk8sPzMXo1H",
        "outputId": "db3aa73b-fabb-45f6-c288-eb8d194777c2"
      },
      "execution_count": null,
      "outputs": [
        {
          "output_type": "stream",
          "name": "stdout",
          "text": [
            "Enter the size of set :6\n",
            "Enter 6 elements into set :\n",
            "1\n",
            "2\n",
            "3\n",
            "3\n",
            "4\n",
            "4\n",
            "Given set: {1, 2, 3, 4} \n",
            "Sum of even numbers in the set: 6 \n",
            "Count of even numbers in the set: 2\n"
          ]
        }
      ]
    },
    {
      "cell_type": "markdown",
      "source": [
        "#Set operations"
      ],
      "metadata": {
        "id": "NAz1vGkVYeMe"
      }
    },
    {
      "cell_type": "markdown",
      "source": [
        "Mostly used : Union, Intersection, difference, Symmetric-difference"
      ],
      "metadata": {
        "id": "6QZAXVWHYxUt"
      }
    },
    {
      "cell_type": "markdown",
      "source": [
        "1. union() gives the union of two sets: syntax : s1.union(s2)\n",
        "2. intersection() gives the common elements across wo sets. syntax : s1.intersection(s2)\n",
        "3. difference() gives the elements which are present in s1 and not present in s2 and viseversa. syntax: s1.difference(s2)\n",
        "4. symmetric_difference() gives the unique elements across two sets. syntax: s1.symmetric_difference(s2)"
      ],
      "metadata": {
        "id": "KfBpZad6ZGaE"
      }
    },
    {
      "cell_type": "code",
      "source": [
        "s1={1,3,5,13,7,8,9}\n",
        "s2={7,8,9,2,4,8}\n",
        "print(\"Union of s1 and s2 :\",s1.union(s2)) #or we can use bitwise or operator: su = s1 | s2\n",
        "#print(s2|s1)\n",
        "print(\"Intersection of s1 and s2 :\",s1.intersection(s2)) #or we can use bitwise and operatio: si = s1 & s2\n",
        "#print(s1&s2)\n",
        "print(\"difference of two sets :\",s1.difference(s2)) #or we can use '-' operator: sd = s1 - s2\n",
        "#print(s1-s2)\n",
        "print(\"Symmetric difference of two sets :\",s1.symmetric_difference(s2))"
      ],
      "metadata": {
        "colab": {
          "base_uri": "https://localhost:8080/"
        },
        "id": "mA-lTNi6bs9t",
        "outputId": "d1d949c1-8ead-4b2d-c733-2fc991e48a5a"
      },
      "execution_count": null,
      "outputs": [
        {
          "output_type": "stream",
          "name": "stdout",
          "text": [
            "Union of s1 and s2 : {1, 2, 3, 4, 5, 7, 8, 9, 13}\n",
            "Intersection of s1 and s2 : {8, 9, 7}\n",
            "difference of two sets : {1, 13, 3, 5}\n",
            "{1, 2, 3, 4, 5, 13}\n"
          ]
        }
      ]
    },
    {
      "cell_type": "code",
      "source": [
        "s1={1,2,3,4,10,11}\n",
        "s2={2,3,4,7}\n",
        "print(s1.difference_update(s2))\n",
        "print(s1)\n",
        "print(s2)"
      ],
      "metadata": {
        "colab": {
          "base_uri": "https://localhost:8080/"
        },
        "id": "SVRbu5exb2dF",
        "outputId": "1012bc09-1fcd-453d-ae89-4f7c1fabf448"
      },
      "execution_count": null,
      "outputs": [
        {
          "output_type": "stream",
          "name": "stdout",
          "text": [
            "None\n",
            "{1, 10, 11}\n",
            "{2, 3, 4, 7}\n"
          ]
        }
      ]
    },
    {
      "cell_type": "code",
      "source": [
        "s1={1,2,3,4,10,11}\n",
        "s2={2,3,4,7}\n",
        "print(s1.update(s2))\n",
        "print(s1)\n",
        "print(s2)"
      ],
      "metadata": {
        "colab": {
          "base_uri": "https://localhost:8080/"
        },
        "id": "001WzG6UiSRT",
        "outputId": "d672debe-35cb-4ff7-b3b3-7bf907658a4a"
      },
      "execution_count": null,
      "outputs": [
        {
          "output_type": "stream",
          "name": "stdout",
          "text": [
            "None\n",
            "{1, 2, 3, 4, 7, 10, 11}\n",
            "{2, 3, 4, 7}\n"
          ]
        }
      ]
    },
    {
      "cell_type": "code",
      "source": [
        "s1={1,3,5,8}\n",
        "s1.discard(5) #delets the element 5. discard() wont return any value.\n",
        "print(s1)\n",
        "s1.discard(50) #if the element is not in set it dosent return any error which puts the programmer inconfusion so to avoid it we use remove.\n",
        "print(s1)"
      ],
      "metadata": {
        "colab": {
          "base_uri": "https://localhost:8080/"
        },
        "id": "Szc8WtsMjCEz",
        "outputId": "3ee316e4-0abe-4dbc-ba49-c3e5c50ba51e"
      },
      "execution_count": null,
      "outputs": [
        {
          "output_type": "stream",
          "name": "stdout",
          "text": [
            "{8, 1, 3}\n",
            "{8, 1, 3}\n"
          ]
        }
      ]
    },
    {
      "cell_type": "code",
      "source": [
        "s1={1,3,5,8}\n",
        "print(s1.remove(5))\n",
        "print(s1)\n",
        "print(s1.remove(50)) #it gives an error if the value is not present.\n",
        "print(s1)"
      ],
      "metadata": {
        "colab": {
          "base_uri": "https://localhost:8080/",
          "height": 252
        },
        "id": "9TYH5d9GkCED",
        "outputId": "01003f0f-91c6-46eb-d783-6288e8b4987a"
      },
      "execution_count": null,
      "outputs": [
        {
          "output_type": "stream",
          "name": "stdout",
          "text": [
            "None\n",
            "{8, 1, 3}\n"
          ]
        },
        {
          "output_type": "error",
          "ename": "KeyError",
          "evalue": "ignored",
          "traceback": [
            "\u001b[0;31m---------------------------------------------------------------------------\u001b[0m",
            "\u001b[0;31mKeyError\u001b[0m                                  Traceback (most recent call last)",
            "\u001b[0;32m<ipython-input-59-6541c7387b12>\u001b[0m in \u001b[0;36m<module>\u001b[0;34m()\u001b[0m\n\u001b[1;32m      2\u001b[0m \u001b[0mprint\u001b[0m\u001b[0;34m(\u001b[0m\u001b[0ms1\u001b[0m\u001b[0;34m.\u001b[0m\u001b[0mremove\u001b[0m\u001b[0;34m(\u001b[0m\u001b[0;36m5\u001b[0m\u001b[0;34m)\u001b[0m\u001b[0;34m)\u001b[0m\u001b[0;34m\u001b[0m\u001b[0;34m\u001b[0m\u001b[0m\n\u001b[1;32m      3\u001b[0m \u001b[0mprint\u001b[0m\u001b[0;34m(\u001b[0m\u001b[0ms1\u001b[0m\u001b[0;34m)\u001b[0m\u001b[0;34m\u001b[0m\u001b[0;34m\u001b[0m\u001b[0m\n\u001b[0;32m----> 4\u001b[0;31m \u001b[0mprint\u001b[0m\u001b[0;34m(\u001b[0m\u001b[0ms1\u001b[0m\u001b[0;34m.\u001b[0m\u001b[0mremove\u001b[0m\u001b[0;34m(\u001b[0m\u001b[0;36m50\u001b[0m\u001b[0;34m)\u001b[0m\u001b[0;34m)\u001b[0m\u001b[0;34m\u001b[0m\u001b[0;34m\u001b[0m\u001b[0m\n\u001b[0m\u001b[1;32m      5\u001b[0m \u001b[0mprint\u001b[0m\u001b[0;34m(\u001b[0m\u001b[0ms1\u001b[0m\u001b[0;34m)\u001b[0m\u001b[0;34m\u001b[0m\u001b[0;34m\u001b[0m\u001b[0m\n",
            "\u001b[0;31mKeyError\u001b[0m: 50"
          ]
        }
      ]
    },
    {
      "cell_type": "code",
      "source": [
        "#pop() removes the orbitary element and returns the poped element.\n",
        "s1={1,3,5,-10,8}\n",
        "print(s1.pop())\n",
        "print(s1)"
      ],
      "metadata": {
        "colab": {
          "base_uri": "https://localhost:8080/"
        },
        "id": "F9O-n4ySkp1z",
        "outputId": "fabc07b7-9c63-4c2b-ac61-14be1857bbc5"
      },
      "execution_count": null,
      "outputs": [
        {
          "output_type": "stream",
          "name": "stdout",
          "text": [
            "1\n",
            "{3, 5, 8, -10}\n"
          ]
        }
      ]
    },
    {
      "cell_type": "code",
      "source": [
        "s1={1,2,3,4,5}\n",
        "s2={1,2,3}\n",
        "s3={7,8,9}\n",
        "print(s3.isdisjoint(s1))\n",
        "print(s2.issubset(s1))\n",
        "print(s1.issuperset(s1))"
      ],
      "metadata": {
        "colab": {
          "base_uri": "https://localhost:8080/"
        },
        "id": "0IkX0Y2XlFwy",
        "outputId": "6be539cf-1e18-4ae5-a19e-03a06fefd836"
      },
      "execution_count": null,
      "outputs": [
        {
          "output_type": "stream",
          "name": "stdout",
          "text": [
            "True\n",
            "True\n",
            "True\n"
          ]
        }
      ]
    },
    {
      "cell_type": "code",
      "source": [
        ""
      ],
      "metadata": {
        "id": "nYIrjfFKlqCz"
      },
      "execution_count": null,
      "outputs": []
    }
  ]
}