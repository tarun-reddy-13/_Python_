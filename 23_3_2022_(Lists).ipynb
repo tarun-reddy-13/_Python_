{
  "nbformat": 4,
  "nbformat_minor": 0,
  "metadata": {
    "colab": {
      "name": "23/3/2022 (Lists).ipynb",
      "provenance": [],
      "collapsed_sections": [],
      "authorship_tag": "ABX9TyPSdS7OT6vp0PzSallrz1ey",
      "include_colab_link": true
    },
    "kernelspec": {
      "name": "python3",
      "display_name": "Python 3"
    },
    "language_info": {
      "name": "python"
    }
  },
  "cells": [
    {
      "cell_type": "markdown",
      "metadata": {
        "id": "view-in-github",
        "colab_type": "text"
      },
      "source": [
        "<a href=\"https://colab.research.google.com/github/tarun-reddy-13/_Python_/blob/main/23_3_2022_(Lists).ipynb\" target=\"_parent\"><img src=\"https://colab.research.google.com/assets/colab-badge.svg\" alt=\"Open In Colab\"/></a>"
      ]
    },
    {
      "cell_type": "markdown",
      "source": [
        "List : List is the collection of elements. It can be of same type or different."
      ],
      "metadata": {
        "id": "vW8i0dAE0SV7"
      }
    },
    {
      "cell_type": "code",
      "source": [
        "l=[1,2,3,4,5]\n",
        "print(\"Contents of l are :\",l)\n",
        "l1=[1,2.3,\"Hi\"]\n",
        "print(\"Contents of l1 are :\",l1)\n",
        "print(\"Class of l :\",type(l),\"\\nClass of l1 :\",type(l1))"
      ],
      "metadata": {
        "colab": {
          "base_uri": "https://localhost:8080/"
        },
        "id": "cZarZTAB0-hq",
        "outputId": "9becac9f-4d2e-4c93-e766-3e8fbca9f8d3"
      },
      "execution_count": null,
      "outputs": [
        {
          "output_type": "stream",
          "name": "stdout",
          "text": [
            "Contents of l are : [1, 2, 3, 4, 5]\n",
            "Contents of l1 are : [1, 2.3, 'Hi']\n",
            "Class of l : <class 'list'> \n",
            "Class of l1 : <class 'list'>\n"
          ]
        }
      ]
    },
    {
      "cell_type": "markdown",
      "source": [
        "We can access the list members using its index. To print indivudial elements of the list we can use in operator as follows. it starts from index 0 and ends at last element index."
      ],
      "metadata": {
        "id": "nzP7_z7X4Dn6"
      }
    },
    {
      "cell_type": "code",
      "source": [
        "l=[1,2.3,\"Hello\"]\n",
        "for i in l:\n",
        "    print(i,end=\"\\t\")\n",
        "print(\"\\n\")\n",
        "for i in range(0,len(l)):\n",
        "    print(l[i],end=\"\\t\")"
      ],
      "metadata": {
        "colab": {
          "base_uri": "https://localhost:8080/"
        },
        "id": "xgnYGu6b5QCP",
        "outputId": "559a0132-4572-461b-f8af-6f3056797636"
      },
      "execution_count": null,
      "outputs": [
        {
          "output_type": "stream",
          "name": "stdout",
          "text": [
            "1\t2.3\tHello\t\n",
            "\n",
            "1\t2.3\tHello\t"
          ]
        }
      ]
    },
    {
      "cell_type": "markdown",
      "source": [
        "To read the values of the list in the run time we use listname.append(type(input()). append adds the value in the last indes of the list. for example if we have the values like [1,2,3] in the list if we add another element 4 using append it adds 4 in the last index of the list like [1,2,3,4]"
      ],
      "metadata": {
        "id": "ps6KQbw3_VA3"
      }
    },
    {
      "cell_type": "code",
      "source": [
        "n=int(input(\"Enter the no of elements :\"))\n",
        "print(\"Eneter\",n,\"Elements into the list\")\n",
        "L=[]\n",
        "for i in range(0,n):\n",
        "    L.append(int(input()))\n",
        "print(\"Elements in the list are : \")\n",
        "print(L)"
      ],
      "metadata": {
        "colab": {
          "base_uri": "https://localhost:8080/"
        },
        "id": "ilyKgb9o6vzY",
        "outputId": "a176480e-ddec-4ae1-ff9a-699a1a1387a9"
      },
      "execution_count": null,
      "outputs": [
        {
          "output_type": "stream",
          "name": "stdout",
          "text": [
            "Enter the no of elements :5\n",
            "Eneter 5 Elements into the list\n",
            "1\n",
            "2\n",
            "3\n",
            "4\n",
            "5\n",
            "Elements in the list are : \n",
            "[1, 2, 3, 4, 5]\n"
          ]
        }
      ]
    },
    {
      "cell_type": "markdown",
      "source": [
        "We can concatinate two lists using + operator."
      ],
      "metadata": {
        "id": "0I3je5jyA5DY"
      }
    },
    {
      "cell_type": "code",
      "source": [
        "l1=[1,2,3,4]\n",
        "l2=[5,6,7]\n",
        "print(l1+l2)"
      ],
      "metadata": {
        "colab": {
          "base_uri": "https://localhost:8080/"
        },
        "id": "NboIXw0U9opo",
        "outputId": "b72affe3-134c-4da5-f714-1628491e11c1"
      },
      "execution_count": null,
      "outputs": [
        {
          "output_type": "stream",
          "name": "stdout",
          "text": [
            "[1, 2, 3, 4, 5, 6, 7]\n"
          ]
        }
      ]
    },
    {
      "cell_type": "markdown",
      "source": [
        "1. Find sum and Average of an input list.\n",
        "2. Max from a list.\n",
        "3. Second minimum from a list.\n",
        "4. Find the average of a list and display only the elements greater than avg from the list.\n",
        "5. Remove duplicate from a list."
      ],
      "metadata": {
        "id": "UwqC_HSNBTu1"
      }
    },
    {
      "cell_type": "code",
      "source": [
        "#1. Find sum and average of an input list : \n",
        "l=[];sum=0\n",
        "n=int(input(\"Enter the size of list :\"))\n",
        "print(\"Enter\",n,\"Elements of the list : \")\n",
        "for i in range(0,n):\n",
        "    l.append(int(input()))\n",
        "print(l)\n",
        "for i in range(0,len(l)):\n",
        "    sum=sum+l[i]\n",
        "print(\"Sum of the elements in the list is :\",sum,\"\\nAverage of the elements in the list :\",sum/len(l))\n"
      ],
      "metadata": {
        "colab": {
          "base_uri": "https://localhost:8080/"
        },
        "id": "KvhERsCMCPaN",
        "outputId": "0b297b95-7bf5-4983-9504-c2c21e04e6d3"
      },
      "execution_count": null,
      "outputs": [
        {
          "output_type": "stream",
          "name": "stdout",
          "text": [
            "Enter the size of list :5\n",
            "Enter 5 Elements of the list : \n",
            "1\n",
            "2\n",
            "3\n",
            "4\n",
            "5\n",
            "[1, 2, 3, 4, 5]\n",
            "Sum of the elements in the list is : 15 \n",
            "Average of the elements in the list : 3.0\n"
          ]
        }
      ]
    },
    {
      "cell_type": "code",
      "source": [
        "#2. Max from a list.\n",
        "l=[]\n",
        "n=int(input(\"Enter the size of list :\"))\n",
        "print(\"Enter\",n,\"Elements of the list : \")\n",
        "for i in range(0,n):\n",
        "    l.append(int(input()))\n",
        "print(l)\n",
        "max=0\n",
        "for i in range(0,len(l)):\n",
        "    if(l[i]>max):\n",
        "        max=l[i]\n",
        "print(\"Maximum element in the list :\",max)"
      ],
      "metadata": {
        "colab": {
          "base_uri": "https://localhost:8080/"
        },
        "id": "U-hBJWmQDQ_H",
        "outputId": "0fcf309c-d45a-4540-dd65-2b78d7a07358"
      },
      "execution_count": null,
      "outputs": [
        {
          "output_type": "stream",
          "name": "stdout",
          "text": [
            "Enter the size of list :5\n",
            "Enter 5 Elements of the list : \n",
            "1\n",
            "3\n",
            "2\n",
            "5\n",
            "4\n",
            "[1, 3, 2, 5, 4]\n",
            "Maximum element in the list : 5\n"
          ]
        }
      ]
    },
    {
      "cell_type": "code",
      "source": [
        "#3. Second minimum from a list.\n",
        "l=[]\n",
        "n=int(input(\"Enter the size of list :\"))\n",
        "print(\"Enter\",n,\"Elements of the list : \")\n",
        "for i in range(0,n):\n",
        "    l.append(int(input()))\n",
        "print(l)\n",
        "max=0\n",
        "for i in range(0,len(l)):\n",
        "    if(l[i]>max):\n",
        "        max=l[i]\n",
        "for i in range(0,len(l)):\n",
        "    if(l[i]==max):\n",
        "        l[i]=0\n",
        "sl=0\n",
        "for i in range(0,len(l)):\n",
        "    if(l[i]>sl):\n",
        "        sl=l[i]\n",
        "print(\"Second largest element in the list :\",sl)"
      ],
      "metadata": {
        "colab": {
          "base_uri": "https://localhost:8080/"
        },
        "id": "1pMi9KRUECi3",
        "outputId": "038581d3-693d-410f-a32f-9ce200cbcf9c"
      },
      "execution_count": null,
      "outputs": [
        {
          "output_type": "stream",
          "name": "stdout",
          "text": [
            "Enter the size of list :5\n",
            "Enter 5 Elements of the list : \n",
            "1\n",
            "3\n",
            "2\n",
            "4\n",
            "5\n",
            "[1, 3, 2, 4, 5]\n",
            "Second largest element in the list : 4\n"
          ]
        }
      ]
    },
    {
      "cell_type": "code",
      "source": [
        "#4. Find the average of a list and display only the elements greater than avg \n",
        "#1. Find sum and average of an input list : \n",
        "l=[];sum=0\n",
        "n=int(input(\"Enter the size of list :\"))\n",
        "print(\"Enter\",n,\"Elements of the list : \")\n",
        "for i in range(0,n):\n",
        "    l.append(int(input()))\n",
        "print(l)\n",
        "for i in range(0,len(l)):\n",
        "    sum=sum+l[i]\n",
        "avg=sum//len(l)\n",
        "l1=[]\n",
        "for i in range(0,len(l)):\n",
        "    if(l[i]>avg):\n",
        "        l1.append(l[i])\n",
        "print(l1)"
      ],
      "metadata": {
        "colab": {
          "base_uri": "https://localhost:8080/"
        },
        "id": "N5tU0B0oEoph",
        "outputId": "6840fdd1-24c5-41ed-963f-35fa3ccdb2ce"
      },
      "execution_count": null,
      "outputs": [
        {
          "output_type": "stream",
          "name": "stdout",
          "text": [
            "Enter the size of list :6\n",
            "Enter 6 Elements of the list : \n",
            "1\n",
            "2\n",
            "3\n",
            "4\n",
            "5\n",
            "6\n",
            "[1, 2, 3, 4, 5, 6]\n",
            "[4, 5, 6]\n"
          ]
        }
      ]
    },
    {
      "cell_type": "code",
      "source": [
        "34#5. Remove duplicate from a list. \n",
        "l=[];n=int(input(\"Enter the size of the list :\"))\n",
        "print(\"Enter\",n,\"elements into the list \")\n",
        "for i in range(0,n):\n",
        "    l.append(int(input()))\n",
        "l1=[]\n",
        "temp=l[0]\n",
        "l1.append(l[0])\n",
        "for i in range(0,len(l)):\n",
        "    if(l[i]!=temp):\n",
        "        l1.append(l[i])\n",
        "        temp=l[i]\n",
        "print(l1)"
      ],
      "metadata": {
        "colab": {
          "base_uri": "https://localhost:8080/"
        },
        "id": "gqogzTR3F-XU",
        "outputId": "b1f73452-4c1d-4a8a-de54-2c7f9a890af2"
      },
      "execution_count": null,
      "outputs": [
        {
          "output_type": "stream",
          "name": "stdout",
          "text": [
            "Enter the size of the list :7\n",
            "Enter 7 elements into the list \n",
            "1\n",
            "1\n",
            "1\n",
            "2\n",
            "3\n",
            "4\n",
            "4\n",
            "[1, 2, 3, 4]\n"
          ]
        }
      ]
    },
    {
      "cell_type": "code",
      "source": [
        "3"
      ],
      "metadata": {
        "id": "GGHlc5y_JyiU"
      },
      "execution_count": null,
      "outputs": []
    }
  ]
}