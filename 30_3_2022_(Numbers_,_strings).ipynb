{
  "nbformat": 4,
  "nbformat_minor": 0,
  "metadata": {
    "colab": {
      "name": "30/3/2022 (Numbers , strings).ipynb",
      "provenance": [],
      "collapsed_sections": [],
      "authorship_tag": "ABX9TyMB3Y4VoTNBT2gqDtE0nksJ",
      "include_colab_link": true
    },
    "kernelspec": {
      "name": "python3",
      "display_name": "Python 3"
    },
    "language_info": {
      "name": "python"
    }
  },
  "cells": [
    {
      "cell_type": "markdown",
      "metadata": {
        "id": "view-in-github",
        "colab_type": "text"
      },
      "source": [
        "<a href=\"https://colab.research.google.com/github/tarun-reddy-13/_Python_/blob/main/30_3_2022_(Numbers_%2C_strings).ipynb\" target=\"_parent\"><img src=\"https://colab.research.google.com/assets/colab-badge.svg\" alt=\"Open In Colab\"/></a>"
      ]
    },
    {
      "cell_type": "markdown",
      "source": [
        ""
      ],
      "metadata": {
        "id": "-ZLPX0rQT0KM"
      }
    },
    {
      "cell_type": "code",
      "source": [
        "(1/10)+(2/10)-(3/10)\n"
      ],
      "metadata": {
        "id": "Kj0QbKlVT0hz",
        "colab": {
          "base_uri": "https://localhost:8080/"
        },
        "outputId": "9950758f-e79a-49ae-d501-31058226b437"
      },
      "execution_count": null,
      "outputs": [
        {
          "output_type": "execute_result",
          "data": {
            "text/plain": [
              "5.551115123125783e-17"
            ]
          },
          "metadata": {},
          "execution_count": 12
        }
      ]
    },
    {
      "cell_type": "markdown",
      "source": [
        "convert above expression into binary to get proved."
      ],
      "metadata": {
        "id": "VPcUGcsw7qC2"
      }
    },
    {
      "cell_type": "code",
      "source": [
        "0.1-0.3+0.2"
      ],
      "metadata": {
        "colab": {
          "base_uri": "https://localhost:8080/"
        },
        "id": "I2gsqkO56RVt",
        "outputId": "0d4ef13e-713d-4170-9e52-b7cfdc97ed46"
      },
      "execution_count": null,
      "outputs": [
        {
          "output_type": "execute_result",
          "data": {
            "text/plain": [
              "2.7755575615628914e-17"
            ]
          },
          "metadata": {},
          "execution_count": 16
        }
      ]
    },
    {
      "cell_type": "code",
      "source": [
        "0.1+0.3-0.2"
      ],
      "metadata": {
        "colab": {
          "base_uri": "https://localhost:8080/"
        },
        "id": "Qeue7qer687l",
        "outputId": "d1396af5-79e9-4ebb-f0d7-e2bcfde0db50"
      },
      "execution_count": null,
      "outputs": [
        {
          "output_type": "execute_result",
          "data": {
            "text/plain": [
              "0.2"
            ]
          },
          "metadata": {},
          "execution_count": 17
        }
      ]
    },
    {
      "cell_type": "code",
      "source": [
        "-0.3+0.1+0.2"
      ],
      "metadata": {
        "colab": {
          "base_uri": "https://localhost:8080/"
        },
        "id": "tMNcw_gi7KUk",
        "outputId": "d803abb6-e234-4946-f3cc-cf2517cb93f7"
      },
      "execution_count": null,
      "outputs": [
        {
          "output_type": "execute_result",
          "data": {
            "text/plain": [
              "2.7755575615628914e-17"
            ]
          },
          "metadata": {},
          "execution_count": 18
        }
      ]
    },
    {
      "cell_type": "code",
      "source": [
        "0.3-0.3"
      ],
      "metadata": {
        "colab": {
          "base_uri": "https://localhost:8080/"
        },
        "id": "uUEWOcRL7RKF",
        "outputId": "3200d756-d552-4bca-e4b6-5033ecf46baa"
      },
      "execution_count": null,
      "outputs": [
        {
          "output_type": "execute_result",
          "data": {
            "text/plain": [
              "0.0"
            ]
          },
          "metadata": {},
          "execution_count": 19
        }
      ]
    },
    {
      "cell_type": "code",
      "source": [
        "0.4-0.2-0.2"
      ],
      "metadata": {
        "colab": {
          "base_uri": "https://localhost:8080/"
        },
        "id": "SBcgUBQW7UBU",
        "outputId": "d7839b6e-fc86-4ed7-d550-133ad98f1731"
      },
      "execution_count": null,
      "outputs": [
        {
          "output_type": "execute_result",
          "data": {
            "text/plain": [
              "0.0"
            ]
          },
          "metadata": {},
          "execution_count": 20
        }
      ]
    },
    {
      "cell_type": "code",
      "source": [
        "1%2\n"
      ],
      "metadata": {
        "id": "zPqrMBHJ71R-",
        "colab": {
          "base_uri": "https://localhost:8080/"
        },
        "outputId": "7ce566c2-ebf5-479f-e8b1-f007ee4d6fb5"
      },
      "execution_count": null,
      "outputs": [
        {
          "output_type": "execute_result",
          "data": {
            "text/plain": [
              "1"
            ]
          },
          "metadata": {},
          "execution_count": 23
        }
      ]
    },
    {
      "cell_type": "markdown",
      "source": [
        "String slicing"
      ],
      "metadata": {
        "id": "p95oAJIDB3p9"
      }
    },
    {
      "cell_type": "code",
      "source": [
        "st='Hi Tarun'\n",
        "print(st[0:5])"
      ],
      "metadata": {
        "id": "8RZCiUdO8LhW",
        "colab": {
          "base_uri": "https://localhost:8080/"
        },
        "outputId": "a75c11d8-f8db-4357-f3fe-d7b1a284cd02"
      },
      "execution_count": null,
      "outputs": [
        {
          "output_type": "stream",
          "name": "stdout",
          "text": [
            "Hi Ta\n"
          ]
        }
      ]
    },
    {
      "cell_type": "code",
      "source": [
        "print(st[::-1])"
      ],
      "metadata": {
        "colab": {
          "base_uri": "https://localhost:8080/"
        },
        "id": "IUaG7EpKBiJk",
        "outputId": "326f9ac3-cd90-410c-ab80-4666a8f4528c"
      },
      "execution_count": null,
      "outputs": [
        {
          "output_type": "stream",
          "name": "stdout",
          "text": [
            "nuraT iH\n"
          ]
        }
      ]
    },
    {
      "cell_type": "code",
      "source": [
        "print(st[0:len(st):2])"
      ],
      "metadata": {
        "colab": {
          "base_uri": "https://localhost:8080/"
        },
        "id": "chHW_Y_cCG6D",
        "outputId": "58b117d6-a7bc-4d79-ba30-e6310e5b0a60"
      },
      "execution_count": null,
      "outputs": [
        {
          "output_type": "stream",
          "name": "stdout",
          "text": [
            "H au\n"
          ]
        }
      ]
    },
    {
      "cell_type": "code",
      "source": [
        "#input string\n",
        "s=\"Gitam University\""
      ],
      "metadata": {
        "id": "Js5QJLDdCRPi"
      },
      "execution_count": null,
      "outputs": []
    },
    {
      "cell_type": "code",
      "source": [
        "#printing input string using slicing\n",
        "print(s[0:len(s)])"
      ],
      "metadata": {
        "colab": {
          "base_uri": "https://localhost:8080/"
        },
        "id": "S_yGWi0LCgtE",
        "outputId": "3a6f33ec-11fd-496f-de43-934b1f5a42ae"
      },
      "execution_count": null,
      "outputs": [
        {
          "output_type": "stream",
          "name": "stdout",
          "text": [
            "Gitam University\n"
          ]
        }
      ]
    },
    {
      "cell_type": "code",
      "source": [
        "#printing a sub string using slicing\n",
        "print(s[0:6])"
      ],
      "metadata": {
        "colab": {
          "base_uri": "https://localhost:8080/"
        },
        "id": "4wGeltu4Cm0D",
        "outputId": "461f1f51-bf4c-42b3-eac5-26e056fe4a2f"
      },
      "execution_count": null,
      "outputs": [
        {
          "output_type": "stream",
          "name": "stdout",
          "text": [
            "Gitam \n"
          ]
        }
      ]
    },
    {
      "cell_type": "code",
      "source": [
        "#reversing a string using slicing\n",
        "print(s[::-1])"
      ],
      "metadata": {
        "colab": {
          "base_uri": "https://localhost:8080/"
        },
        "id": "Ck6cIwp6C-fz",
        "outputId": "9230bb99-2e37-4f4a-80b1-63d10166720c"
      },
      "execution_count": null,
      "outputs": [
        {
          "output_type": "stream",
          "name": "stdout",
          "text": [
            "ytisrevinU matiG\n"
          ]
        }
      ]
    },
    {
      "cell_type": "code",
      "source": [
        "#printing alternative letters of a string using slicing\n",
        "print(s[0:len(s):2])"
      ],
      "metadata": {
        "colab": {
          "base_uri": "https://localhost:8080/"
        },
        "id": "O-Y6TadIDCnD",
        "outputId": "5c876ac1-c67c-43d3-ee14-da683c9b2877"
      },
      "execution_count": null,
      "outputs": [
        {
          "output_type": "stream",
          "name": "stdout",
          "text": [
            "GtmUiest\n"
          ]
        }
      ]
    },
    {
      "cell_type": "code",
      "source": [
        "#printing alternative letters from last using slicing\n",
        "print(s[::-2])"
      ],
      "metadata": {
        "colab": {
          "base_uri": "https://localhost:8080/"
        },
        "id": "H_qQgSkzDIoz",
        "outputId": "bc677171-0696-4b6b-87d9-efb4a180bf0d"
      },
      "execution_count": null,
      "outputs": [
        {
          "output_type": "stream",
          "name": "stdout",
          "text": [
            "yirvn ai\n"
          ]
        }
      ]
    },
    {
      "cell_type": "code",
      "source": [
        "#printing a sub string in reverse using slicing\n",
        "print(s[-1:-11:-1])"
      ],
      "metadata": {
        "colab": {
          "base_uri": "https://localhost:8080/"
        },
        "id": "rzEFZTBAD3m0",
        "outputId": "e0309e3c-b78b-497b-8d07-a0bdb39ddd7a"
      },
      "execution_count": null,
      "outputs": [
        {
          "output_type": "stream",
          "name": "stdout",
          "text": [
            "ytisrevinU\n"
          ]
        }
      ]
    },
    {
      "cell_type": "markdown",
      "source": [
        "1. Check the input string is palindrome or not.\n",
        "2. Read an string check the input string is palindrome or not. If it is palindrome print no.of letters or charecters rpeating in it. If not print -1.\n",
        "3. Raed a string and check the input string is starting with 'A'.\n",
        "4. Raed a string and check the input string is starting with 'AB'.\n",
        "5. Raed a string and check the input string is ending with 'AA'.\n",
        "6. Check the input string has 'as' as it's substring or not.\n",
        "7. Read a string and display the frequency of each charecters in a string.\n",
        "8. Read a string display the string in the toggle case where the charecter is always a capital letter (cap smm)."
      ],
      "metadata": {
        "id": "1RiKa0iEEH1m"
      }
    },
    {
      "cell_type": "code",
      "source": [
        "#1. Check the input string is palindrome or not\n",
        "s=input()\n",
        "if s[::-1]==s:\n",
        "    print(\"Palindrome\")\n",
        "else:\n",
        "    print(\"Not a palindrome\")"
      ],
      "metadata": {
        "colab": {
          "base_uri": "https://localhost:8080/"
        },
        "id": "OufVHZcgFgoW",
        "outputId": "3b3e666d-0ddc-4a15-feb4-96cfe2fc6f1b"
      },
      "execution_count": null,
      "outputs": [
        {
          "output_type": "stream",
          "name": "stdout",
          "text": [
            "malayalam\n",
            "Palindrome\n"
          ]
        }
      ]
    },
    {
      "cell_type": "code",
      "source": [
        "#2. Read an string check the input string is palindrome or not. If it is palindrome print no.of letters or charecters rpeating in it. If not print -1.\n",
        "t=int(input(\"Enter no.of test cases :\"))\n",
        "\n",
        "for t in range(0,t):\n",
        "    s=input(\"Enter a string :\")\n",
        "    if(s==s[::-1]):\n",
        "        print(\"No.of charecters repeated :\",len(s)//2)\n",
        "    else:\n",
        "        print(\"-1\")\n",
        "\n"
      ],
      "metadata": {
        "colab": {
          "base_uri": "https://localhost:8080/"
        },
        "id": "v2xH6Z-hFwZq",
        "outputId": "4506f208-3d56-401b-83aa-846f52ce79b5"
      },
      "execution_count": null,
      "outputs": [
        {
          "output_type": "stream",
          "name": "stdout",
          "text": [
            "Enter no.of test cases :3\n",
            "Enter a string :Tarun\n",
            "-1\n",
            "Enter a string :malayalam\n",
            "No.of charecters repeated : 4\n",
            "Enter a string :MadaM\n",
            "No.of charecters repeated : 2\n"
          ]
        }
      ]
    },
    {
      "cell_type": "code",
      "source": [
        "#3. Raed a string and check the input string is starting with 'A'.\n",
        "s=input(\"Enter any string :\")\n",
        "if(s[0]=='A'):\n",
        "    print(\"Given string is starting with A\")\n",
        "else:\n",
        "    print(\"Failed\")"
      ],
      "metadata": {
        "colab": {
          "base_uri": "https://localhost:8080/"
        },
        "id": "l2JTeLEeKFGS",
        "outputId": "ccfd9708-7eb7-4b0a-84db-89880f6b2be0"
      },
      "execution_count": null,
      "outputs": [
        {
          "output_type": "stream",
          "name": "stdout",
          "text": [
            "Enter any string :Arun\n",
            "Given string is starting with A\n"
          ]
        }
      ]
    },
    {
      "cell_type": "code",
      "source": [
        "#4. Raed a string and check the input string is starting with 'AB'.\n",
        "s=input(\"Enter any string :\")\n",
        "if(s[0:2]=='AB'):\n",
        "    print(\"Given string is starting with AB\")\n",
        "else:\n",
        "    print(\"Failed\")"
      ],
      "metadata": {
        "colab": {
          "base_uri": "https://localhost:8080/"
        },
        "id": "AfKQk32iKsiy",
        "outputId": "fef3d9ab-d04d-43bc-97f9-d2293c590e71"
      },
      "execution_count": null,
      "outputs": [
        {
          "output_type": "stream",
          "name": "stdout",
          "text": [
            "Enter any string :ABCD\n",
            "Given string is starting with AB\n"
          ]
        }
      ]
    },
    {
      "cell_type": "code",
      "source": [
        "#5. Raed a string and check the input string is ending with 'AA'.\n",
        "s=input(\"Enter any string :\")\n",
        "if(s[-1:-3:-1]=='AA'):\n",
        "    print(\"Given string is ending with AA\")\n",
        "else:\n",
        "    print(\"Failed\")"
      ],
      "metadata": {
        "colab": {
          "base_uri": "https://localhost:8080/"
        },
        "id": "pDHP-jOoK37R",
        "outputId": "b3b2905f-6310-4bb3-d384-b696da9c33ee"
      },
      "execution_count": null,
      "outputs": [
        {
          "output_type": "stream",
          "name": "stdout",
          "text": [
            "Enter any string :abcdeAA\n",
            "Given string is ending with AA\n"
          ]
        }
      ]
    },
    {
      "cell_type": "code",
      "source": [
        "#6. Check the input string has 'as' as it's substring or not. Method 1:\n",
        "s=input(\"Enter any string :\")\n",
        "for i in range(0,len(s)):\n",
        "    if s[i]=='a' and s[i+1]=='s':\n",
        "        print(\"The input string contains 'as' as a substring in it.\")\n",
        "    else:\n",
        "        continue"
      ],
      "metadata": {
        "colab": {
          "base_uri": "https://localhost:8080/"
        },
        "id": "oaZ_rnGWLHeU",
        "outputId": "e1583607-172a-4095-f6a0-b58b398da4e4"
      },
      "execution_count": null,
      "outputs": [
        {
          "output_type": "stream",
          "name": "stdout",
          "text": [
            "Enter any string :He has a book\n",
            "The input string contains 'as' as a substring in it.\n"
          ]
        }
      ]
    },
    {
      "cell_type": "code",
      "source": [
        "#6. Check the input string has 'as' as it's substring or not. Method 2:\n",
        "s=input()\n",
        "if 'as' in s :\n",
        "    print(\"The input string contains 'as' as a substring in it.\")\n",
        "else:\n",
        "    print(\"Failed\")"
      ],
      "metadata": {
        "colab": {
          "base_uri": "https://localhost:8080/"
        },
        "id": "8-EP5JCQLu4y",
        "outputId": "0609eb37-5403-4968-88e0-9c489a88954a"
      },
      "execution_count": null,
      "outputs": [
        {
          "output_type": "stream",
          "name": "stdout",
          "text": [
            "he has a book\n",
            "The input string contains 'as' as a substring in it.\n"
          ]
        }
      ]
    },
    {
      "cell_type": "code",
      "source": [
        "#7. Read a string and display the frequency of each charecters in a string. Method 1\n",
        "s=input(\"Enter any string :\")\n",
        "l=[]\n",
        "print(l)\n",
        "for x in s:\n",
        "    if x not in l:\n",
        "        l.append(x)\n",
        "for t in l:\n",
        "    c=0\n",
        "    for j in range(0,len(s)):\n",
        "        if t==s[j]:\n",
        "            c=c+1\n",
        "    print(\"count of '\",t,\"' in\",s,\"is :\",c)  "
      ],
      "metadata": {
        "id": "HPcRpFuCOfDH",
        "colab": {
          "base_uri": "https://localhost:8080/"
        },
        "outputId": "4e190ccd-8de5-483b-9691-d5f4a7e6a708"
      },
      "execution_count": 28,
      "outputs": [
        {
          "output_type": "stream",
          "name": "stdout",
          "text": [
            "Enter any string :Happy\n",
            "[]\n",
            "count of ' H ' in Happy is : 1\n",
            "count of ' a ' in Happy is : 1\n",
            "count of ' p ' in Happy is : 2\n",
            "count of ' y ' in Happy is : 1\n"
          ]
        }
      ]
    },
    {
      "cell_type": "code",
      "source": [
        "#Method 2\n",
        "s=input()\n",
        "l=set(s)\n",
        "c=0\n",
        "for lt in l:\n",
        "    for x in s:\n",
        "        if(lt==x):\n",
        "            c=c+1\n",
        "    print(lt,\"is repeated for\",c,\"times\")\n",
        "    c=0\n",
        "print(s,l)"
      ],
      "metadata": {
        "colab": {
          "base_uri": "https://localhost:8080/"
        },
        "id": "Ri66cIwSBedZ",
        "outputId": "b3c13a8a-80a4-4fc8-a08e-5a352ff18c5c"
      },
      "execution_count": 27,
      "outputs": [
        {
          "output_type": "stream",
          "name": "stdout",
          "text": [
            "Happy\n",
            "p is repeated for 2 times\n",
            "H is repeated for 1 times\n",
            "y is repeated for 1 times\n",
            "a is repeated for 1 times\n",
            "Happy {'p', 'H', 'y', 'a'}\n"
          ]
        }
      ]
    },
    {
      "cell_type": "code",
      "source": [
        "#8. Read a string display the string in the toggle case where the charecter is always a capital letter (cap smm cap smm....).\n",
        "#Method 1\n",
        "s=input(\"Enter any string :\")\n",
        "for i in range(0,len(s)):\n",
        "    if ((i%2==0) and (ord(s[i])>=97 and ord(s[i])<=122)):\n",
        "        print(chr(ord(s[i])-32),end='')\n",
        "    elif ((i%2==0) and (ord(s[i])>=65 and ord(s[i])<=90)):\n",
        "        print(s[i],end='')\n",
        "    elif((i%2!=0) and (ord(s[i])>=65 and ord(s[i])<=90)):\n",
        "        print(chr(ord(s[i])+32),end='')\n",
        "    elif ((i%2!=0) and (ord(s[i])>=97 and ord(s[i])<=122)):\n",
        "        print(s[i],end='')\n",
        "    elif (s[i]==' ' or '\\n' or '\\t'):\n",
        "        print(s[i],end='')\n",
        "    else:\n",
        "        print(s[i],end='')"
      ],
      "metadata": {
        "colab": {
          "base_uri": "https://localhost:8080/"
        },
        "id": "48WsB07S23Lg",
        "outputId": "452d2d3f-a88c-459f-b82a-a2d65390e39f"
      },
      "execution_count": 11,
      "outputs": [
        {
          "output_type": "stream",
          "name": "stdout",
          "text": [
            "Enter any string :gitam cse@1234\n",
            "GiTaM CsE@1234"
          ]
        }
      ]
    },
    {
      "cell_type": "code",
      "source": [
        "#method 2\n",
        "s=input(\"Enter any string :\")\n",
        "ans=''\n",
        "for i in range(0,len(s)):\n",
        "    if ((i%2==0) and (ord(s[i])>=97 and ord(s[i])<=122)):\n",
        "        ans=ans+chr(ord(s[i])-32)\n",
        "    elif ((i%2==0) and (ord(s[i])>=65 and ord(s[i])<=90)):\n",
        "        ans=ans+s[i]\n",
        "    elif((i%2!=0) and (ord(s[i])>=65 and ord(s[i])<=90)):\n",
        "        ans=ans+chr(ord(s[i])+32)\n",
        "    elif ((i%2!=0) and (ord(s[i])>=97 and ord(s[i])<=122)):\n",
        "        ans=ans+s[i]\n",
        "    elif (s[i]==' ' or '\\n' or '\\t'):\n",
        "        ans=ans+s[i]\n",
        "    else:\n",
        "        ans=ans+s[i]\n",
        "print(ans)"
      ],
      "metadata": {
        "colab": {
          "base_uri": "https://localhost:8080/"
        },
        "id": "czrXapL897yq",
        "outputId": "3468eaec-4e1f-458e-99be-405d1d65c7f7"
      },
      "execution_count": 18,
      "outputs": [
        {
          "output_type": "stream",
          "name": "stdout",
          "text": [
            "Enter any string :Tarun\n",
            "TaRuN\n"
          ]
        }
      ]
    },
    {
      "cell_type": "code",
      "source": [
        ""
      ],
      "metadata": {
        "id": "5nBMp9oSHcGf"
      },
      "execution_count": null,
      "outputs": []
    }
  ]
}