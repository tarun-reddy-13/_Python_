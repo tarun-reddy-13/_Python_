{
  "nbformat": 4,
  "nbformat_minor": 0,
  "metadata": {
    "colab": {
      "name": "Sample questions.ipynb",
      "provenance": [],
      "authorship_tag": "ABX9TyPKZVeSMKzHGcoJBp74Hs9D",
      "include_colab_link": true
    },
    "kernelspec": {
      "name": "python3",
      "display_name": "Python 3"
    },
    "language_info": {
      "name": "python"
    }
  },
  "cells": [
    {
      "cell_type": "markdown",
      "metadata": {
        "id": "view-in-github",
        "colab_type": "text"
      },
      "source": [
        "<a href=\"https://colab.research.google.com/github/tarun-reddy-13/_Python_/blob/main/Sample_questions.ipynb\" target=\"_parent\"><img src=\"https://colab.research.google.com/assets/colab-badge.svg\" alt=\"Open In Colab\"/></a>"
      ]
    },
    {
      "cell_type": "markdown",
      "source": [
        "Ms. Purva is studying for B.Sc (Mathematics), her professor has given a task to find the sum of digits in the given number with few constraints, the constraints are:\n",
        "\n",
        "1. Compute the sum of even and odd digits separately.\n",
        "\n",
        "2. Find the absolute difference between the even and odd sum obtained by adding the digits.\n",
        "\n",
        "3. Display Jack if the obtained result on subtraction is even number.\n",
        "\n",
        "4. Display Black if the obtained result on subtraction is odd number.\n",
        "\n",
        "Help pruva in designing the code with constraints.\n",
        "\n",
        "Sample Input 01 :\n",
        "\n",
        "438\n",
        "\n",
        "Sample Output 01 :\n",
        "\n",
        "Black\n",
        "\n",
        "Sample Input 02 :\n",
        "\n",
        "332\n",
        "\n",
        "Sample Output 02 :\n",
        "\n",
        "Jack"
      ],
      "metadata": {
        "id": "2dzuptcaBCQY"
      }
    },
    {
      "cell_type": "code",
      "source": [
        "n=int(input())\n",
        "es=0;os=0\n",
        "while n!=0:\n",
        "    if(n%2==0):\n",
        "        es=es+(n%2)\n",
        "    else:\n",
        "        os=os+(n%2)\n",
        "    n//=10\n",
        "x=abs(es-os)\n",
        "if(x%2==0):\n",
        "    print(\"jack\")\n",
        "else:\n",
        "    print(\"Black\")"
      ],
      "metadata": {
        "colab": {
          "base_uri": "https://localhost:8080/"
        },
        "id": "ALv33Ax_CNyx",
        "outputId": "6b86aace-3ae3-47d8-8598-7849825ba41c"
      },
      "execution_count": null,
      "outputs": [
        {
          "output_type": "stream",
          "name": "stdout",
          "text": [
            "438\n",
            "Black\n"
          ]
        }
      ]
    },
    {
      "cell_type": "markdown",
      "source": [
        "Mr. Jack is having three numbers between 1 to 11, he wants to perform the sum of three numbers and display the sum accordingly to the following conditions:\n",
        "\n",
        "1. if the sum of three numbers is less than or equal to 21, then Jack wants to display the sum as it is.\n",
        "\n",
        "2. if the sum of three numbers exceeds 21 and if 11 is included in finding the sum then display the result as sum - 10.\n",
        "\n",
        "3. if the sum of three numbers exceeds 21 and if 11 is not included in finding the sum then display \"BUST\"\n",
        "\n",
        "Help Jack in designing the code to meet the requirements.\n",
        "\n",
        "Sample Input 01 :\n",
        "\n",
        "7\n",
        "\n",
        "8\n",
        "\n",
        "10\n",
        "\n",
        "Sample Output 01 :\n",
        "\n",
        "BUST\n",
        "\n",
        "Sample Input 02 :\n",
        "\n",
        "2\n",
        "\n",
        "7\n",
        "\n",
        "9\n",
        "\n",
        "Sample Output 02 :\n",
        "\n",
        "Obtained sum is 18\n",
        "\n"
      ],
      "metadata": {
        "id": "AM-gR-hyG5CH"
      }
    },
    {
      "cell_type": "code",
      "source": [
        "n1=int(input());n2=int(input());n3=int(input())\n",
        "sum=n1+n2+n3\n",
        "if sum<=21:\n",
        "    print(sum)\n",
        "elif sum<21 and (n1==11 or n2==11 or n3==1):\n",
        "    print(sum-10)\n",
        "else:\n",
        "    print(\"BUST\")"
      ],
      "metadata": {
        "colab": {
          "base_uri": "https://localhost:8080/"
        },
        "id": "sntB_7QeCPNn",
        "outputId": "4c55e52f-01a6-46dc-83b5-91b3b7d9b3bb"
      },
      "execution_count": null,
      "outputs": [
        {
          "output_type": "stream",
          "name": "stdout",
          "text": [
            "2\n",
            "7\n",
            "9\n",
            "18\n"
          ]
        }
      ]
    },
    {
      "cell_type": "markdown",
      "source": [
        "even greatest\n",
        "odd sum of odd and sum of odd is Even\n",
        "else\n",
        "min"
      ],
      "metadata": {
        "id": "BV-udz-sH7Zv"
      }
    },
    {
      "cell_type": "code",
      "source": [
        "n1=int(input());n2=int(input())\n",
        "if n1%2==0 and n2%2==0:\n",
        "    print(n1) if n1>n2 else print(n2)\n",
        "elif n1%2!=0 and n2%2!=0:\n",
        "    print(n1+n2)\n",
        "else:\n",
        "    print(n1) if n1<n2 else print(n2)"
      ],
      "metadata": {
        "colab": {
          "base_uri": "https://localhost:8080/"
        },
        "id": "EtgQaNsgIe6U",
        "outputId": "5a88e527-6900-4d21-9c7e-a478df150bbb"
      },
      "execution_count": null,
      "outputs": [
        {
          "output_type": "stream",
          "name": "stdout",
          "text": [
            "9\n",
            "4\n",
            "4\n"
          ]
        }
      ]
    },
    {
      "cell_type": "code",
      "source": [
        "x=int(input(\"Starting point :\"))\n",
        "y=int(input(\"End point :\"))\n",
        "for i in range(x,y+1):\n",
        "    if(i%3==0 and i%5==0):\n",
        "        print(\"OHAH\")\n",
        "    elif i%3==0:\n",
        "        print(\"OH\")\n",
        "    elif i%5==0:\n",
        "        print(\"AH\")\n",
        "    else:\n",
        "        print(i)"
      ],
      "metadata": {
        "colab": {
          "base_uri": "https://localhost:8080/"
        },
        "id": "D8Jdq8amJEj-",
        "outputId": "f77c93e1-2537-4d7f-9d0d-2a788004d424"
      },
      "execution_count": null,
      "outputs": [
        {
          "output_type": "stream",
          "name": "stdout",
          "text": [
            "Starting point :5\n",
            "End point :15\n",
            "AH\n",
            "OH\n",
            "7\n",
            "8\n",
            "OH\n",
            "AH\n",
            "11\n",
            "OH\n",
            "13\n",
            "14\n",
            "OHAH\n"
          ]
        }
      ]
    },
    {
      "cell_type": "markdown",
      "source": [
        "Karun is interested in identifying whether the given string is palindrome or not. On identification, Karun is willing to compute the following things to give as the output.\n",
        "\n",
        "1. If the String is Not Palindrome, He wants to Print the length of the string.\n",
        "2. if the String is Palindrome, He wants to print the length of repeated characters, which are responsible to make the palindrome string.\n",
        "3. if the String is Blank Space, He wants to alert the user to input valid string.\n",
        "\n",
        "Help karun to design the code to find the input string is palindrome or not and display the required things.\n",
        "\n",
        "Sample Input1:\n",
        "MADAM\n",
        "Sample Output1:\n",
        "2\n",
        "Sample Input2:\n",
        "\n",
        "Sample Output2:\n",
        "Enter a valid string."
      ],
      "metadata": {
        "id": "dx0hBDwXKEVf"
      }
    },
    {
      "cell_type": "code",
      "source": [
        ""
      ],
      "metadata": {
        "id": "uxD7F6ZNOhLF"
      },
      "execution_count": null,
      "outputs": []
    },
    {
      "cell_type": "code",
      "source": [
        "s=input()\n",
        "if (\" \" == s) or(\"\\t\" ==s):\n",
        "        print(\"Enter a valid string\")\n",
        "elif(s!=s[::-1]):\n",
        "    print(len(s))\n",
        "elif(s==s[::-1]):\n",
        "    print(len(s)//2)"
      ],
      "metadata": {
        "colab": {
          "base_uri": "https://localhost:8080/"
        },
        "id": "w9a_mFjNN3F5",
        "outputId": "246aef4e-3309-4614-ee7a-cdabd486a70f"
      },
      "execution_count": null,
      "outputs": [
        {
          "output_type": "stream",
          "name": "stdout",
          "text": [
            " \n",
            "Enter a valid string\n"
          ]
        }
      ]
    }
  ]
}