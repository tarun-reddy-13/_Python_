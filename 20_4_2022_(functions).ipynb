{
  "nbformat": 4,
  "nbformat_minor": 0,
  "metadata": {
    "colab": {
      "name": "20/4/2022 (functions).ipynb",
      "provenance": [],
      "collapsed_sections": [],
      "authorship_tag": "ABX9TyP2+mWinXhgrSWiuV/nyV1b",
      "include_colab_link": true
    },
    "kernelspec": {
      "name": "python3",
      "display_name": "Python 3"
    },
    "language_info": {
      "name": "python"
    }
  },
  "cells": [
    {
      "cell_type": "markdown",
      "metadata": {
        "id": "view-in-github",
        "colab_type": "text"
      },
      "source": [
        "<a href=\"https://colab.research.google.com/github/tarun-reddy-13/_Python_/blob/main/20_4_2022_(functions).ipynb\" target=\"_parent\"><img src=\"https://colab.research.google.com/assets/colab-badge.svg\" alt=\"Open In Colab\"/></a>"
      ]
    },
    {
      "cell_type": "markdown",
      "source": [
        "Paramaters in fun def are formal, in fun call actual. as python is a dynamically typed so the paramaters dosent have specified datatype as like in c."
      ],
      "metadata": {
        "id": "DdynGjHwI_O8"
      }
    },
    {
      "cell_type": "markdown",
      "source": [
        "Examples for function with parameters and with return type"
      ],
      "metadata": {
        "id": "SCZRa8R5MXgL"
      }
    },
    {
      "cell_type": "code",
      "execution_count": null,
      "metadata": {
        "id": "8-7ntfmPHC4m"
      },
      "outputs": [],
      "source": [
        "#defining a function to perform sum of two numbers and also to concatinate two strings :\n",
        "def sum(x,y):\n",
        "    return x+y"
      ]
    },
    {
      "cell_type": "code",
      "source": [
        "#Using function to add two integers :\n",
        "a=10\n",
        "b=20\n",
        "print(\"sum of a and b :\",sum(a,b))"
      ],
      "metadata": {
        "colab": {
          "base_uri": "https://localhost:8080/"
        },
        "id": "uC-8Sb8PKfg8",
        "outputId": "ea37f06a-6f33-4fe1-e6ff-43aafe4c30cc"
      },
      "execution_count": null,
      "outputs": [
        {
          "output_type": "stream",
          "name": "stdout",
          "text": [
            "sum of a and b : 30\n"
          ]
        }
      ]
    },
    {
      "cell_type": "code",
      "source": [
        "#Using function to add one integer and one floating value :\n",
        "a=10.5\n",
        "b=20\n",
        "print(\"sum of a and b :\",sum(a,b))"
      ],
      "metadata": {
        "colab": {
          "base_uri": "https://localhost:8080/"
        },
        "id": "Z5O6mbrcKr0E",
        "outputId": "ab528f6e-5812-46c5-b85c-435e13f33a5a"
      },
      "execution_count": null,
      "outputs": [
        {
          "output_type": "stream",
          "name": "stdout",
          "text": [
            "sum of a and b : 30.5\n"
          ]
        }
      ]
    },
    {
      "cell_type": "code",
      "source": [
        "#Using function to concatinate two strings :\n",
        "a=\"Gitam \"\n",
        "b=\"University\"\n",
        "print(\"Concatinating a and b :\",sum(a,b))"
      ],
      "metadata": {
        "colab": {
          "base_uri": "https://localhost:8080/"
        },
        "id": "ZLR9iCXDK12L",
        "outputId": "5406096a-3436-425e-e4c1-d995dd728a28"
      },
      "execution_count": null,
      "outputs": [
        {
          "output_type": "stream",
          "name": "stdout",
          "text": [
            "Concatinating a and b : Gitam University\n"
          ]
        }
      ]
    },
    {
      "cell_type": "code",
      "source": [
        "#Using function to add two complex numbers :\n",
        "a=2-8j\n",
        "b=5+18j\n",
        "print(\"Sum of a and b :\",sum(a,b))"
      ],
      "metadata": {
        "colab": {
          "base_uri": "https://localhost:8080/"
        },
        "id": "8qwNPiv1LDE8",
        "outputId": "346742af-391b-4f4b-c1ee-a4d44fd88525"
      },
      "execution_count": null,
      "outputs": [
        {
          "output_type": "stream",
          "name": "stdout",
          "text": [
            "Sum of a and b : (7+10j)\n"
          ]
        }
      ]
    },
    {
      "cell_type": "markdown",
      "source": [
        "In the case of function without return type the variables are to be declared globally so that they can be accessed in the function to perform the task defined in the function.\n"
      ],
      "metadata": {
        "id": "Y14GEpJHMTDk"
      }
    },
    {
      "cell_type": "code",
      "source": [
        "#Function without parameters and with return type.\n",
        "def sum():\n",
        "    return x+y\n",
        "x=int(input())\n",
        "y=int(input())\n",
        "print(sum())"
      ],
      "metadata": {
        "colab": {
          "base_uri": "https://localhost:8080/"
        },
        "id": "A776HQtEJvfb",
        "outputId": "35fdeea0-36f5-475b-c7f0-5a02d6ed13e4"
      },
      "execution_count": null,
      "outputs": [
        {
          "output_type": "stream",
          "name": "stdout",
          "text": [
            "4\n",
            "5\n",
            "9\n"
          ]
        }
      ]
    },
    {
      "cell_type": "code",
      "source": [
        "#gives error because m,n are not declared \n",
        "def sum():\n",
        "    return m+n\n",
        "x1=int(input())\n",
        "y1=int(input())\n",
        "print(sum())"
      ],
      "metadata": {
        "colab": {
          "base_uri": "https://localhost:8080/",
          "height": 356
        },
        "id": "SNRpxRQLQvfu",
        "outputId": "82d5dee2-ffe8-45ce-bf2d-396927db9ca0"
      },
      "execution_count": 1,
      "outputs": [
        {
          "name": "stdout",
          "output_type": "stream",
          "text": [
            "6\n",
            "7\n"
          ]
        },
        {
          "output_type": "error",
          "ename": "NameError",
          "evalue": "ignored",
          "traceback": [
            "\u001b[0;31m---------------------------------------------------------------------------\u001b[0m",
            "\u001b[0;31mNameError\u001b[0m                                 Traceback (most recent call last)",
            "\u001b[0;32m<ipython-input-1-ae09898dab9b>\u001b[0m in \u001b[0;36m<module>\u001b[0;34m()\u001b[0m\n\u001b[1;32m      3\u001b[0m \u001b[0mx1\u001b[0m\u001b[0;34m=\u001b[0m\u001b[0mint\u001b[0m\u001b[0;34m(\u001b[0m\u001b[0minput\u001b[0m\u001b[0;34m(\u001b[0m\u001b[0;34m)\u001b[0m\u001b[0;34m)\u001b[0m\u001b[0;34m\u001b[0m\u001b[0;34m\u001b[0m\u001b[0m\n\u001b[1;32m      4\u001b[0m \u001b[0my1\u001b[0m\u001b[0;34m=\u001b[0m\u001b[0mint\u001b[0m\u001b[0;34m(\u001b[0m\u001b[0minput\u001b[0m\u001b[0;34m(\u001b[0m\u001b[0;34m)\u001b[0m\u001b[0;34m)\u001b[0m\u001b[0;34m\u001b[0m\u001b[0;34m\u001b[0m\u001b[0m\n\u001b[0;32m----> 5\u001b[0;31m \u001b[0mprint\u001b[0m\u001b[0;34m(\u001b[0m\u001b[0msum\u001b[0m\u001b[0;34m(\u001b[0m\u001b[0;34m)\u001b[0m\u001b[0;34m)\u001b[0m\u001b[0;34m\u001b[0m\u001b[0;34m\u001b[0m\u001b[0m\n\u001b[0m",
            "\u001b[0;32m<ipython-input-1-ae09898dab9b>\u001b[0m in \u001b[0;36msum\u001b[0;34m()\u001b[0m\n\u001b[1;32m      1\u001b[0m \u001b[0;32mdef\u001b[0m \u001b[0msum\u001b[0m\u001b[0;34m(\u001b[0m\u001b[0;34m)\u001b[0m\u001b[0;34m:\u001b[0m\u001b[0;34m\u001b[0m\u001b[0;34m\u001b[0m\u001b[0m\n\u001b[0;32m----> 2\u001b[0;31m     \u001b[0;32mreturn\u001b[0m \u001b[0mm\u001b[0m\u001b[0;34m+\u001b[0m\u001b[0mn\u001b[0m\u001b[0;34m\u001b[0m\u001b[0;34m\u001b[0m\u001b[0m\n\u001b[0m\u001b[1;32m      3\u001b[0m \u001b[0mx1\u001b[0m\u001b[0;34m=\u001b[0m\u001b[0mint\u001b[0m\u001b[0;34m(\u001b[0m\u001b[0minput\u001b[0m\u001b[0;34m(\u001b[0m\u001b[0;34m)\u001b[0m\u001b[0;34m)\u001b[0m\u001b[0;34m\u001b[0m\u001b[0;34m\u001b[0m\u001b[0m\n\u001b[1;32m      4\u001b[0m \u001b[0my1\u001b[0m\u001b[0;34m=\u001b[0m\u001b[0mint\u001b[0m\u001b[0;34m(\u001b[0m\u001b[0minput\u001b[0m\u001b[0;34m(\u001b[0m\u001b[0;34m)\u001b[0m\u001b[0;34m)\u001b[0m\u001b[0;34m\u001b[0m\u001b[0;34m\u001b[0m\u001b[0m\n\u001b[1;32m      5\u001b[0m \u001b[0mprint\u001b[0m\u001b[0;34m(\u001b[0m\u001b[0msum\u001b[0m\u001b[0;34m(\u001b[0m\u001b[0;34m)\u001b[0m\u001b[0;34m)\u001b[0m\u001b[0;34m\u001b[0m\u001b[0;34m\u001b[0m\u001b[0m\n",
            "\u001b[0;31mNameError\u001b[0m: name 'm' is not defined"
          ]
        }
      ]
    },
    {
      "cell_type": "code",
      "source": [
        "#Function without parameters and without return values :\n",
        "def area():\n",
        "    print(\"Area of rectangle is :\",l*b)\n",
        "\n",
        "l=int(input(\"Enter the length of rectangle :\"))\n",
        "b=int(input(\"Enter the bredth of the rectangle :\"))\n",
        "area()"
      ],
      "metadata": {
        "colab": {
          "base_uri": "https://localhost:8080/"
        },
        "id": "8mrEtbWgNv50",
        "outputId": "3957c4d7-a7c1-4e84-e1d0-684389eb55a2"
      },
      "execution_count": null,
      "outputs": [
        {
          "output_type": "stream",
          "name": "stdout",
          "text": [
            "Enter the length of rectangle :6\n",
            "Enter the bredth of the rectangle :4\n",
            "Area of rectangle is : 24\n"
          ]
        }
      ]
    },
    {
      "cell_type": "code",
      "source": [
        "#Function with parameters and without return value:\n",
        "def sum(n):\n",
        "    num=n\n",
        "    s=0\n",
        "    while n!=0:\n",
        "        s=s+(n%10)\n",
        "        n=n//10\n",
        "    print(\"Sum of digits in\",num,\"is :\",s)\n",
        "\n",
        "x=int(input(\"Enter any number :\"))\n",
        "sum(x)"
      ],
      "metadata": {
        "colab": {
          "base_uri": "https://localhost:8080/"
        },
        "id": "D6LlMz7lOLaz",
        "outputId": "ccdec547-2e2a-407e-c5a6-3fb12d0626d1"
      },
      "execution_count": null,
      "outputs": [
        {
          "output_type": "stream",
          "name": "stdout",
          "text": [
            "Enter any number :2468\n",
            "Sum of digits in 2468 is : 20\n"
          ]
        }
      ]
    },
    {
      "cell_type": "code",
      "source": [
        "#Always positional  arg should be placed first and the =n default arg should be placed else it gives an error as below :\n",
        "def sum(x=10,y):\n",
        "    return x+y\n",
        "c=10\n",
        "d=20\n",
        "print(sum(c,d))\n",
        "print(sum(d,c))\n",
        "print(sum(d))\n",
        "print(sum())"
      ],
      "metadata": {
        "colab": {
          "base_uri": "https://localhost:8080/",
          "height": 130
        },
        "id": "i5f2p410WYX6",
        "outputId": "bde59a68-dbab-4436-c97a-6d97f2770560"
      },
      "execution_count": null,
      "outputs": [
        {
          "output_type": "error",
          "ename": "SyntaxError",
          "evalue": "ignored",
          "traceback": [
            "\u001b[0;36m  File \u001b[0;32m\"<ipython-input-27-e3afcfc56762>\"\u001b[0;36m, line \u001b[0;32m1\u001b[0m\n\u001b[0;31m    def sum(x=10,y):\u001b[0m\n\u001b[0m           ^\u001b[0m\n\u001b[0;31mSyntaxError\u001b[0m\u001b[0;31m:\u001b[0m non-default argument follows default argument\n"
          ]
        }
      ]
    },
    {
      "cell_type": "code",
      "source": [
        "#Correct method :\n",
        "m=10\n",
        "n=20\n",
        "def sum(x,y=10):\n",
        "    return x+y\n",
        "\n",
        "c=10\n",
        "d=20\n",
        "print(\"sum of a and b :\",sum(c))"
      ],
      "metadata": {
        "colab": {
          "base_uri": "https://localhost:8080/"
        },
        "id": "Q7B_JFltSvXD",
        "outputId": "ff0ec98d-d75a-41d6-d9e6-1bd64c297345"
      },
      "execution_count": null,
      "outputs": [
        {
          "output_type": "stream",
          "name": "stdout",
          "text": [
            "sum of a and b : 20\n"
          ]
        }
      ]
    },
    {
      "cell_type": "markdown",
      "source": [
        "WAP to generate a sries of numbers from x to y with the following conditions: \n",
        "1. print \"clap\" in the place of multiples of 3.\n",
        "2. print \"clap\" if the number contains 3, 6, 9."
      ],
      "metadata": {
        "id": "dZW62xdAWDrF"
      }
    },
    {
      "cell_type": "code",
      "source": [
        "def is_3_6_9_in(n):\n",
        "    l=[]\n",
        "    flag=False\n",
        "    if n%3==0:\n",
        "        flag=True\n",
        "    else:\n",
        "        l=set(str(n))\n",
        "        if(\"3\" in l or \"6\" in l or \"9\" in l):\n",
        "            flag=True\n",
        "    if(flag!=True):\n",
        "        flag=False\n",
        "    return flag\n",
        "\n",
        "def check_series(x,y):\n",
        "    for i in range(x,y+1):\n",
        "        if is_3_6_9_in(i) is True:\n",
        "            print(\"clap\",end=\" \")\n",
        "        else:\n",
        "            print(i,end=\" \")\n",
        "\n",
        "sp=int(input(\"Enter the starting point of the series :\"))\n",
        "ep=int(input(\"Enter the end point of the series :\"))\n",
        "check_series(sp,ep)"
      ],
      "metadata": {
        "id": "UcHGSaL5bE0A",
        "colab": {
          "base_uri": "https://localhost:8080/"
        },
        "outputId": "cd2df2ab-7e12-4e91-982a-9de88dd26703"
      },
      "execution_count": null,
      "outputs": [
        {
          "output_type": "stream",
          "name": "stdout",
          "text": [
            "Enter the starting point of the series :120\n",
            "Enter the end point of the series :150\n",
            "clap 121 122 clap 124 125 clap 127 128 clap clap clap clap clap clap clap clap clap clap clap 140 clap 142 clap clap 145 clap clap 148 clap clap "
          ]
        }
      ]
    }
  ]
}