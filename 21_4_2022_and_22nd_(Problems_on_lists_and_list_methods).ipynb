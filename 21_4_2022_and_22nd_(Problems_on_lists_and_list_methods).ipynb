{
  "nbformat": 4,
  "nbformat_minor": 0,
  "metadata": {
    "colab": {
      "name": "21/4/2022  and 22nd (Problems on lists and list methods).ipynb",
      "provenance": [],
      "collapsed_sections": [],
      "authorship_tag": "ABX9TyPAPtuzTjOyFoLKudrGENVP",
      "include_colab_link": true
    },
    "kernelspec": {
      "name": "python3",
      "display_name": "Python 3"
    },
    "language_info": {
      "name": "python"
    }
  },
  "cells": [
    {
      "cell_type": "markdown",
      "metadata": {
        "id": "view-in-github",
        "colab_type": "text"
      },
      "source": [
        "<a href=\"https://colab.research.google.com/github/tarun-reddy-13/_Python_/blob/main/21_4_2022_and_22nd_(Problems_on_lists_and_list_methods).ipynb\" target=\"_parent\"><img src=\"https://colab.research.google.com/assets/colab-badge.svg\" alt=\"Open In Colab\"/></a>"
      ]
    },
    {
      "cell_type": "markdown",
      "source": [
        "1. Read a list of n numbers and print the original list and the reversed list.\n",
        "2. Initialize a list using assignment operator, display the total no.of elements in the list.\n",
        "3. Read a list and find the second minimun from the list.\n",
        "4. WAP to generate a sries of numbers from x to y with the following conditions:\n",
        "\n",
        "\n",
        "*   print \"clap\" in the place of multiples of 3.\n",
        "\n",
        "*   print \"clap\" if the number contains 3, 6, 9.\n",
        "\n",
        "\n",
        "\n"
      ],
      "metadata": {
        "id": "usOdB4l6Do2i"
      }
    },
    {
      "cell_type": "code",
      "source": [
        "#1. Read a list of n numbers and print the original list and the reversed list.\n",
        "#method 1\n",
        "m=[]\n",
        "x=[]\n",
        "n=int(input(\"Enter the size of list :\"))\n",
        "print(\"Enter\",n,\"elements to the list\")\n",
        "for i in range(0,n):\n",
        "    m.append(input())\n",
        "print(\"Given list:\",m)\n",
        "for i in range(len(m)-1,-1,-1):\n",
        "        x.append(m[i]) \n",
        "print(\"Reversed list:\",x)"
      ],
      "metadata": {
        "colab": {
          "base_uri": "https://localhost:8080/"
        },
        "id": "hHkzr3YKEnhR",
        "outputId": "4e75fc49-bdf4-4fb3-a5a5-116567bcea01"
      },
      "execution_count": null,
      "outputs": [
        {
          "output_type": "stream",
          "name": "stdout",
          "text": [
            "Enter the size of list :4\n",
            "Enter 4 elements to the list\n",
            "1\n",
            "2\n",
            "3\n",
            "4\n",
            "Given list: ['1', '2', '3', '4']\n",
            "Reversed list: ['4', '3', '2', '1']\n"
          ]
        }
      ]
    },
    {
      "cell_type": "code",
      "source": [
        "#method 2\n",
        "m=[]\n",
        "x=[]\n",
        "n=int(input(\"Enter the size of list :\"))\n",
        "print(\"Enter\",n,\"elements to the list\")\n",
        "for i in range(0,n):\n",
        "    m.append(int(input()))\n",
        "print(\"Given list:\",m)\n",
        "for i in range(0,n//2):\n",
        "    m[i],m[n-1-i]=m[n-1-i],m[i]\n",
        "print(\"Reversed list:\",m)"
      ],
      "metadata": {
        "colab": {
          "base_uri": "https://localhost:8080/"
        },
        "id": "S7n-1sItT19B",
        "outputId": "1abef7eb-b552-4422-f70f-aa7cbbe70711"
      },
      "execution_count": null,
      "outputs": [
        {
          "output_type": "stream",
          "name": "stdout",
          "text": [
            "Enter the size of list :6\n",
            "Enter 6 elements to the list\n",
            "1\n",
            "5\n",
            "3\n",
            "8\n",
            "5\n",
            "4\n",
            "Given list: [1, 5, 3, 8, 5, 4]\n",
            "Reversed list: [4, 5, 8, 3, 5, 1]\n"
          ]
        }
      ]
    },
    {
      "cell_type": "code",
      "source": [
        "#2. Initialize a list using assignment operator, display the total no.of elements in the list.\n",
        "l=[1,2,3,\"a\",\"b\"]\n",
        "c=0\n",
        "for i in l:\n",
        "    c+=1\n",
        "print(\"Total no.of elements in the list :\",c)"
      ],
      "metadata": {
        "colab": {
          "base_uri": "https://localhost:8080/"
        },
        "id": "t1TW0cQMF0iY",
        "outputId": "7a78f276-d10a-4e4e-c04e-e9979ce4e76e"
      },
      "execution_count": null,
      "outputs": [
        {
          "output_type": "stream",
          "name": "stdout",
          "text": [
            "Total no.of elements in the list : 5\n"
          ]
        }
      ]
    },
    {
      "cell_type": "code",
      "source": [
        "#3. Read a list and find the second minimun from the list.\n",
        "#method 1 by sorting\n",
        "l=[]\n",
        "n=int(input(\"Enter the size of list :\"))\n",
        "print(\"Enter\",n,\"elements to the list\")\n",
        "for i in range(0,n):\n",
        "    l.append(int(input()))\n",
        "for p in range(0,n):\n",
        "    for q in range(0,n):\n",
        "        if(l[p]<l[q]):\n",
        "            l[p],l[q]=l[q],l[p]\n",
        "s=set(l)\n",
        "x=list(s)\n",
        "print(\"Given list:\",l,\"\\nSecond minimum :\",x[1])"
      ],
      "metadata": {
        "colab": {
          "base_uri": "https://localhost:8080/"
        },
        "id": "XogF_6V7HI2R",
        "outputId": "72059963-75bd-482e-ea70-bceb9f83ff33"
      },
      "execution_count": null,
      "outputs": [
        {
          "output_type": "stream",
          "name": "stdout",
          "text": [
            "Enter the size of list :5\n",
            "Enter 5 elements to the list\n",
            "1\n",
            "1\n",
            "2\n",
            "12\n",
            "2\n",
            "Given list: [1, 1, 2, 2, 12] \n",
            "Second minimum : 2\n"
          ]
        }
      ]
    },
    {
      "cell_type": "code",
      "source": [
        "#method 2 without sorting giving error check once\n",
        "l=[]\n",
        "n=int(input(\"Enter the size of list :\"))\n",
        "print(\"Enter\",n,\"elements to the list\")\n",
        "for i in range(0,n):\n",
        "    l.append(int(input()))\n",
        "min=l[0]\n",
        "smin=l[0]\n",
        "for i in range(0,n):\n",
        "    if(l[i]<min):\n",
        "        smin=min\n",
        "        min=l[i]\n",
        "    elif min<l[i]:\n",
        "        smin=l[i]\n",
        "print(\"Given list :\",l,\"\\nSecond minimum in the list :\",smin)\n",
        "        "
      ],
      "metadata": {
        "colab": {
          "base_uri": "https://localhost:8080/"
        },
        "id": "6BL776LdZ9K4",
        "outputId": "a17df1da-4738-4fd1-b2e4-77980ece952e"
      },
      "execution_count": null,
      "outputs": [
        {
          "output_type": "stream",
          "name": "stdout",
          "text": [
            "Enter the size of list :5\n",
            "Enter 5 elements to the list\n",
            "1\n",
            "3\n",
            "5\n",
            "7\n",
            "2\n",
            "Given list : [1, 3, 5, 7, 2] \n",
            "Second minimum in the list : 2\n"
          ]
        }
      ]
    },
    {
      "cell_type": "markdown",
      "source": [
        "WAP to generate a list of numbers from x to y with the following conditions:\n",
        "\n",
        "1. print \"clap\" in the place of multiples of 3.\n",
        "2. print \"clap\" if the number contains 3, 6, 9."
      ],
      "metadata": {
        "id": "E3bnQVsUNxF6"
      }
    },
    {
      "cell_type": "code",
      "source": [
        "#4 method 1 using list\n",
        "def is_3_6_9_in(n):\n",
        "    l=[]\n",
        "    flag=False\n",
        "    if n%3==0:\n",
        "        flag=True\n",
        "    else:\n",
        "        l=set(str(n))\n",
        "        if(\"3\" in l or \"6\" in l or \"9\" in l):\n",
        "            flag=True\n",
        "    if(flag!=True):\n",
        "        flag=False\n",
        "    return flag\n",
        "\n",
        "def generate_series(x,y):\n",
        "    l=[]\n",
        "    for i in range(x,y+1):\n",
        "        if is_3_6_9_in(i) is True:\n",
        "            l.append(\"clap\")     \n",
        "        else:\n",
        "            l.append(i)\n",
        "    return l\n",
        "\n",
        "sp=int(input(\"Enter the starting point of the series :\"))\n",
        "ep=int(input(\"Enter the end point of the series :\"))\n",
        "print(\"Required series :\",generate_series(sp,ep))"
      ],
      "metadata": {
        "colab": {
          "base_uri": "https://localhost:8080/"
        },
        "id": "DQGm3jt5JroB",
        "outputId": "d642e037-feae-4211-bb5e-88f4102bd784"
      },
      "execution_count": null,
      "outputs": [
        {
          "output_type": "stream",
          "name": "stdout",
          "text": [
            "Enter the starting point of the series :120\n",
            "Enter the end point of the series :180\n",
            "Required series : ['clap', 121, 122, 'clap', 124, 125, 'clap', 127, 128, 'clap', 'clap', 'clap', 'clap', 'clap', 'clap', 'clap', 'clap', 'clap', 'clap', 'clap', 140, 'clap', 142, 'clap', 'clap', 145, 'clap', 'clap', 148, 'clap', 'clap', 151, 152, 'clap', 154, 155, 'clap', 157, 158, 'clap', 'clap', 'clap', 'clap', 'clap', 'clap', 'clap', 'clap', 'clap', 'clap', 'clap', 170, 'clap', 172, 'clap', 'clap', 175, 'clap', 'clap', 178, 'clap', 'clap']\n"
          ]
        }
      ]
    },
    {
      "cell_type": "code",
      "source": [
        "#method 2 using list\n",
        "sp=int(input(\"Enter the starting point of the series :\"))\n",
        "ep=int(input(\"Enter the end point of the series :\"))\n",
        "l=[]\n",
        "for i in range(sp,ep+1):\n",
        "    if i%3==0:\n",
        "        l.append(\"clap\")\n",
        "    elif '3' in str(i) or '6' in str(i) or '9' in str(i):\n",
        "        l.append(\"clap\")\n",
        "    else:\n",
        "        l.append(i)\n",
        "print(l)"
      ],
      "metadata": {
        "id": "4sXEJvBMKA9V",
        "colab": {
          "base_uri": "https://localhost:8080/"
        },
        "outputId": "efdec9a2-e318-4579-a08e-4f2c06a53cb3"
      },
      "execution_count": null,
      "outputs": [
        {
          "output_type": "stream",
          "name": "stdout",
          "text": [
            "Enter the starting point of the series :10\n",
            "Enter the end point of the series :40\n",
            "[10, 11, 'clap', 'clap', 14, 'clap', 'clap', 17, 'clap', 'clap', 20, 'clap', 22, 'clap', 'clap', 25, 'clap', 'clap', 28, 'clap', 'clap', 'clap', 'clap', 'clap', 'clap', 'clap', 'clap', 'clap', 'clap', 'clap', 40]\n"
          ]
        }
      ]
    },
    {
      "cell_type": "code",
      "source": [
        "# print series\n",
        "sp=int(input(\"Enter the starting point of the series :\"))\n",
        "ep=int(input(\"Enter the end point of the series :\"))\n",
        "for i in range(sp,ep+1):\n",
        "    if i%3==0:\n",
        "        print(\"clap\",end=\" \")\n",
        "    elif '3' in str(i) or '6' in str(i) or '9' in str(i):\n",
        "        print(\"clap\",end=\" \")\n",
        "    else:\n",
        "        print(i,end=\" \")"
      ],
      "metadata": {
        "colab": {
          "base_uri": "https://localhost:8080/"
        },
        "id": "b4YjFTbbZUA6",
        "outputId": "dd9e2a52-aec0-4e42-8d32-82708d61c5fa"
      },
      "execution_count": null,
      "outputs": [
        {
          "output_type": "stream",
          "name": "stdout",
          "text": [
            "Enter the starting point of the series :10\n",
            "Enter the end point of the series :40\n",
            "10 11 clap clap 14 clap clap 17 clap clap 20 clap 22 clap clap 25 clap clap 28 clap clap clap clap clap clap clap clap clap clap clap 40 "
          ]
        }
      ]
    },
    {
      "cell_type": "code",
      "source": [
        "help(list)"
      ],
      "metadata": {
        "colab": {
          "base_uri": "https://localhost:8080/"
        },
        "id": "9YzMWkWjZnqp",
        "outputId": "628fe403-a354-4489-86ff-1a60c71ac3c5"
      },
      "execution_count": null,
      "outputs": [
        {
          "output_type": "stream",
          "name": "stdout",
          "text": [
            "Help on class list in module builtins:\n",
            "\n",
            "class list(object)\n",
            " |  list(iterable=(), /)\n",
            " |  \n",
            " |  Built-in mutable sequence.\n",
            " |  \n",
            " |  If no argument is given, the constructor creates a new empty list.\n",
            " |  The argument must be an iterable if specified.\n",
            " |  \n",
            " |  Methods defined here:\n",
            " |  \n",
            " |  __add__(self, value, /)\n",
            " |      Return self+value.\n",
            " |  \n",
            " |  __contains__(self, key, /)\n",
            " |      Return key in self.\n",
            " |  \n",
            " |  __delitem__(self, key, /)\n",
            " |      Delete self[key].\n",
            " |  \n",
            " |  __eq__(self, value, /)\n",
            " |      Return self==value.\n",
            " |  \n",
            " |  __ge__(self, value, /)\n",
            " |      Return self>=value.\n",
            " |  \n",
            " |  __getattribute__(self, name, /)\n",
            " |      Return getattr(self, name).\n",
            " |  \n",
            " |  __getitem__(...)\n",
            " |      x.__getitem__(y) <==> x[y]\n",
            " |  \n",
            " |  __gt__(self, value, /)\n",
            " |      Return self>value.\n",
            " |  \n",
            " |  __iadd__(self, value, /)\n",
            " |      Implement self+=value.\n",
            " |  \n",
            " |  __imul__(self, value, /)\n",
            " |      Implement self*=value.\n",
            " |  \n",
            " |  __init__(self, /, *args, **kwargs)\n",
            " |      Initialize self.  See help(type(self)) for accurate signature.\n",
            " |  \n",
            " |  __iter__(self, /)\n",
            " |      Implement iter(self).\n",
            " |  \n",
            " |  __le__(self, value, /)\n",
            " |      Return self<=value.\n",
            " |  \n",
            " |  __len__(self, /)\n",
            " |      Return len(self).\n",
            " |  \n",
            " |  __lt__(self, value, /)\n",
            " |      Return self<value.\n",
            " |  \n",
            " |  __mul__(self, value, /)\n",
            " |      Return self*value.\n",
            " |  \n",
            " |  __ne__(self, value, /)\n",
            " |      Return self!=value.\n",
            " |  \n",
            " |  __repr__(self, /)\n",
            " |      Return repr(self).\n",
            " |  \n",
            " |  __reversed__(self, /)\n",
            " |      Return a reverse iterator over the list.\n",
            " |  \n",
            " |  __rmul__(self, value, /)\n",
            " |      Return value*self.\n",
            " |  \n",
            " |  __setitem__(self, key, value, /)\n",
            " |      Set self[key] to value.\n",
            " |  \n",
            " |  __sizeof__(self, /)\n",
            " |      Return the size of the list in memory, in bytes.\n",
            " |  \n",
            " |  append(self, object, /)\n",
            " |      Append object to the end of the list.\n",
            " |  \n",
            " |  clear(self, /)\n",
            " |      Remove all items from list.\n",
            " |  \n",
            " |  copy(self, /)\n",
            " |      Return a shallow copy of the list.\n",
            " |  \n",
            " |  count(self, value, /)\n",
            " |      Return number of occurrences of value.\n",
            " |  \n",
            " |  extend(self, iterable, /)\n",
            " |      Extend list by appending elements from the iterable.\n",
            " |  \n",
            " |  index(self, value, start=0, stop=9223372036854775807, /)\n",
            " |      Return first index of value.\n",
            " |      \n",
            " |      Raises ValueError if the value is not present.\n",
            " |  \n",
            " |  insert(self, index, object, /)\n",
            " |      Insert object before index.\n",
            " |  \n",
            " |  pop(self, index=-1, /)\n",
            " |      Remove and return item at index (default last).\n",
            " |      \n",
            " |      Raises IndexError if list is empty or index is out of range.\n",
            " |  \n",
            " |  remove(self, value, /)\n",
            " |      Remove first occurrence of value.\n",
            " |      \n",
            " |      Raises ValueError if the value is not present.\n",
            " |  \n",
            " |  reverse(self, /)\n",
            " |      Reverse *IN PLACE*.\n",
            " |  \n",
            " |  sort(self, /, *, key=None, reverse=False)\n",
            " |      Stable sort *IN PLACE*.\n",
            " |  \n",
            " |  ----------------------------------------------------------------------\n",
            " |  Static methods defined here:\n",
            " |  \n",
            " |  __new__(*args, **kwargs) from builtins.type\n",
            " |      Create and return a new object.  See help(type) for accurate signature.\n",
            " |  \n",
            " |  ----------------------------------------------------------------------\n",
            " |  Data and other attributes defined here:\n",
            " |  \n",
            " |  __hash__ = None\n",
            "\n"
          ]
        }
      ]
    },
    {
      "cell_type": "markdown",
      "source": [
        "Demonstration of list methods\n",
        "1. append() adds the elements to the end of the list."
      ],
      "metadata": {
        "id": "a8ZirQVkeFCr"
      }
    },
    {
      "cell_type": "code",
      "source": [
        "#Read the list of n elements and print the same\n",
        "l=[]\n",
        "n=int(input(\"Enter the size of the list :\"))\n",
        "print(\"Enter the elements of list :\")\n",
        "for i in range(0,n):\n",
        "    l.append(input())\n",
        "print(l)"
      ],
      "metadata": {
        "colab": {
          "base_uri": "https://localhost:8080/"
        },
        "id": "ekChL6o7fCh4",
        "outputId": "e01e6a6e-92a8-451a-d860-6cab78ba152c"
      },
      "execution_count": null,
      "outputs": [
        {
          "output_type": "stream",
          "name": "stdout",
          "text": [
            "Enter the size of the list :5\n",
            "Enter the elements of list :\n",
            "2\n",
            "3\n",
            "4\n",
            "5\n",
            "6\n",
            "['2', '3', '4', '5', '6']\n"
          ]
        }
      ]
    },
    {
      "cell_type": "markdown",
      "source": [
        "clear() method clears the entire list. syntax :  lis_name.clear()"
      ],
      "metadata": {
        "id": "znLcxC-FWJhr"
      }
    },
    {
      "cell_type": "code",
      "source": [
        "l=[]\n",
        "n=int(input(\"Enter the size of the list :\"))\n",
        "print(\"Enter the elements of list :\")\n",
        "for i in range(0,n):\n",
        "    l.append(input())\n",
        "print(l)\n",
        "l.clear()\n",
        "print(\"After clearing the list :\",l) "
      ],
      "metadata": {
        "colab": {
          "base_uri": "https://localhost:8080/"
        },
        "id": "xflw8tWjgOQh",
        "outputId": "b7fcbfdd-876c-4283-d53a-c0cf4e6758b5"
      },
      "execution_count": null,
      "outputs": [
        {
          "output_type": "stream",
          "name": "stdout",
          "text": [
            "Enter the size of the list :4\n",
            "Enter the elements of list :\n",
            "1\n",
            "2\n",
            "3\n",
            "4\n",
            "['1', '2', '3', '4']\n",
            "After clearing the list : []\n"
          ]
        }
      ]
    },
    {
      "cell_type": "markdown",
      "source": [
        "pop() method pops out the last element in the list and returns that element. syntax : lis_name.pop()"
      ],
      "metadata": {
        "id": "P8FzBHCRWXmf"
      }
    },
    {
      "cell_type": "code",
      "source": [
        "l=[]\n",
        "n=int(input(\"Enter the size of the list :\"))\n",
        "print(\"Enter the elements of list :\")\n",
        "for i in range(0,n):\n",
        "    l.append(input())\n",
        "print(l)\n",
        "for i in range(0,n):\n",
        "    l.pop()\n",
        "print(l)"
      ],
      "metadata": {
        "colab": {
          "base_uri": "https://localhost:8080/"
        },
        "id": "iLUZbmoVhggH",
        "outputId": "9df9e30a-7c93-482f-bfa6-743c7c9cc7b0"
      },
      "execution_count": null,
      "outputs": [
        {
          "output_type": "stream",
          "name": "stdout",
          "text": [
            "Enter the size of the list :5\n",
            "Enter the elements of list :\n",
            "1\n",
            "2\n",
            "3\n",
            "4\n",
            "5\n",
            "['1', '2', '3', '4', '5']\n",
            "[]\n"
          ]
        }
      ]
    },
    {
      "cell_type": "markdown",
      "source": [
        "copy() method copys the list into an assigned list. syntax : lis2 = lis1.copy()"
      ],
      "metadata": {
        "id": "XIULkgHCWoOW"
      }
    },
    {
      "cell_type": "code",
      "source": [
        "l=[];l1=[]\n",
        "n=int(input(\"Enter the size of the list :\"))\n",
        "print(\"Enter the elements of list :\")\n",
        "for i in range(0,n):\n",
        "    l.append(input())\n",
        "print(\"l :\",l)\n",
        "for i in l:\n",
        "    l1.append(i)\n",
        "print(\"l1 using append :\",l1)\n",
        "l2=l.copy()\n",
        "print(\"l2 using copy :\",l2) "
      ],
      "metadata": {
        "colab": {
          "base_uri": "https://localhost:8080/"
        },
        "id": "VPWoFrZ3i8JH",
        "outputId": "ac9fb8e2-0b25-411e-8892-9ffbdd075573"
      },
      "execution_count": null,
      "outputs": [
        {
          "output_type": "stream",
          "name": "stdout",
          "text": [
            "Enter the size of the list :5\n",
            "Enter the elements of list :\n",
            "1\n",
            "2\n",
            "3\n",
            "4\n",
            "5\n",
            "l : ['1', '2', '3', '4', '5']\n",
            "l1 using append : ['1', '2', '3', '4', '5']\n",
            "l2 using copy : ['1', '2', '3', '4', '5']\n"
          ]
        }
      ]
    },
    {
      "cell_type": "markdown",
      "source": [
        "count() method returns the number of occurences of the key value. syntax : lis_name.count(key_val)"
      ],
      "metadata": {
        "id": "IvlaQqTIXIOG"
      }
    },
    {
      "cell_type": "code",
      "source": [
        "l=[]\n",
        "n=int(input(\"Enter the size of the list :\"))\n",
        "print(\"Enter the elements of list :\")\n",
        "for i in range(0,n):\n",
        "    l.append(input())\n",
        "print(l)\n",
        "k=input(\"Enter the key value :\")\n",
        "c=0\n",
        "for i in l:\n",
        "    if(k==i):\n",
        "        c+=1\n",
        "print(l)\n",
        "print(\"count of\",k,\"in list :\",c) \n",
        "print(\"count of\",k,\"in list :\",l.count(k))"
      ],
      "metadata": {
        "colab": {
          "base_uri": "https://localhost:8080/"
        },
        "id": "HztptDObksQu",
        "outputId": "6cf16010-76eb-4010-baf0-74888ce29731"
      },
      "execution_count": 3,
      "outputs": [
        {
          "output_type": "stream",
          "name": "stdout",
          "text": [
            "Enter the size of the list :10\n",
            "Enter the elements of list :\n",
            "11\n",
            "12\n",
            "13\n",
            "11\n",
            "1\n",
            "1\n",
            "14\n",
            "18\n",
            "11\n",
            "12\n",
            "['11', '12', '13', '11', '1', '1', '14', '18', '11', '12']\n",
            "Enter the key value :11\n",
            "['11', '12', '13', '11', '1', '1', '14', '18', '11', '12']\n",
            "count of 11 in list : 3\n",
            "count of 11 in list : 3\n"
          ]
        }
      ]
    },
    {
      "cell_type": "markdown",
      "source": [
        "extend() method extends first list with second, for example : if l1=[1,2,3] l2=[4,5,6] if l1 is extended with l2 then l1=[1,2,3,4,5,6]. Syntax : lis_1.extend(lis_2)"
      ],
      "metadata": {
        "id": "ZuCs78m58t69"
      }
    },
    {
      "cell_type": "code",
      "source": [
        "l1=[];l2=[]\n",
        "m=int(input(\"Enter the size of the list :\"))\n",
        "print(\"Enter the elements of list :\")\n",
        "for i in range(0,m):\n",
        "    l1.append(input())\n",
        "n=int(input(\"Enter the size of the list :\"))\n",
        "print(\"Enter the elements of list :\")\n",
        "for i in range(0,n):\n",
        "    l2.append(input())\n",
        "print(\"list 1 before extend :\",l1)\n",
        "l1.extend(l2)\n",
        "print(\"list 1 :\",l1,\"\\nlist 2 :\",l2)"
      ],
      "metadata": {
        "colab": {
          "base_uri": "https://localhost:8080/"
        },
        "id": "Q-zKNFsRobA2",
        "outputId": "662fa499-3a0a-4368-efe3-efe90ec0975d"
      },
      "execution_count": null,
      "outputs": [
        {
          "output_type": "stream",
          "name": "stdout",
          "text": [
            "Enter the size of the list :3\n",
            "Enter the elements of list :\n",
            "1\n",
            "2\n",
            "3\n",
            "Enter the size of the list :3\n",
            "Enter the elements of list :\n",
            "4\n",
            "5\n",
            "6\n",
            "list 1 before extend : ['1', '2', '3']\n",
            "list 1 : ['1', '2', '3', '4', '5', '6'] \n",
            "list 2 : ['4', '5', '6']\n"
          ]
        }
      ]
    },
    {
      "cell_type": "code",
      "source": [
        "l1=[];l2=[]\n",
        "m=int(input(\"Enter the size of the list :\"))\n",
        "print(\"Enter the elements of list :\")\n",
        "for i in range(0,m):\n",
        "    l1.append(input())\n",
        "n=int(input(\"Enter the size of the list :\"))\n",
        "print(\"Enter the elements of list :\")\n",
        "for i in range(0,n):\n",
        "    l2.append(input())\n",
        "l2.extend(l1)\n",
        "print(\"list 2 :\",l2,\"\\nlist 1 :\",l1)"
      ],
      "metadata": {
        "colab": {
          "base_uri": "https://localhost:8080/"
        },
        "id": "sV-IpLqSq3pF",
        "outputId": "1c008e36-18a3-4118-93fb-39717b1aa7c3"
      },
      "execution_count": null,
      "outputs": [
        {
          "output_type": "stream",
          "name": "stdout",
          "text": [
            "Enter the size of the list :5\n",
            "Enter the elements of list :\n",
            "1\n",
            "2\n",
            "3\n",
            "4\n",
            "5\n",
            "Enter the size of the list :5\n",
            "Enter the elements of list :\n",
            "6\n",
            "7\n",
            "8\n",
            "9\n",
            "0\n",
            "list 2 : ['6', '7', '8', '9', '0', '1', '2', '3', '4', '5'] \n",
            "list 1 : ['1', '2', '3', '4', '5']\n"
          ]
        }
      ]
    },
    {
      "cell_type": "code",
      "source": [
        "l1=[];l2=[]\n",
        "m=int(input(\"Enter the size of the list :\"))\n",
        "print(\"Enter the elements of list :\")\n",
        "for i in range(0,m):\n",
        "    l1.append(input())\n",
        "n=int(input(\"Enter the size of the list :\"))\n",
        "print(\"Enter the elements of list :\")\n",
        "for i in range(0,n):\n",
        "    l2.append(input())\n",
        "for i in l2:\n",
        "    l1.append(i)\n",
        "print(\"list 1 :\",l1,\"\\nlist 2 :\",l2)"
      ],
      "metadata": {
        "colab": {
          "base_uri": "https://localhost:8080/"
        },
        "id": "0UjRCiRjrK8I",
        "outputId": "2245f85e-4455-4751-86fb-5a054caf8d1f"
      },
      "execution_count": null,
      "outputs": [
        {
          "output_type": "stream",
          "name": "stdout",
          "text": [
            "Enter the size of the list :3\n",
            "Enter the elements of list :\n",
            "1\n",
            "2\n",
            "3\n",
            "Enter the size of the list :3\n",
            "Enter the elements of list :\n",
            "4\n",
            "5\n",
            "6\n",
            "list 1 : ['1', '2', '3', '4', '5', '6'] \n",
            "list 2 : ['4', '5', '6']\n"
          ]
        }
      ]
    },
    {
      "cell_type": "markdown",
      "source": [
        "index() method returns the index value of the first occurance of given element. Syntax : lis_name.index(key_elem)"
      ],
      "metadata": {
        "id": "9nlADRop-7Rq"
      }
    },
    {
      "cell_type": "code",
      "source": [
        "l=[]\n",
        "n=int(input(\"Enetr the size of the list :\"))\n",
        "print(\"Enter\",n,\"elements to the list :\")\n",
        "for i in range(0,n):\n",
        "    l.append(input())\n",
        "print(l)\n",
        "i=input(\"Enter any element of the list to find its index :\")\n",
        "print(\"Index of given element :\",l.index(i))"
      ],
      "metadata": {
        "id": "A5Jd1lPvtlBD",
        "colab": {
          "base_uri": "https://localhost:8080/"
        },
        "outputId": "1671a4e8-cbb1-4a04-f372-3ae5d33063a8"
      },
      "execution_count": 6,
      "outputs": [
        {
          "output_type": "stream",
          "name": "stdout",
          "text": [
            "Enetr the size of the list :10\n",
            "Enter 10 elements to the list :\n",
            "Tarun\n",
            "lucky\n",
            "Tagore\n",
            "Sharan Deep\n",
            "Mahesh\n",
            "Sharan\n",
            "Kushal\n",
            "Suhas\n",
            "Sujan\n",
            "Madhav\n",
            "['Tarun', 'lucky', 'Tagore', 'Sharan Deep', 'Mahesh', 'Sharan', 'Kushal', 'Suhas', 'Sujan', 'Madhav']\n",
            "Enter any element of the list to find its index :lucky\n",
            "Index of given element : 1\n"
          ]
        }
      ]
    },
    {
      "cell_type": "markdown",
      "source": [
        "insert() method inserts the given key element in the list at the given index. syntax:  lis_name.insert(index,elem)"
      ],
      "metadata": {
        "id": "LZR9ePQQBjS1"
      }
    },
    {
      "cell_type": "code",
      "source": [
        "l=[]\n",
        "n=int(input(\"Enetr the size of the list : \"))\n",
        "print(\"Enetr\",n,\"elements to the list :\")\n",
        "for i in range(0,n):\n",
        "    l.append(input())\n",
        "print(l)\n",
        "key=input(\"Enter any element to insert in the list :\")\n",
        "i=int(input(\"Enter the index at whish it should be inserted :\"))\n",
        "l.insert(i,key)\n",
        "print(l)"
      ],
      "metadata": {
        "id": "B5pOh_ZeQbJ1",
        "colab": {
          "base_uri": "https://localhost:8080/"
        },
        "outputId": "9f4250b5-88c2-4cbe-a998-b5964452fdfa"
      },
      "execution_count": 9,
      "outputs": [
        {
          "output_type": "stream",
          "name": "stdout",
          "text": [
            "Enetr the size of the list : 5\n",
            "Enetr 5 elements to the list :\n",
            "1\n",
            "11\n",
            "111\n",
            "1111\n",
            "11111\n",
            "['1', '11', '111', '1111', '11111']\n",
            "Enter any element to insert in the list :Hi\n",
            "Enter the index at whish it should be inserted :3\n",
            "['1', '11', '111', 'Hi', '1111', '11111']\n"
          ]
        }
      ]
    },
    {
      "cell_type": "markdown",
      "source": [
        "pop() method removes the element at given index. if index is not specified then by default it removes the last element of the list and returns that element. syntax: var = lis_name.pop(index)"
      ],
      "metadata": {
        "id": "i9gCV3HIDp0S"
      }
    },
    {
      "cell_type": "code",
      "source": [
        "l=[]\n",
        "n=int(input(\"Enetr the size of the list : \"))\n",
        "print(\"Enetr\",n,\"elements to the list :\")\n",
        "for i in range(0,n):\n",
        "    l.append(input())\n",
        "print(l)\n",
        "z=l.pop(-3)\n",
        "print(l,z)"
      ],
      "metadata": {
        "colab": {
          "base_uri": "https://localhost:8080/"
        },
        "id": "9EpFR8LZAxwO",
        "outputId": "f1cd3a61-2d02-4fa6-9dea-29c81f7f4010"
      },
      "execution_count": 17,
      "outputs": [
        {
          "output_type": "stream",
          "name": "stdout",
          "text": [
            "Enetr the size of the list : 5\n",
            "Enetr 5 elements to the list :\n",
            "1\n",
            "2\n",
            "3\n",
            "4\n",
            "5\n",
            "['1', '2', '3', '4', '5']\n",
            "['1', '2', '4', '5'] 3\n"
          ]
        }
      ]
    },
    {
      "cell_type": "markdown",
      "source": [
        "remove method removes the given key value at its first occurance. Gives error if value is not present. Syntax : lis_name.remove(Key_elem)"
      ],
      "metadata": {
        "id": "9g6tsZT-Ek1p"
      }
    },
    {
      "cell_type": "code",
      "source": [
        "l=[]\n",
        "n=int(input(\"Enetr the size of the list : \"))\n",
        "print(\"Enetr\",n,\"elements to the list :\")\n",
        "for i in range(0,n):\n",
        "    l.append(input())\n",
        "print(l)\n",
        "l.remove('12')\n",
        "print(l)"
      ],
      "metadata": {
        "colab": {
          "base_uri": "https://localhost:8080/"
        },
        "id": "VLUWJmPsC3oA",
        "outputId": "140e88d4-3142-47ce-a0f1-2ca1ac92b058"
      },
      "execution_count": 18,
      "outputs": [
        {
          "output_type": "stream",
          "name": "stdout",
          "text": [
            "Enetr the size of the list : 4\n",
            "Enetr 4 elements to the list :\n",
            "11\n",
            "12\n",
            "12\n",
            "13\n",
            "['11', '12', '12', '13']\n",
            "['11', '12', '13']\n"
          ]
        }
      ]
    },
    {
      "cell_type": "markdown",
      "source": [
        "reverse() method reverses the list. syntax : lis_name.reverse()"
      ],
      "metadata": {
        "id": "37LhVCfiFL_9"
      }
    },
    {
      "cell_type": "code",
      "source": [
        "l=[]\n",
        "n=int(input(\"Enetr the size of the list : \"))\n",
        "print(\"Enetr\",n,\"elements to the list :\")\n",
        "for i in range(0,n):\n",
        "    l.append(input())\n",
        "print(l)\n",
        "l.reverse()\n",
        "print(l)"
      ],
      "metadata": {
        "colab": {
          "base_uri": "https://localhost:8080/"
        },
        "id": "GACH-pl6Ef0S",
        "outputId": "ec30dbdf-5e02-4a6f-edf5-17e90b3b850b"
      },
      "execution_count": 19,
      "outputs": [
        {
          "output_type": "stream",
          "name": "stdout",
          "text": [
            "Enetr the size of the list : 5\n",
            "Enetr 5 elements to the list :\n",
            "1\n",
            "2\n",
            "3\n",
            "4\n",
            "5\n",
            "['1', '2', '3', '4', '5']\n",
            "['5', '4', '3', '2', '1']\n"
          ]
        }
      ]
    },
    {
      "cell_type": "markdown",
      "source": [
        "sort() method sorts the list in ascending or in descending order as specified. syntax : lis_name.sort(reverse=True/False)\n",
        "1. reverse=True specifies descending order\n",
        "2. reverse=False specifies ascending order"
      ],
      "metadata": {
        "id": "ag5O734QGoCu"
      }
    },
    {
      "cell_type": "code",
      "source": [
        "l=[]\n",
        "n=int(input(\"Enetr the size of the list : \"))\n",
        "print(\"Enetr\",n,\"elements to the list :\")\n",
        "for i in range(0,n):\n",
        "    l.append(input())\n",
        "print(l)\n",
        "l.sort(reverse=True)\n",
        "print(l)"
      ],
      "metadata": {
        "colab": {
          "base_uri": "https://localhost:8080/"
        },
        "id": "mB3ax3ueFHBM",
        "outputId": "15a77b64-296e-4380-c7ad-daf51c5a4069"
      },
      "execution_count": 28,
      "outputs": [
        {
          "output_type": "stream",
          "name": "stdout",
          "text": [
            "Enetr the size of the list : 5\n",
            "Enetr 5 elements to the list :\n",
            "z\n",
            "r\n",
            "w\n",
            "f\n",
            "a\n",
            "['z', 'r', 'w', 'f', 'a']\n",
            "['z', 'w', 'r', 'f', 'a']\n"
          ]
        }
      ]
    },
    {
      "cell_type": "code",
      "source": [
        ""
      ],
      "metadata": {
        "id": "vmWAxNpxFx9C"
      },
      "execution_count": null,
      "outputs": []
    }
  ]
}
