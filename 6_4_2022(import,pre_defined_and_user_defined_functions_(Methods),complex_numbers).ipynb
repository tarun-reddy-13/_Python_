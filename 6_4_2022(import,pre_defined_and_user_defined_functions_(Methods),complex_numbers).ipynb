{
  "nbformat": 4,
  "nbformat_minor": 0,
  "metadata": {
    "colab": {
      "name": "6/4/2022(import,pre defined and user defined functions (Methods),complex numbers).ipynb",
      "provenance": [],
      "collapsed_sections": [],
      "authorship_tag": "ABX9TyM+twbzZNwvJlsTzg942MRx",
      "include_colab_link": true
    },
    "kernelspec": {
      "name": "python3",
      "display_name": "Python 3"
    },
    "language_info": {
      "name": "python"
    }
  },
  "cells": [
    {
      "cell_type": "markdown",
      "metadata": {
        "id": "view-in-github",
        "colab_type": "text"
      },
      "source": [
        "<a href=\"https://colab.research.google.com/github/tarun-reddy-13/_Python_/blob/main/6_4_2022(import%2Cpre_defined_and_user_defined_functions_(Methods)%2Ccomplex_numbers).ipynb\" target=\"_parent\"><img src=\"https://colab.research.google.com/assets/colab-badge.svg\" alt=\"Open In Colab\"/></a>"
      ]
    },
    {
      "cell_type": "markdown",
      "source": [
        "Because the program execution unit of Python is a script file, not a function or class"
      ],
      "metadata": {
        "id": "cg7MzF8MDa82"
      }
    },
    {
      "cell_type": "markdown",
      "source": [
        "Import helps to import the packages like import math imports math package to our program. methods in packages are accessed using dot operrator like math.factorial()"
      ],
      "metadata": {
        "id": "AkSjDx10Ev7N"
      }
    },
    {
      "cell_type": "markdown",
      "source": [
        "fun declaration syntax : def fun_name(parameters):\n",
        "                                    st1\n",
        "                                    st2\n",
        "                                    .\n",
        "                                    .\n",
        "                                    return_st"
      ],
      "metadata": {
        "id": "EnX3qpxvFNz6"
      }
    },
    {
      "cell_type": "markdown",
      "source": [
        "in python we can return any number of values"
      ],
      "metadata": {
        "id": "5YspRAYGDdRr"
      }
    },
    {
      "cell_type": "markdown",
      "source": [
        "fun call syntax : fun_name(parameters)"
      ],
      "metadata": {
        "id": "KJy9R8hfFr0p"
      }
    },
    {
      "cell_type": "markdown",
      "source": [
        "complex numbers representation : a+jb"
      ],
      "metadata": {
        "id": "PczJZWDjFzHC"
      }
    },
    {
      "cell_type": "code",
      "source": [
        "help('math')"
      ],
      "metadata": {
        "colab": {
          "base_uri": "https://localhost:8080/"
        },
        "id": "aqCxdElRGH9J",
        "outputId": "0c6feeed-d09e-4db4-b83f-761cbe657978"
      },
      "execution_count": null,
      "outputs": [
        {
          "output_type": "stream",
          "name": "stdout",
          "text": [
            "Help on built-in module math:\n",
            "\n",
            "NAME\n",
            "    math\n",
            "\n",
            "DESCRIPTION\n",
            "    This module provides access to the mathematical functions\n",
            "    defined by the C standard.\n",
            "\n",
            "FUNCTIONS\n",
            "    acos(x, /)\n",
            "        Return the arc cosine (measured in radians) of x.\n",
            "    \n",
            "    acosh(x, /)\n",
            "        Return the inverse hyperbolic cosine of x.\n",
            "    \n",
            "    asin(x, /)\n",
            "        Return the arc sine (measured in radians) of x.\n",
            "    \n",
            "    asinh(x, /)\n",
            "        Return the inverse hyperbolic sine of x.\n",
            "    \n",
            "    atan(x, /)\n",
            "        Return the arc tangent (measured in radians) of x.\n",
            "    \n",
            "    atan2(y, x, /)\n",
            "        Return the arc tangent (measured in radians) of y/x.\n",
            "        \n",
            "        Unlike atan(y/x), the signs of both x and y are considered.\n",
            "    \n",
            "    atanh(x, /)\n",
            "        Return the inverse hyperbolic tangent of x.\n",
            "    \n",
            "    ceil(x, /)\n",
            "        Return the ceiling of x as an Integral.\n",
            "        \n",
            "        This is the smallest integer >= x.\n",
            "    \n",
            "    copysign(x, y, /)\n",
            "        Return a float with the magnitude (absolute value) of x but the sign of y.\n",
            "        \n",
            "        On platforms that support signed zeros, copysign(1.0, -0.0)\n",
            "        returns -1.0.\n",
            "    \n",
            "    cos(x, /)\n",
            "        Return the cosine of x (measured in radians).\n",
            "    \n",
            "    cosh(x, /)\n",
            "        Return the hyperbolic cosine of x.\n",
            "    \n",
            "    degrees(x, /)\n",
            "        Convert angle x from radians to degrees.\n",
            "    \n",
            "    erf(x, /)\n",
            "        Error function at x.\n",
            "    \n",
            "    erfc(x, /)\n",
            "        Complementary error function at x.\n",
            "    \n",
            "    exp(x, /)\n",
            "        Return e raised to the power of x.\n",
            "    \n",
            "    expm1(x, /)\n",
            "        Return exp(x)-1.\n",
            "        \n",
            "        This function avoids the loss of precision involved in the direct evaluation of exp(x)-1 for small x.\n",
            "    \n",
            "    fabs(x, /)\n",
            "        Return the absolute value of the float x.\n",
            "    \n",
            "    factorial(x, /)\n",
            "        Find x!.\n",
            "        \n",
            "        Raise a ValueError if x is negative or non-integral.\n",
            "    \n",
            "    floor(x, /)\n",
            "        Return the floor of x as an Integral.\n",
            "        \n",
            "        This is the largest integer <= x.\n",
            "    \n",
            "    fmod(x, y, /)\n",
            "        Return fmod(x, y), according to platform C.\n",
            "        \n",
            "        x % y may differ.\n",
            "    \n",
            "    frexp(x, /)\n",
            "        Return the mantissa and exponent of x, as pair (m, e).\n",
            "        \n",
            "        m is a float and e is an int, such that x = m * 2.**e.\n",
            "        If x is 0, m and e are both 0.  Else 0.5 <= abs(m) < 1.0.\n",
            "    \n",
            "    fsum(seq, /)\n",
            "        Return an accurate floating point sum of values in the iterable seq.\n",
            "        \n",
            "        Assumes IEEE-754 floating point arithmetic.\n",
            "    \n",
            "    gamma(x, /)\n",
            "        Gamma function at x.\n",
            "    \n",
            "    gcd(x, y, /)\n",
            "        greatest common divisor of x and y\n",
            "    \n",
            "    hypot(x, y, /)\n",
            "        Return the Euclidean distance, sqrt(x*x + y*y).\n",
            "    \n",
            "    isclose(a, b, *, rel_tol=1e-09, abs_tol=0.0)\n",
            "        Determine whether two floating point numbers are close in value.\n",
            "        \n",
            "          rel_tol\n",
            "            maximum difference for being considered \"close\", relative to the\n",
            "            magnitude of the input values\n",
            "          abs_tol\n",
            "            maximum difference for being considered \"close\", regardless of the\n",
            "            magnitude of the input values\n",
            "        \n",
            "        Return True if a is close in value to b, and False otherwise.\n",
            "        \n",
            "        For the values to be considered close, the difference between them\n",
            "        must be smaller than at least one of the tolerances.\n",
            "        \n",
            "        -inf, inf and NaN behave similarly to the IEEE 754 Standard.  That\n",
            "        is, NaN is not close to anything, even itself.  inf and -inf are\n",
            "        only close to themselves.\n",
            "    \n",
            "    isfinite(x, /)\n",
            "        Return True if x is neither an infinity nor a NaN, and False otherwise.\n",
            "    \n",
            "    isinf(x, /)\n",
            "        Return True if x is a positive or negative infinity, and False otherwise.\n",
            "    \n",
            "    isnan(x, /)\n",
            "        Return True if x is a NaN (not a number), and False otherwise.\n",
            "    \n",
            "    ldexp(x, i, /)\n",
            "        Return x * (2**i).\n",
            "        \n",
            "        This is essentially the inverse of frexp().\n",
            "    \n",
            "    lgamma(x, /)\n",
            "        Natural logarithm of absolute value of Gamma function at x.\n",
            "    \n",
            "    log(...)\n",
            "        log(x, [base=math.e])\n",
            "        Return the logarithm of x to the given base.\n",
            "        \n",
            "        If the base not specified, returns the natural logarithm (base e) of x.\n",
            "    \n",
            "    log10(x, /)\n",
            "        Return the base 10 logarithm of x.\n",
            "    \n",
            "    log1p(x, /)\n",
            "        Return the natural logarithm of 1+x (base e).\n",
            "        \n",
            "        The result is computed in a way which is accurate for x near zero.\n",
            "    \n",
            "    log2(x, /)\n",
            "        Return the base 2 logarithm of x.\n",
            "    \n",
            "    modf(x, /)\n",
            "        Return the fractional and integer parts of x.\n",
            "        \n",
            "        Both results carry the sign of x and are floats.\n",
            "    \n",
            "    pow(x, y, /)\n",
            "        Return x**y (x to the power of y).\n",
            "    \n",
            "    radians(x, /)\n",
            "        Convert angle x from degrees to radians.\n",
            "    \n",
            "    remainder(x, y, /)\n",
            "        Difference between x and the closest integer multiple of y.\n",
            "        \n",
            "        Return x - n*y where n*y is the closest integer multiple of y.\n",
            "        In the case where x is exactly halfway between two multiples of\n",
            "        y, the nearest even value of n is used. The result is always exact.\n",
            "    \n",
            "    sin(x, /)\n",
            "        Return the sine of x (measured in radians).\n",
            "    \n",
            "    sinh(x, /)\n",
            "        Return the hyperbolic sine of x.\n",
            "    \n",
            "    sqrt(x, /)\n",
            "        Return the square root of x.\n",
            "    \n",
            "    tan(x, /)\n",
            "        Return the tangent of x (measured in radians).\n",
            "    \n",
            "    tanh(x, /)\n",
            "        Return the hyperbolic tangent of x.\n",
            "    \n",
            "    trunc(x, /)\n",
            "        Truncates the Real x to the nearest Integral toward 0.\n",
            "        \n",
            "        Uses the __trunc__ magic method.\n",
            "\n",
            "DATA\n",
            "    e = 2.718281828459045\n",
            "    inf = inf\n",
            "    nan = nan\n",
            "    pi = 3.141592653589793\n",
            "    tau = 6.283185307179586\n",
            "\n",
            "FILE\n",
            "    (built-in)\n",
            "\n",
            "\n"
          ]
        }
      ]
    },
    {
      "cell_type": "code",
      "source": [
        "import math as m\n",
        "#m.pow(2,3)\n",
        "#m.sqrt(16)\n",
        "#m.fabs(-10+5)\n",
        "#m.fmod(20,3)\n",
        "#m.factorial(6)\n",
        "m.trunc(10/3)\n",
        "#m.floor(10/3)\n",
        "#m.ceil(10/3)\n",
        "\n"
      ],
      "metadata": {
        "colab": {
          "base_uri": "https://localhost:8080/"
        },
        "id": "bqOQqh5pGUAe",
        "outputId": "d8ba9bed-5602-4fbe-843a-19df74b64e6e"
      },
      "execution_count": null,
      "outputs": [
        {
          "output_type": "execute_result",
          "data": {
            "text/plain": [
              "3"
            ]
          },
          "metadata": {},
          "execution_count": 30
        }
      ]
    },
    {
      "cell_type": "markdown",
      "source": [
        "what is the diff btwn floor and trunc"
      ],
      "metadata": {
        "id": "DaBUo83zHpQS"
      }
    },
    {
      "cell_type": "markdown",
      "source": [
        "complex numbers\n",
        "\n",
        "> x=complex(real,imaganary)\n",
        "> print(x)\n",
        "> print(type(x))"
      ],
      "metadata": {
        "id": "5EACxwV1JtyQ"
      }
    },
    {
      "cell_type": "code",
      "source": [
        "x=complex(10,-5)\n",
        "print(x)\n",
        "print(type(x))\n",
        "y=1-5j\n",
        "z=3+15j\n",
        "print(y+z)\n",
        "y=1\n",
        "print(y+z)\n",
        "y=-5j\n",
        "print(y+z)"
      ],
      "metadata": {
        "colab": {
          "base_uri": "https://localhost:8080/"
        },
        "id": "LYj7JP7PJwVf",
        "outputId": "7da33b9c-7b2d-4a7a-ee4a-ead45ae352f5"
      },
      "execution_count": null,
      "outputs": [
        {
          "output_type": "stream",
          "name": "stdout",
          "text": [
            "(10-5j)\n",
            "<class 'complex'>\n",
            "(4+10j)\n",
            "(4+15j)\n",
            "(3+10j)\n"
          ]
        }
      ]
    },
    {
      "cell_type": "markdown",
      "source": [
        "demonstration of function defination and function call"
      ],
      "metadata": {
        "id": "hmpyJmYaKAhQ"
      }
    },
    {
      "cell_type": "code",
      "source": [
        "def sum_of_digits(n):\n",
        "    s=0\n",
        "    while(n!=0):\n",
        "        s=s+n%10\n",
        "        n=n//10\n",
        "    return s\n",
        "num=int(input(\"Enter any number :\"))\n",
        "print(\"The sum of digits in\",num,\" is :\",sum_of_digits(num))"
      ],
      "metadata": {
        "colab": {
          "base_uri": "https://localhost:8080/"
        },
        "id": "aCOeVSWgMMau",
        "outputId": "4cf7aeaf-d718-41c7-a1fe-44e29b54629a"
      },
      "execution_count": null,
      "outputs": [
        {
          "output_type": "stream",
          "name": "stdout",
          "text": [
            "Enter any number :123\n",
            "The sum of digits in 123  is : 6\n"
          ]
        }
      ]
    },
    {
      "cell_type": "code",
      "source": [
        "def sum_of_digits(n):\n",
        "    s=0\n",
        "    sum=0\n",
        "    while(n!=0):\n",
        "        s=s+n%10\n",
        "        n=n//10\n",
        "    return s\n",
        "num=int(input(\"Enter any number :\"))\n",
        "x=sum_of_digits(num)\n",
        "if(x>9):\n",
        "    sum=sum_of_digits(x)\n",
        "print(\"The sum of digits in\",num,\" is :\",sum)"
      ],
      "metadata": {
        "colab": {
          "base_uri": "https://localhost:8080/"
        },
        "id": "1CtJxV6EOxQC",
        "outputId": "27bda1c5-3394-480b-a8be-daf124dc45a1"
      },
      "execution_count": null,
      "outputs": [
        {
          "output_type": "stream",
          "name": "stdout",
          "text": [
            "Enter any number :643\n",
            "The sum of digits in 643  is : 4\n"
          ]
        }
      ]
    },
    {
      "cell_type": "markdown",
      "source": [
        "1. print the reverse of a given number.\n",
        "2. print the even/odd/prime factors of an input number.\n",
        "3. check the input number ends with prime number or not."
      ],
      "metadata": {
        "id": "4JTHBBnrPptT"
      }
    },
    {
      "cell_type": "code",
      "source": [
        "#1. print the reverse of a given number.\n",
        "def rev(n):\n",
        "    r=0\n",
        "    while(n!=0):\n",
        "        r=r*10+n%10\n",
        "        n=n//10\n",
        "    return r\n",
        "num=int(input(\"Enter any number :\"))\n",
        "print(\"Reversed number :\",rev(num))"
      ],
      "metadata": {
        "id": "CnmcakH6UAvy",
        "colab": {
          "base_uri": "https://localhost:8080/"
        },
        "outputId": "d3e3b660-4e7a-464a-cec2-d6a397d9098a"
      },
      "execution_count": null,
      "outputs": [
        {
          "output_type": "stream",
          "name": "stdout",
          "text": [
            "Enter any number :12344\n",
            "Reversed number : 44321\n"
          ]
        }
      ]
    },
    {
      "cell_type": "markdown",
      "source": [
        "in float 0.1 is not stored exactly as 0.1 it stores a nearer value to 0.1 so we may not get 0 as output exactly"
      ],
      "metadata": {
        "id": "O-_jt6NJgXV1"
      }
    },
    {
      "cell_type": "code",
      "source": [
        "#2. print the even/odd/prime factors of an input number.\n",
        "def even_factors(n):\n",
        "    for i in range(1,n+1):\n",
        "        if(n%i==0 and i%2==0):\n",
        "            print(i)\n",
        "def odd_factors(n):\n",
        "    for i in range(1,n+1):\n",
        "        if(n%i==0 and i%2!=0):\n",
        "            print(i)\n",
        "def prime_factors(n):\n",
        "    c=0\n",
        "    for i in range(1,(n//2)+1):\n",
        "        for j in range(1,i+1):\n",
        "            if(i%j==0):\n",
        "                c=1\n",
        "        if(c==0):\n",
        "            print(i)\n",
        "    \n",
        "num=int(input(\"Enter any number : \"))\n",
        "print(\"Even factors :\")\n",
        "even_factors(num)\n",
        "print(\"Odd factors :\")\n",
        "odd_factors(num)\n",
        "print(\"Prime factors :\")\n",
        "prime_factors(num)\n"
      ],
      "metadata": {
        "id": "AMmDALXEgxhw"
      },
      "execution_count": null,
      "outputs": []
    },
    {
      "cell_type": "code",
      "source": [
        "#3. check the input number ends with prime number or not.\n",
        "n=int(input(\"Enter any number :\"))\n",
        "ld=(n%10)//2\n",
        "c=0\n",
        "for i in range(1,ld+1):\n",
        "    if(n%i==0):\n",
        "        print(\"Not a prime number\")\n",
        "        c=1\n",
        "if(c==0):\n",
        "    print(\"Prime number\")"
      ],
      "metadata": {
        "id": "Gztyq_AAjn_A",
        "colab": {
          "base_uri": "https://localhost:8080/"
        },
        "outputId": "806954ad-090e-4ba2-ce27-709e85357ae8"
      },
      "execution_count": null,
      "outputs": [
        {
          "output_type": "stream",
          "name": "stdout",
          "text": [
            "Enter any number :11\n",
            "Prime number\n"
          ]
        }
      ]
    },
    {
      "cell_type": "code",
      "source": [
        ""
      ],
      "metadata": {
        "id": "adXmqFNRyICX"
      },
      "execution_count": null,
      "outputs": []
    }
  ]
}