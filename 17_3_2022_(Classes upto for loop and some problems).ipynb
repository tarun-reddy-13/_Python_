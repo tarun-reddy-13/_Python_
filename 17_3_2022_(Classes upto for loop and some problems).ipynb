{
  "nbformat": 4,
  "nbformat_minor": 0,
  "metadata": {
    "colab": {
      "name": "17/3/2022 (Classes).ipynb",
      "provenance": [],
      "collapsed_sections": [],
      "authorship_tag": "ABX9TyOCbYv+xedtqf0lbnBmnp36",
      "include_colab_link": true
    },
    "kernelspec": {
      "name": "python3",
      "display_name": "Python 3"
    },
    "language_info": {
      "name": "python"
    }
  },
  "cells": [
    {
      "cell_type": "markdown",
      "metadata": {
        "id": "view-in-github",
        "colab_type": "text"
      },
      "source": [
        "<a href=\"https://colab.research.google.com/github/tarun-reddy-13/_Python_/blob/main/17_3_2022_(Classes).ipynb\" target=\"_parent\"><img src=\"https://colab.research.google.com/assets/colab-badge.svg\" alt=\"Open In Colab\"/></a>"
      ]
    },
    {
      "cell_type": "markdown",
      "source": [
        "Demo on TYPE function :"
      ],
      "metadata": {
        "id": "qh3OtkX3y4Lv"
      }
    },
    {
      "cell_type": "code",
      "source": [
        "a=10\n",
        "print(a)\n",
        "print(type(a))\n",
        "a=10.53\n",
        "print(a)\n",
        "print(type(a))\n",
        "a=\"Tarun\"\n",
        "print(a)\n",
        "print(type(a))\n",
        "a='A'\n",
        "print(a)\n",
        "print(type(a))"
      ],
      "metadata": {
        "id": "Nt-km9s4yu9P",
        "colab": {
          "base_uri": "https://localhost:8080/"
        },
        "outputId": "3f116194-3d60-4a36-ae50-88d309054270"
      },
      "execution_count": null,
      "outputs": [
        {
          "output_type": "stream",
          "name": "stdout",
          "text": [
            "10\n",
            "<class 'int'>\n",
            "10.53\n",
            "<class 'float'>\n",
            "Tarun\n",
            "<class 'str'>\n",
            "A\n",
            "<class 'str'>\n"
          ]
        }
      ]
    },
    {
      "cell_type": "markdown",
      "source": [
        "Conditional statements :"
      ],
      "metadata": {
        "id": "vnc3hIBt7H0S"
      }
    },
    {
      "cell_type": "markdown",
      "source": [
        "Indentation is required to represent a block of statements."
      ],
      "metadata": {
        "id": "7FvFvo_H9emp"
      }
    },
    {
      "cell_type": "code",
      "source": [
        "n=int(input(\"Enter any integer : \"))\n",
        "if (n>0):\n",
        "    print(\"The number is positive\")\n",
        "else:\n",
        "    print(\"The number is negative\")"
      ],
      "metadata": {
        "colab": {
          "base_uri": "https://localhost:8080/"
        },
        "id": "SNhBEai77UyB",
        "outputId": "8e03997b-ff80-4b93-f02c-3f520aa4e3a5"
      },
      "execution_count": null,
      "outputs": [
        {
          "output_type": "stream",
          "name": "stdout",
          "text": [
            "Enter any integer : -5\n",
            "The number is negative\n"
          ]
        }
      ]
    },
    {
      "cell_type": "markdown",
      "source": [
        "elif ladder"
      ],
      "metadata": {
        "id": "q2eTW1Ie-h-I"
      }
    },
    {
      "cell_type": "code",
      "source": [
        "c=int(input())\n",
        "if (c>10):\n",
        "    print(\"Hi\")\n",
        "elif (c>20):\n",
        "    print(\"Hello\")\n",
        "else:\n",
        "    print(\"Bye\")"
      ],
      "metadata": {
        "colab": {
          "base_uri": "https://localhost:8080/"
        },
        "id": "337piMlr-p2y",
        "outputId": "37dc64a9-61c3-4f6f-a825-816056bd15b9"
      },
      "execution_count": null,
      "outputs": [
        {
          "output_type": "stream",
          "name": "stdout",
          "text": [
            "10\n",
            "Bye\n"
          ]
        }
      ]
    },
    {
      "cell_type": "markdown",
      "source": [
        "Loops:\n",
        "    1. for.\n",
        "    2. while.\n",
        "1. for : \n",
        "    to use for loop we need a member, member ship keword (in) and range() function.\n",
        "    in range() function the parameters are : \n",
        "    1. starting point\n",
        "    2. end point\n",
        "    3. step size (it is by default 1. if we need we can change)"
      ],
      "metadata": {
        "id": "1pPzpxY8Bu_V"
      }
    },
    {
      "cell_type": "markdown",
      "source": [
        "Programs :\n",
        "\n",
        "1. Read a number with three digits and compute the addition of last and first digit.\n",
        "2. Read any two numbers and find the smallest among them.\n",
        "3. Check the input year is the leap year or not.\n",
        "4. smallest among three numbers.\n",
        "5. Second smallest/largest among three numbers.\n",
        "6. print the even series upto n.\n",
        "7. write a program to find the sum and average of first n series of numbers.\n",
        "8. print the factors of a number n upto the range of 100.\n",
        "9. print the series of squares foon 1 to n numbers.\n",
        "10. find the no.of factors of a given input number."
      ],
      "metadata": {
        "id": "AqbX5P3DCQsT"
      }
    },
    {
      "cell_type": "code",
      "source": [
        "sum=0;n=int(input(\"Enter any three digit number : \"))\n",
        "for i in range(1,2):\n",
        "    if n>100:\n",
        "        sum=sum+n%10\n",
        "        n=n/10\n",
        "    if n<100:\n",
        "        sum=sum+n/10\n",
        "print(int(sum))\n",
        "      "
      ],
      "metadata": {
        "colab": {
          "base_uri": "https://localhost:8080/"
        },
        "id": "GOyx6zndDChz",
        "outputId": "4ffc92a3-0f85-4ceb-ef98-e689fa0f4b01"
      },
      "execution_count": null,
      "outputs": [
        {
          "output_type": "stream",
          "name": "stdout",
          "text": [
            "Enter anny three digit number : 125\n",
            "6\n"
          ]
        }
      ]
    },
    {
      "cell_type": "code",
      "source": [
        "print(\"ENter any two numbers\")\n",
        "a=int(input())\n",
        "b=int(input())\n",
        "if(a>b):\n",
        "    print(b,\"is smallest\")"
      ],
      "metadata": {
        "colab": {
          "base_uri": "https://localhost:8080/"
        },
        "id": "dzW2E2GzEFf1",
        "outputId": "eb79b3d5-ce1a-42b3-d459-653c08101000"
      },
      "execution_count": null,
      "outputs": [
        {
          "output_type": "stream",
          "name": "stdout",
          "text": [
            "ENter any two numbers\n",
            "3\n",
            "2\n",
            "2 is smallest\n"
          ]
        }
      ]
    },
    {
      "cell_type": "code",
      "source": [
        "yr=int(input(\"Enter the year : \"))\n",
        "if (yr%4==0 and yr%100!=0)or(yr%400==0):\n",
        "    print(\"Leap year\")\n",
        "else:\n",
        "    print(\"Not a leap year\")"
      ],
      "metadata": {
        "colab": {
          "base_uri": "https://localhost:8080/"
        },
        "id": "LsKMmmYIElRV",
        "outputId": "3f3c08d1-72d8-4c2b-b3e6-c64800d7bb4a"
      },
      "execution_count": null,
      "outputs": [
        {
          "output_type": "stream",
          "name": "stdout",
          "text": [
            "Enter the year : 2016\n",
            "Leap year\n"
          ]
        }
      ]
    },
    {
      "cell_type": "code",
      "source": [
        "print(\"Enter any three numbers : \")\n",
        "a=int(input())\n",
        "b=int(input())\n",
        "c=int(input())\n",
        "if (a<b and a<c):\n",
        "    print(a,\"is smaller\")\n",
        "elif(b<c):\n",
        "    print(b,\"is smaller\")\n",
        "else:\n",
        "    print(c,\"is smaller\")"
      ],
      "metadata": {
        "colab": {
          "base_uri": "https://localhost:8080/"
        },
        "id": "igfnpTseFCWU",
        "outputId": "852cd5d0-8373-434d-8730-7fc2fa9e246e"
      },
      "execution_count": null,
      "outputs": [
        {
          "output_type": "stream",
          "name": "stdout",
          "text": [
            "Enter any three numbers : \n",
            "4\n",
            "2\n",
            "3\n",
            "2 is smaller\n"
          ]
        }
      ]
    },
    {
      "cell_type": "code",
      "source": [
        "print(\"Enter any three numbers ; \")\n",
        "a=int(input())\n",
        "b=int(input())\n",
        "c=int(input())\n",
        "if (a>b and a<c)or(a>c and a<b):\n",
        "    print(a,\"is second largest number\")\n",
        "elif (b>a and b<c)or(b>c and b<a):\n",
        "    print(b,\"is second largest number\")\n",
        "elif (c>a and c<b)or(c>b and c<a):\n",
        "    print(c,\"is second largest number\")"
      ],
      "metadata": {
        "colab": {
          "base_uri": "https://localhost:8080/"
        },
        "id": "XnWhN7gtGCXd",
        "outputId": "b0e47509-b929-47d3-9478-6a5f5252e8d5"
      },
      "execution_count": null,
      "outputs": [
        {
          "output_type": "stream",
          "name": "stdout",
          "text": [
            "Enter any three numbers ; \n",
            "13\n",
            "19\n",
            "10\n",
            "13 is second largest number\n"
          ]
        }
      ]
    },
    {
      "cell_type": "code",
      "source": [
        "n=int(input(\"Enter the value of n : \"))\n",
        "for i in range(0,n+1,2):\n",
        "    print(i)"
      ],
      "metadata": {
        "colab": {
          "base_uri": "https://localhost:8080/"
        },
        "id": "fvuaKB2pHbOd",
        "outputId": "36b374f3-6940-4218-a963-9a3d3a998dee"
      },
      "execution_count": null,
      "outputs": [
        {
          "output_type": "stream",
          "name": "stdout",
          "text": [
            "Enter the value of n : 10\n",
            "0\n",
            "2\n",
            "4\n",
            "6\n",
            "8\n",
            "10\n"
          ]
        }
      ]
    },
    {
      "cell_type": "code",
      "source": [
        "sum=0;n=int(input(\"Enter the value of n : \"))\n",
        "for i in range(0,n+1):\n",
        "    sum=sum+i\n",
        "print(\"sum of the series is : \",sum,\"\\tAverage of the series : \",int(sum/n))"
      ],
      "metadata": {
        "colab": {
          "base_uri": "https://localhost:8080/"
        },
        "id": "WffnXPkvH9nb",
        "outputId": "4108199d-c4ed-4d21-b68d-e36fa581d2c1"
      },
      "execution_count": null,
      "outputs": [
        {
          "output_type": "stream",
          "name": "stdout",
          "text": [
            "Enter the value of n : 10\n",
            "sum of the series is :  55 \tAverage of the series :  5\n"
          ]
        }
      ]
    },
    {
      "cell_type": "code",
      "source": [
        "n=int(input(\"Enter any number : \"))\n",
        "for i in range (1,101):\n",
        "    if(n%i==0):\n",
        "        print(i)\n",
        "    "
      ],
      "metadata": {
        "colab": {
          "base_uri": "https://localhost:8080/"
        },
        "id": "b74TaqaHIcbW",
        "outputId": "bb74aeec-3229-4f9d-89c7-26ca2a2eae36"
      },
      "execution_count": null,
      "outputs": [
        {
          "output_type": "stream",
          "name": "stdout",
          "text": [
            "Enter any number : 10\n",
            "1\n",
            "2\n",
            "5\n",
            "10\n"
          ]
        }
      ]
    },
    {
      "cell_type": "code",
      "source": [
        "n=int(input(\"Enter the value of n : \"))\n",
        "for i in range(1,n+1):\n",
        "    print(i*i)"
      ],
      "metadata": {
        "colab": {
          "base_uri": "https://localhost:8080/"
        },
        "id": "R_hYeAobJMqc",
        "outputId": "555feeee-c384-44b5-da14-63e0bb9f7aea"
      },
      "execution_count": null,
      "outputs": [
        {
          "output_type": "stream",
          "name": "stdout",
          "text": [
            "Enter the value of n : 10\n",
            "1\n",
            "4\n",
            "9\n",
            "16\n",
            "25\n",
            "36\n",
            "49\n",
            "64\n",
            "81\n",
            "100\n"
          ]
        }
      ]
    },
    {
      "cell_type": "code",
      "source": [
        "count=0;n=int(input())\n",
        "for i in range(1,n+1):\n",
        "    if(n%i==0):\n",
        "        count+=1\n",
        "print(\"No.of Factors for a given number \",n,\"is : \",count)"
      ],
      "metadata": {
        "colab": {
          "base_uri": "https://localhost:8080/"
        },
        "id": "j5511vCKJjYW",
        "outputId": "9b668aaa-83db-44d2-adb9-58a267efe7de"
      },
      "execution_count": null,
      "outputs": [
        {
          "output_type": "stream",
          "name": "stdout",
          "text": [
            "10\n",
            "No.of Factors for a given number  10 is :  4\n"
          ]
        }
      ]
    }
  ]
}
