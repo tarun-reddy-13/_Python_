{
  "cells": [
    {
      "cell_type": "markdown",
      "metadata": {
        "id": "view-in-github",
        "colab_type": "text"
      },
      "source": [
        "<a href=\"https://colab.research.google.com/github/tarun-reddy-13/_Python_/blob/main/Programs.ipynb\" target=\"_parent\"><img src=\"https://colab.research.google.com/assets/colab-badge.svg\" alt=\"Open In Colab\"/></a>"
      ]
    },
    {
      "cell_type": "code",
      "execution_count": null,
      "metadata": {
        "colab": {
          "base_uri": "https://localhost:8080/"
        },
        "id": "5igJUdwkPkfB",
        "outputId": "940fc565-35c2-4334-80cf-5b576e86c86d"
      },
      "outputs": [
        {
          "name": "stdout",
          "output_type": "stream",
          "text": [
            "Hello World\n"
          ]
        }
      ],
      "source": [
        "#1. Hello world\n",
        "print(\"Hello World\")"
      ]
    },
    {
      "cell_type": "code",
      "execution_count": null,
      "metadata": {
        "colab": {
          "base_uri": "https://localhost:8080/"
        },
        "id": "ylvIPEgpPqWz",
        "outputId": "71ab2480-4d46-4386-8b4d-642d54adc2bc"
      },
      "outputs": [
        {
          "output_type": "stream",
          "name": "stdout",
          "text": [
            "4\n",
            "3\n",
            "\n",
            "\n",
            "4 + 3 = 7\n",
            "4 - 3 = 1\n",
            "4 X 3 = 12\n",
            "4 / 3 = 1.33\n",
            "4 % 3 = 1\n"
          ]
        }
      ],
      "source": [
        "#2. operators\n",
        "a=int(input())\n",
        "b=int(input())\n",
        "print(\"\\n\")\n",
        "print(a,\"+\",b,\"=\",a+b)\n",
        "print(a,\"-\",b,\"=\",a-b)\n",
        "print(a,\"X\",b,\"=\",a*b)\n",
        "print(a,\"/\",b,\"= %0.2f\"%(a/b))\n",
        "print(a,\"%\",b,\"=\",a%b)"
      ]
    },
    {
      "cell_type": "code",
      "execution_count": null,
      "metadata": {
        "colab": {
          "base_uri": "https://localhost:8080/"
        },
        "id": "Fyv5BQcrQHl5",
        "outputId": "672dcce9-9c44-427e-9991-dbfa1caa6d90"
      },
      "outputs": [
        {
          "name": "stdout",
          "output_type": "stream",
          "text": [
            "Principle Amount :100000\n",
            "Time Taken :123\n",
            "Rate of Intrest :1.25\n",
            "Simple intrest :  153750.0\n"
          ]
        }
      ],
      "source": [
        "#3. simple intrest\n",
        "p=float(input(\"Principle Amount :\"))\n",
        "t=float(input(\"Time Taken :\"))\n",
        "r=float(input(\"Rate of Intrest :\"))\n",
        "print(\"Simple intrest : \",((p*t*r)/100))"
      ]
    },
    {
      "cell_type": "code",
      "execution_count": null,
      "metadata": {
        "colab": {
          "base_uri": "https://localhost:8080/"
        },
        "id": "qXADgBZXRbcP",
        "outputId": "ba59cdb5-d544-4e7a-a0db-345145aed982"
      },
      "outputs": [
        {
          "output_type": "stream",
          "name": "stdout",
          "text": [
            "Principle input :100000\n",
            "Rate of intrest :1.25\n",
            "No.of times the intrest is to be compounded :4\n",
            "Compund intrest :  105094.53369140622\n"
          ]
        }
      ],
      "source": [
        "#4.Compound intrest\n",
        "p=float(input(\"Principle input :\"))\n",
        "r=float(input(\"Rate of intrest :\"))\n",
        "n=float(input(\"No.of times the intrest is to be compounded :\"))\n",
        "print(\"Compund intrest : \",(p*((1+(r/100))**n)))"
      ]
    },
    {
      "cell_type": "code",
      "execution_count": null,
      "metadata": {
        "colab": {
          "base_uri": "https://localhost:8080/"
        },
        "id": "84-nhs_FTmH2",
        "outputId": "1bc2e68a-7a58-4289-f042-2b157f2ed102"
      },
      "outputs": [
        {
          "name": "stdout",
          "output_type": "stream",
          "text": [
            "Enter the radius of the circle to compute it's area :4\n",
            "Area of the circle for given radius 4.0 : 50.285714285714285\n"
          ]
        }
      ],
      "source": [
        "#5. Compute the area of Circle, Rectangle, Triangle and Square.\n",
        "#5.1\n",
        "r=float(input(\"Enter the radius of the circle to compute it's area :\"))\n",
        "print(\"Area of the circle for given radius\",r,\":\",(22/7)*(r**2))"
      ]
    },
    {
      "cell_type": "code",
      "execution_count": null,
      "metadata": {
        "colab": {
          "base_uri": "https://localhost:8080/"
        },
        "id": "RDycYt-GWH8e",
        "outputId": "d5cc5967-a13c-4bc0-dd9a-686beb3b2fb3"
      },
      "outputs": [
        {
          "name": "stdout",
          "output_type": "stream",
          "text": [
            "Enter the length of the rectangle :4.2\n",
            "Enter the bredth of the rectangle :3\n",
            "Area of rectangle for given dimensions : 12.600000000000001\n"
          ]
        }
      ],
      "source": [
        "#5.2\n",
        "l=float(input(\"Enter the length of the rectangle :\"))\n",
        "b=float(input(\"Enter the bredth of the rectangle :\"))\n",
        "print(\"Area of rectangle for given dimensions :\",l*b)"
      ]
    },
    {
      "cell_type": "code",
      "execution_count": null,
      "metadata": {
        "colab": {
          "base_uri": "https://localhost:8080/"
        },
        "id": "iSTqTdunW7j1",
        "outputId": "cd466759-c3f4-4f87-ac06-507f029a10f1"
      },
      "outputs": [
        {
          "name": "stdout",
          "output_type": "stream",
          "text": [
            "Enter the length of the base of triangle :5\n",
            "Enter the height of the triangle :6\n",
            "Area of the trianglr for given dimensions : 15.0\n"
          ]
        }
      ],
      "source": [
        "#5.3\n",
        "b=float(input(\"Enter the length of the base of triangle :\"))\n",
        "h=float(input(\"Enter the height of the triangle :\"))\n",
        "print(\"Area of the trianglr for given dimensions :\",(1/2)*b*h)"
      ]
    },
    {
      "cell_type": "code",
      "execution_count": null,
      "metadata": {
        "colab": {
          "base_uri": "https://localhost:8080/"
        },
        "id": "CdJ1pnwrXmAa",
        "outputId": "47b41e77-3545-4c5d-fbb9-2b69167e5604"
      },
      "outputs": [
        {
          "name": "stdout",
          "output_type": "stream",
          "text": [
            "Enter the length of a side of square :4\n",
            "Area of square : 64.0\n"
          ]
        }
      ],
      "source": [
        "#5.3\n",
        "a=float(input(\"Enter the length of a side of square :\"))\n",
        "print(\"Area of square :\",4*a**2)"
      ]
    },
    {
      "cell_type": "code",
      "execution_count": null,
      "metadata": {
        "colab": {
          "base_uri": "https://localhost:8080/"
        },
        "id": "Kn83oPUnYCiJ",
        "outputId": "5f3bc238-66d7-4698-b167-f25115c4041d"
      },
      "outputs": [
        {
          "output_type": "stream",
          "name": "stdout",
          "text": [
            "Enter the radius of the circle to compute it's curcumference :12.2\n",
            "The circumference of the circle for given radius : 76.68571428571428\n"
          ]
        }
      ],
      "source": [
        "#6. Compute the Circumference of circle\n",
        "r=float(input(\"Enter the radius of the circle to compute it's curcumference :\"))\n",
        "print(\"The circumference of the circle for given radius :\",2*(22/7)*r)"
      ]
    },
    {
      "cell_type": "code",
      "execution_count": null,
      "metadata": {
        "id": "rXimYrpBYsJy",
        "colab": {
          "base_uri": "https://localhost:8080/"
        },
        "outputId": "20bcdbe7-7a3b-4efd-a0bb-6848f5cd97cc"
      },
      "outputs": [
        {
          "output_type": "stream",
          "name": "stdout",
          "text": [
            "Enter the length of the side 1 :3\n",
            "Enter the length of the side 2 :4\n",
            "Enter the length of the side 3 :5.6\n",
            "area of the triangle with given sides is : 5.785490471861483\n"
          ]
        }
      ],
      "source": [
        "#7. Find the area of triangle when three sides are given.\n",
        "a=float(input(\"Enter the length of the side 1 :\"))\n",
        "b=float(input(\"Enter the length of the side 2 :\"))\n",
        "c=float(input(\"Enter the length of the side 3 :\"))\n",
        "s=(a+b+c)/2\n",
        "print(\"area of the triangle with given sides is :\",(s*(s-a)*(s-b)*(s-c))**0.5)"
      ]
    },
    {
      "cell_type": "code",
      "source": [
        "#8. Compute the Perimeter of Rectangle.\n",
        "l=float(input(\"Enter the length of the rectangle :\"))\n",
        "b=float(input(\"Enter the bredth of the rectangle :\"))\n",
        "print(\"Perimeter of the rectangle for given dimensions :\",2*(l+b))"
      ],
      "metadata": {
        "colab": {
          "base_uri": "https://localhost:8080/"
        },
        "id": "uTYMVMtfp5Ko",
        "outputId": "aaf37c97-bc10-499d-c0ad-7290f60e17be"
      },
      "execution_count": null,
      "outputs": [
        {
          "output_type": "stream",
          "name": "stdout",
          "text": [
            "Enter the length of the rectangle :2\n",
            "Enter the bredth of the rectangle :3.2\n",
            "Perimeter of the rectangle for given dimensions : 10.4\n"
          ]
        }
      ]
    },
    {
      "cell_type": "code",
      "source": [
        "#9. To find the area of trapezium.\n",
        "print(\"Enter the length of parallel sides and height :\")\n",
        "a=float(input())\n",
        "b=float(input())\n",
        "h=float(input())\n",
        "print(\"The area of the trapezium :\",((a+b)/2)*h)"
      ],
      "metadata": {
        "colab": {
          "base_uri": "https://localhost:8080/"
        },
        "id": "XMuxOTDLsPuU",
        "outputId": "7d68d7b1-588b-43e6-ce55-d45527b1ca0f"
      },
      "execution_count": null,
      "outputs": [
        {
          "output_type": "stream",
          "name": "stdout",
          "text": [
            "Enter the length of parallel sides and height :\n",
            "2\n",
            "3\n",
            "2.3\n",
            "The area of the trapezium : 5.75\n"
          ]
        }
      ]
    },
    {
      "cell_type": "code",
      "source": [
        "#10. To find the area of rhombus\n",
        "d1=float(input(\"Enter the length of the dimeter 1 :\"))\n",
        "d2=float(input(\"Enter the length of the dimeter 2 :\"))\n",
        "print(\"Area of rhombus for given dimensions :\",(d1*d2)/2)"
      ],
      "metadata": {
        "id": "x8NgXvM8t9CJ",
        "colab": {
          "base_uri": "https://localhost:8080/"
        },
        "outputId": "e44b3c27-a4d7-4e48-8412-23a280290c34"
      },
      "execution_count": null,
      "outputs": [
        {
          "output_type": "stream",
          "name": "stdout",
          "text": [
            "Enter the length of the dimeter 1 :2.5\n",
            "Enter the length of the dimeter 2 :3\n",
            "Area of rhombus for given dimensions : 3.75\n"
          ]
        }
      ]
    },
    {
      "cell_type": "code",
      "source": [
        "#11. To find the area of parallelogram. \n",
        "a=float(input(\"Enter the length of the parallel side of a parallelogram :\"))\n",
        "h=float(input(\"Enter the height of the parallelogram :\"))\n",
        "print(\"Area of parallelogram :\",a*h)"
      ],
      "metadata": {
        "colab": {
          "base_uri": "https://localhost:8080/"
        },
        "id": "3bPnNQ3VUwKt",
        "outputId": "af7263dd-4954-45d8-e356-b804351e9b0b"
      },
      "execution_count": null,
      "outputs": [
        {
          "output_type": "stream",
          "name": "stdout",
          "text": [
            "Enter the length of the parallel side of a parallelogram :12.3\n",
            "Enter the height of the parallelogram :2.3\n",
            "Area of parallelogram : 28.29\n"
          ]
        }
      ]
    },
    {
      "cell_type": "code",
      "source": [
        "#12. To find the volume and surface area of cube. \n",
        "a=float(input(\"Enter the length of a side of the cube :\"))\n",
        "print(\"Volume of the cube :\",a**3,\"\\nSurface area of the cube :\",6*a**2)"
      ],
      "metadata": {
        "colab": {
          "base_uri": "https://localhost:8080/"
        },
        "id": "yZh5aXdMUwrd",
        "outputId": "10c7a685-01a0-4c55-d2d8-2716dc328b06"
      },
      "execution_count": null,
      "outputs": [
        {
          "output_type": "stream",
          "name": "stdout",
          "text": [
            "Enter the length of a side of the cube :12.2\n",
            "Volume of the cube : 1815.8479999999997 \n",
            "Surface area of the cube : 893.0399999999998\n"
          ]
        }
      ]
    },
    {
      "cell_type": "code",
      "source": [
        "#13. To find the volume and surface area of cuboids. \n",
        "l=float(input(\"Enter the length of the cuboid :\"))\n",
        "b=float(input(\"Enter the bredth of the cuboid :\"))\n",
        "h=float(input(\"Enter the height of the cuboid :\"))\n",
        "print(\"Volume of cuboid :\",l*b*h,\"\\nSurface area of cuboid :\",2*((l*b)+(b*h)+(h*l)))"
      ],
      "metadata": {
        "colab": {
          "base_uri": "https://localhost:8080/"
        },
        "id": "ZYAwBqIRUw34",
        "outputId": "fec7dbf1-8862-4c20-9187-196f7d499dd5"
      },
      "execution_count": null,
      "outputs": [
        {
          "output_type": "stream",
          "name": "stdout",
          "text": [
            "Enter the length of the cuboid :12.2\n",
            "Enter the bredth of the cuboid :13\n",
            "Enter the height of the cuboid :14\n",
            "Volume of cuboid : 2220.4 \n",
            "Surface area of cuboid : 1022.8\n"
          ]
        }
      ]
    },
    {
      "cell_type": "code",
      "source": [
        "#14. To find the volume and surface area of cylinder.\n",
        "r=float(input(\"Enter the radius of the cylinder :\"))\n",
        "h=float(input(\"Enter the height of the cylinder :\"))\n",
        "print(\"Volume of the cylinder :\",(22/7)*r*h,\"\\nSurface area of cylinder :\",2*(22/7)*r*(r+h)) "
      ],
      "metadata": {
        "colab": {
          "base_uri": "https://localhost:8080/"
        },
        "id": "PlNpRVplUxCp",
        "outputId": "02b8b2a4-4db6-4b05-c3ae-52d95e1f6a84"
      },
      "execution_count": null,
      "outputs": [
        {
          "output_type": "stream",
          "name": "stdout",
          "text": [
            "Enter the radius of the cylinder :11.2\n",
            "Enter the height of the cylinder :12\n",
            "Volume of the cylinder : 422.4 \n",
            "Surface area of cylinder : 1633.2799999999997\n"
          ]
        }
      ]
    },
    {
      "cell_type": "code",
      "source": [
        "#15. To find the surface area and volume of a cone. \n",
        "r=float(input(\"Enter the radius of the base of the cone :\"))\n",
        "l=float(input(\"Enter the slant height of the cone :\"))\n",
        "h=float(input(\"Enter the height of the cone :\"))\n",
        "print(\"Volume of the cone :\",(22/7)*(r**2)*h,\"\\nSurface area of the cone :\",(22/7)*r*(r+l))"
      ],
      "metadata": {
        "colab": {
          "base_uri": "https://localhost:8080/"
        },
        "id": "zIh5JpfcUxOR",
        "outputId": "558fd2ca-b2b3-46ab-95ec-f8146e0cafea"
      },
      "execution_count": null,
      "outputs": [
        {
          "output_type": "stream",
          "name": "stdout",
          "text": [
            "Enter the radius of the base of the cone :12.2\n",
            "Enter the slant height of the cone :13\n",
            "Enter the height of the cone :14\n",
            "Volume of the cone : 6548.959999999998 \n",
            "Surface area of the cone : 966.2399999999999\n"
          ]
        }
      ]
    },
    {
      "cell_type": "code",
      "source": [
        "#16. To find the volume and surface area of sphere.\n",
        "r=float(input(\"Enter the radius of the sphere :\"))\n",
        "print(\"Volume of the sphere :\",(4/3)*(22/7)*(r**3),\"\\nVolume of the sphere :\",4*(22/7)*(r**2))"
      ],
      "metadata": {
        "colab": {
          "base_uri": "https://localhost:8080/"
        },
        "id": "wvIQpi_cUxX2",
        "outputId": "a3c4a5ef-ff95-4dad-a744-f144be96f21a"
      },
      "execution_count": null,
      "outputs": [
        {
          "output_type": "stream",
          "name": "stdout",
          "text": [
            "Enter the radius of the sphere :12.2\n",
            "Volume of the sphere : 7609.267809523807 \n",
            "Volume of the sphere : 1871.1314285714282\n"
          ]
        }
      ]
    },
    {
      "cell_type": "code",
      "source": [
        "#17. To find the perimeter of a circle and triangle.\n",
        "r=float(input(\"Enter the radius of the circle :\"))\n",
        "print(\"Perimeter of the circle :\",2*(22/7)*r)\n",
        "print(\"Enter the length of each side of the triangle :\")\n",
        "a=float(input())\n",
        "b=float(input())\n",
        "c=float(input())\n",
        "print(\"Perimeter of the triangle :\",a+b+c)"
      ],
      "metadata": {
        "colab": {
          "base_uri": "https://localhost:8080/"
        },
        "id": "reRXC5K7UxiG",
        "outputId": "b167b55f-3669-4159-a182-ef050e40c350"
      },
      "execution_count": null,
      "outputs": [
        {
          "output_type": "stream",
          "name": "stdout",
          "text": [
            "Enter the radius of the circle :12.4\n",
            "Perimeter of the circle : 77.94285714285715\n",
            "Enter the length of each side of the triangle :\n",
            "22.4\n",
            "23.5\n",
            "25\n",
            "Perimeter of the triangle : 70.9\n"
          ]
        }
      ]
    },
    {
      "cell_type": "code",
      "source": [
        "#18. \n",
        "n=int(input(\"How many subjects :\"))\n",
        "print(\"Enter the marks of a student in\",n,\"subjects :\")\n",
        "m=[]\n",
        "sum=0\n",
        "for i in range(0,n):\n",
        "    m.append(float(input()))\n",
        "print(m)\n",
        "for j in range(0,len(m)):\n",
        "    sum=sum+m[j]\n",
        "print(\"Sum of marks in five subjects of a subjects :\",sum,\"\\nAverage :\",sum/(len(m)))"
      ],
      "metadata": {
        "colab": {
          "base_uri": "https://localhost:8080/"
        },
        "id": "E4dqjknRUxsl",
        "outputId": "e0a420e6-85f7-473c-bf26-77227eedd3cf"
      },
      "execution_count": null,
      "outputs": [
        {
          "output_type": "stream",
          "name": "stdout",
          "text": [
            "How many subjects :5\n",
            "Enter the marks of a student in 5 subjects :\n",
            "13\n",
            "12.5\n",
            "15\n",
            "14.5\n",
            "15\n",
            "[13.0, 12.5, 15.0, 14.5, 15.0]\n",
            "Sum of marks in five subjects of a subjects : 70.0 \n",
            "Average : 14.0\n"
          ]
        }
      ]
    },
    {
      "cell_type": "code",
      "source": [
        "#19. Swap the content of two variables using temp.\n",
        "a=input()\n",
        "b=input()\n",
        "print(\"Before swapping : a :\",a,\"\\tb :\",b)\n",
        "temp=a\n",
        "a=b\n",
        "b=temp\n",
        "print(\"After swapping  : a :\",a,\"\\tb :\",b)"
      ],
      "metadata": {
        "colab": {
          "base_uri": "https://localhost:8080/"
        },
        "id": "nplyT38qUx12",
        "outputId": "4bf5b038-48ef-479d-a362-2e24b3a4c623"
      },
      "execution_count": null,
      "outputs": [
        {
          "output_type": "stream",
          "name": "stdout",
          "text": [
            "11\n",
            "12\n",
            "Before swapping : a : 11 \tb : 12\n",
            "After swapping  : a : 12 \tb : 11\n"
          ]
        }
      ]
    },
    {
      "cell_type": "code",
      "source": [
        "#20. Swap the content of two variables without using temp.\n",
        "a=int(input())\n",
        "b=int(input())\n",
        "print(\"Before swapping : a :\",a,\"\\tb :\",b)\n",
        "a=a+b\n",
        "b=a-b\n",
        "a=a-b\n",
        "print(\"After swapping  : a :\",a,\"\\tb :\",b)"
      ],
      "metadata": {
        "colab": {
          "base_uri": "https://localhost:8080/"
        },
        "id": "NEpO40uxUx-L",
        "outputId": "8c86219b-98f0-48ee-8c0b-9994f885c5b2"
      },
      "execution_count": null,
      "outputs": [
        {
          "output_type": "stream",
          "name": "stdout",
          "text": [
            "11\n",
            "12\n",
            "Before swapping : a : 11 \tb : 12\n",
            "After swapping  : a : 12 \tb : 11\n"
          ]
        }
      ]
    },
    {
      "cell_type": "code",
      "source": [
        "#21. Swap the content of two variables using “,” - opeartor.\n",
        "a=input()\n",
        "b=input()\n",
        "print(\"Before swapping : a :\",a,\"\\tb :\",b)\n",
        "a,b=b,a\n",
        "print(\"After swapping  : a :\",a,\"\\tb :\",b)"
      ],
      "metadata": {
        "colab": {
          "base_uri": "https://localhost:8080/"
        },
        "id": "mJX9Yf5PUyHZ",
        "outputId": "7a7dc0ca-0df9-4731-813b-f69202e5cfdc"
      },
      "execution_count": null,
      "outputs": [
        {
          "output_type": "stream",
          "name": "stdout",
          "text": [
            "11\n",
            "12\n",
            "Before swapping : a : 11 \tb : 12\n",
            "After swapping  : a : 12 \tb : 11\n"
          ]
        }
      ]
    },
    {
      "cell_type": "code",
      "source": [
        "#22. Enter two angles of a triangle and find the third angle.\n",
        "print(\"Enter any two angles of the triangle :\")\n",
        "a=float(input())\n",
        "b=float(input())\n",
        "print(\"Third angle of the triangle : %g\"%(180-(a+b)))"
      ],
      "metadata": {
        "colab": {
          "base_uri": "https://localhost:8080/"
        },
        "id": "-L8d0YEVUySR",
        "outputId": "6ab6e5c0-ec7e-4ec8-82a7-1311b072e942"
      },
      "execution_count": null,
      "outputs": [
        {
          "output_type": "stream",
          "name": "stdout",
          "text": [
            "Enter any two angles of the triangle :\n",
            "120\n",
            "30\n",
            "Third angle of the triangle : 30\n"
          ]
        }
      ]
    },
    {
      "cell_type": "code",
      "source": [
        "#23. Find the greatest of three numbers using conditional operator. \n",
        "a=float(input())\n",
        "b=float(input())\n",
        "c=float(input()) \n",
        "large= a if (a>b and a>c)  else (b if b>c else c)\n",
        "print(\"%g is larger.\"%large)"
      ],
      "metadata": {
        "colab": {
          "base_uri": "https://localhost:8080/"
        },
        "id": "0ovvrBqdUybC",
        "outputId": "e02e579f-e9f4-43c8-e60c-f69a414e4183"
      },
      "execution_count": null,
      "outputs": [
        {
          "output_type": "stream",
          "name": "stdout",
          "text": [
            "11\n",
            "15\n",
            "1\n",
            "15 is larger.\n"
          ]
        }
      ]
    },
    {
      "cell_type": "code",
      "source": [
        "#24. Read floating point number and to print right most digit of integral part.\n",
        "n=float(input())\n",
        "print(\"The right most digit of integral part in\",n,\"is :\",int(n%10))"
      ],
      "metadata": {
        "id": "VlUs8B5OUykl"
      },
      "execution_count": null,
      "outputs": []
    },
    {
      "cell_type": "code",
      "source": [
        "#25. Convert temperature from degree Celsius to Fahrenheit. ( Fahrenheit to Celsius) \n",
        "c=float(input(\"Enter the value of temperature in celcius :\"))\n",
        "print(\"Given temperature in fahrenheit : %0.1f\"%((c*(9/2))+32),\"\\bF\")"
      ],
      "metadata": {
        "colab": {
          "base_uri": "https://localhost:8080/"
        },
        "id": "IMSefsVZXj0r",
        "outputId": "6bdb1952-c16d-4ae1-fe7c-d1705f5cbac2"
      },
      "execution_count": null,
      "outputs": [
        {
          "output_type": "stream",
          "name": "stdout",
          "text": [
            "Enter the value of temperature in celcius :23.2\n",
            "Given temperature in fahrenheit : 136.4 \bF\n"
          ]
        }
      ]
    },
    {
      "cell_type": "code",
      "source": [
        "#26. To Conversion of an Upper-case character to a Lower-case character. (Vice Versa)\n",
        "s=input(\"Enter any sentence :\")\n",
        "lwr=''\n",
        "for i in s:\n",
        "    if(ord(i)>=65 and ord(i)<=90):\n",
        "        lwr=lwr+chr(ord(i)+32)\n",
        "    else:\n",
        "        lwr=lwr+i\n",
        "print(\"Lower case sentence :\",lwr)\n"
      ],
      "metadata": {
        "colab": {
          "base_uri": "https://localhost:8080/"
        },
        "id": "TVjop9mIYZM8",
        "outputId": "ad9f2c42-0605-4bd5-d32f-6c6deb79efce"
      },
      "execution_count": null,
      "outputs": [
        {
          "output_type": "stream",
          "name": "stdout",
          "text": [
            "Enter any sentence :TARUN\n",
            "Lower case sentence : tarun\n"
          ]
        }
      ]
    },
    {
      "cell_type": "code",
      "source": [
        "lwr=input(\"Enter any sentence :\")\n",
        "upr=''\n",
        "for i in lwr:\n",
        "    if(ord(i)>=97 and ord(i)<=122):\n",
        "        upr=upr+chr(ord(i)-32)\n",
        "    else:\n",
        "        upr=upr+i\n",
        "print(\"upper case sentence :\",upr)\n"
      ],
      "metadata": {
        "colab": {
          "base_uri": "https://localhost:8080/"
        },
        "id": "BMgivQFian5r",
        "outputId": "00ff1ec8-c2d4-4823-d8ed-a20c20d08ffa"
      },
      "execution_count": null,
      "outputs": [
        {
          "output_type": "stream",
          "name": "stdout",
          "text": [
            "Enter any sentence :tarun\n",
            "upper case sentence : TARUN\n"
          ]
        }
      ]
    },
    {
      "cell_type": "code",
      "source": [
        "#27. To compute the net salary of an employee by considering the formula, Net salary =  Basic salary +DA+TA+HRA -LIC where DA, TA, HRA and LIC are supplied as  the input.\n",
        "bs=float(input(\"Enter the basic salary of the employee :\"))\n",
        "da=float(input(\"Enter DA (in percentage) :\"))\n",
        "ta=float(input(\"Enter TA (in percentage) :\"))\n",
        "hra=float(input(\"Enter HRA (in percentage) :\"))\n",
        "lic=float(input(\"Enter LIC (in percentage) :\"))\n",
        "NS=bs+((da*bs)/100)+((ta*bs)/100)+((hra*bs)/100)-((lic*bs)/100)\n",
        "print(\"Net salary of an employee : Rs \",NS)"
      ],
      "metadata": {
        "id": "SiSMix1UeMKC",
        "colab": {
          "base_uri": "https://localhost:8080/"
        },
        "outputId": "c8be4e4a-51ce-41f6-87a8-b04720c12ceb"
      },
      "execution_count": null,
      "outputs": [
        {
          "output_type": "stream",
          "name": "stdout",
          "text": [
            "Enter the basic salary of the employee :75000\n",
            "Enter DA (in percentage) :21\n",
            "Enter TA (in percentage) :19\n",
            "Enter HRA (in percentage) :18\n",
            "Enter LIC (in percentage) :25\n",
            "Net salary of an employee : Rs  99750.0\n"
          ]
        }
      ]
    },
    {
      "cell_type": "code",
      "source": [
        "#28. To find out root of any number. \n",
        "n=float(input(\"Enter any number :\"))\n",
        "r=int(input(\"Enter the order of the root :\"))\n",
        "print(\"The root of\",n,\"for given order\",r,\"is :\",n**(1/r))\n",
        "\n"
      ],
      "metadata": {
        "colab": {
          "base_uri": "https://localhost:8080/"
        },
        "id": "sqN6WHeCxzel",
        "outputId": "aef061f5-0e55-4c84-a07a-8f1d55991007"
      },
      "execution_count": null,
      "outputs": [
        {
          "output_type": "stream",
          "name": "stdout",
          "text": [
            "Enter any number :2\n",
            "Enter the order of the root :2\n",
            "The root of 2.0 for given order 2 is : 1.4142135623730951\n"
          ]
        }
      ]
    },
    {
      "cell_type": "code",
      "source": [
        "#29. Input any number from user and check whether nth bit of the given number is set  (1) or not (0)(hint: Use bitwise operators)\n",
        "num=int(input(\"Enter any number :\"));n=int(input(\"enter which bit's value to be fetched :\"))\n",
        "n_bit=(1<<n)\n",
        "if num & n_bit: \n",
        "    print(\"Nth bit of\",num,\"is : 1\")\n",
        "else:\n",
        "    print(\"Nth bit of\",num,\"is : 0\")"
      ],
      "metadata": {
        "id": "6hoPz2OA0kq_",
        "colab": {
          "base_uri": "https://localhost:8080/"
        },
        "outputId": "31f1bb61-0022-4c08-c84f-86ccd333e6fd"
      },
      "execution_count": null,
      "outputs": [
        {
          "output_type": "stream",
          "name": "stdout",
          "text": [
            "Enter any number :13\n",
            "enter which bit's value to be fetched :0\n",
            "Nth bit of 13 is : 1\n"
          ]
        }
      ]
    },
    {
      "cell_type": "code",
      "source": [
        "#30. Swapping of two numbers using Bitwise Operators. \n",
        "a=int(input())\n",
        "b=int(input())\n",
        "print(\"Before swapping : a :\",a,\"\\tb :\",b)\n",
        "a=a^b\n",
        "b=a^b\n",
        "a=a^b\n",
        "print(\"After swapping  : a :\",a,\"\\tb :\",b)"
      ],
      "metadata": {
        "colab": {
          "base_uri": "https://localhost:8080/"
        },
        "id": "qBwo8fJa3IcE",
        "outputId": "9b027aa1-c79b-4b51-b4dd-78bbf8728a7d"
      },
      "execution_count": null,
      "outputs": [
        {
          "output_type": "stream",
          "name": "stdout",
          "text": [
            "11\n",
            "12\n",
            "Before swapping : a : 11 \tb : 12\n",
            "After swapping  : a : 12 \tb : 11\n"
          ]
        }
      ]
    },
    {
      "cell_type": "code",
      "source": [
        "#31. Check whether the triangle is equilateral, isosceles, or scalene triangle. \n",
        "print(\"Enter the angles of the triangle :\")\n",
        "a=float(input())\n",
        "b=float(input())\n",
        "c=float(input())\n",
        "if(a+b+c==180):\n",
        "    if(a==b==c):\n",
        "        print(\"The triangle is an Equilateral triangle.\")\n",
        "    elif(a==b or b==c or c==a):\n",
        "        print(\"The triangle is an Isosceles triangle.\")\n",
        "    else:\n",
        "        print(\"The triangle is an Scalen triangle.\")\n",
        "else:\n",
        "    print(\"Invalid. Triangle cannot be formed with given angles\")"
      ],
      "metadata": {
        "colab": {
          "base_uri": "https://localhost:8080/"
        },
        "id": "GiSgAnXl3Zpb",
        "outputId": "1a289ab0-685a-4e07-b9a1-b00576004dca"
      },
      "execution_count": null,
      "outputs": [
        {
          "output_type": "stream",
          "name": "stdout",
          "text": [
            "Enter the angles of the triangle :\n",
            "90\n",
            "45\n",
            "45\n",
            "The triangle is an Isosceles triangle.\n"
          ]
        }
      ]
    },
    {
      "cell_type": "code",
      "source": [
        "#32. To find the greater (smallest) of two numbers. \n",
        "print(\"Enter any two numbers :\")\n",
        "a=float(input())\n",
        "b=float(input())\n",
        "if(a>b):\n",
        "    print(a,\"is largest and\",b,\"is smallest\")\n",
        "else:\n",
        "    print(b,\"is largest and\",a,\"is smallest\")"
      ],
      "metadata": {
        "colab": {
          "base_uri": "https://localhost:8080/"
        },
        "id": "HK5z_LfR4ler",
        "outputId": "36bc2af0-025b-4a9d-c8e3-26f55139ce10"
      },
      "execution_count": null,
      "outputs": [
        {
          "output_type": "stream",
          "name": "stdout",
          "text": [
            "123.1\n",
            "123\n",
            "123.1 is largest and 123.0 is smallest\n"
          ]
        }
      ]
    },
    {
      "cell_type": "code",
      "source": [
        "#33. To find the greatest (smallest) of three numbers. \n",
        "print(\"Enter any three numbers :\")\n",
        "a=float(input())\n",
        "b=float(input())\n",
        "c=float(input())\n",
        "large = a if (a>b and a>c) else (b if b>c else c)\n",
        "small = a if (a<b and a<c) else (b if b<c else c)\n",
        "print(\"%g\"%large,\" is largest and %g\"%small,\"is smallest\")"
      ],
      "metadata": {
        "colab": {
          "base_uri": "https://localhost:8080/"
        },
        "id": "a-M3jd535srH",
        "outputId": "56b230e7-a1aa-4289-d1c8-da733bcc116f"
      },
      "execution_count": null,
      "outputs": [
        {
          "output_type": "stream",
          "name": "stdout",
          "text": [
            "Enter any three numbers :\n",
            "12\n",
            "1\n",
            "13\n",
            "13  is largest and 1 is smallest\n"
          ]
        }
      ]
    },
    {
      "cell_type": "code",
      "source": [
        "#34. To check whether given number is even or odd. \n",
        "n=int(input(\"Enter any number :\"))\n",
        "if(n%2==0):\n",
        "    print(\"Given number is an Even number\")\n",
        "else:\n",
        "    print(\"Given number is an odd number\")"
      ],
      "metadata": {
        "colab": {
          "base_uri": "https://localhost:8080/"
        },
        "id": "Whxqpijr8umi",
        "outputId": "14764a04-55f3-4cce-b2b3-17f6be5526b5"
      },
      "execution_count": null,
      "outputs": [
        {
          "output_type": "stream",
          "name": "stdout",
          "text": [
            "Enter any number :13\n",
            "Given number is an odd number\n"
          ]
        }
      ]
    },
    {
      "cell_type": "code",
      "source": [
        "#35. To check whether a given number is zero or not . \n",
        "n=int(input(\"Enter any number :\"))\n",
        "if(n==0):\n",
        "    print(\"Given number is 0\")\n",
        "else:\n",
        "    print(\"Given number is non-zero\")"
      ],
      "metadata": {
        "colab": {
          "base_uri": "https://localhost:8080/"
        },
        "id": "loN1Tx5a9nC5",
        "outputId": "9bdd664b-0d50-4ba9-e03a-32cf1b30f905"
      },
      "execution_count": null,
      "outputs": [
        {
          "output_type": "stream",
          "name": "stdout",
          "text": [
            "Enter any number :0\n",
            "Given number is 0\n"
          ]
        }
      ]
    },
    {
      "cell_type": "code",
      "source": [
        "#36. To check whether number a number is positive or negative. \n",
        "n=int(input(\"Enter any number :\"))\n",
        "if(n>0):\n",
        "    print(n,\"is Positive\")\n",
        "else:\n",
        "    print(n,\"is Negitive\")"
      ],
      "metadata": {
        "colab": {
          "base_uri": "https://localhost:8080/"
        },
        "id": "iZeE2MVT95d1",
        "outputId": "a63349f5-c3f4-4865-84f0-4d3463b58ac9"
      },
      "execution_count": null,
      "outputs": [
        {
          "output_type": "stream",
          "name": "stdout",
          "text": [
            "Enter any number :-3\n",
            "-3 is Negitive\n"
          ]
        }
      ]
    },
    {
      "cell_type": "code",
      "source": [
        "#37. To check whether number a number is positive or negative or Zero (Using Switch /  Nested if else).\n",
        "n=int(input(\"Enter any number :\"))\n",
        "if(n>0):\n",
        "    print(n,\"is Positive\")\n",
        "elif(n==0):\n",
        "    print(\"Given number is 0\")\n",
        "else:\n",
        "    print(n,\"is Negitive\")"
      ],
      "metadata": {
        "colab": {
          "base_uri": "https://localhost:8080/"
        },
        "id": "lss1yW3O-Ogh",
        "outputId": "f18da169-ef8e-4c28-bb2f-e6ecee6b8d1b"
      },
      "execution_count": null,
      "outputs": [
        {
          "output_type": "stream",
          "name": "stdout",
          "text": [
            "Enter any number :0\n",
            "Given number is 0\n"
          ]
        }
      ]
    },
    {
      "cell_type": "code",
      "source": [
        "#38. To find that the enter year is leap year or not. \n",
        "yr=int(input(\"Enter the year : \"))\n",
        "if (yr%4==0 and yr%100!=0)or(yr%400==0):\n",
        "    print(yr,\"is a Leap year\")\n",
        "else:\n",
        "    print(yr,\"is not a Leap year\")"
      ],
      "metadata": {
        "colab": {
          "base_uri": "https://localhost:8080/"
        },
        "id": "G-rV45jC-qCV",
        "outputId": "f085a985-a197-418d-fe37-88d1ca1a1fb4"
      },
      "execution_count": null,
      "outputs": [
        {
          "output_type": "stream",
          "name": "stdout",
          "text": [
            "Enter the year : 1900\n",
            "1900 is not a Leap year\n"
          ]
        }
      ]
    },
    {
      "cell_type": "code",
      "source": [
        "#39. To check whether a given character is vowel or consonant.\n",
        "ch=input()\n",
        "if(ch=='a' or 'A' or 'e' or 'E' or 'i' or 'I' or 'o' or 'O' or 'u' or 'U'):\n",
        "    print(ch,\"is a Vowel\")\n",
        "else:\n",
        "    print(ch,\"is a Consonant\")"
      ],
      "metadata": {
        "colab": {
          "base_uri": "https://localhost:8080/"
        },
        "id": "tDqeJLgD_QmH",
        "outputId": "78f10c26-7788-4ef4-b3ab-fbd5cd19fc10"
      },
      "execution_count": null,
      "outputs": [
        {
          "output_type": "stream",
          "name": "stdout",
          "text": [
            "O\n",
            "O is a Vowel\n"
          ]
        }
      ]
    },
    {
      "cell_type": "code",
      "source": [
        "#40. Check whether a number is divisible by 5 and 11 or not. \n",
        "n=int(input(\"Enter a number to check whether it is divisible by 5 and 11 :\"))\n",
        "if(n%5 == 0 and n%11 == 0):\n",
        "    print(n,\"is divisible by both 5 and 11\")\n",
        "else:\n",
        "    print(n,\"is not divisible by both 5 and 11\")"
      ],
      "metadata": {
        "colab": {
          "base_uri": "https://localhost:8080/"
        },
        "id": "zDIgxzH6_9gg",
        "outputId": "f9291847-7b38-4b89-d960-e37fc7fd8819"
      },
      "execution_count": null,
      "outputs": [
        {
          "output_type": "stream",
          "name": "stdout",
          "text": [
            "Enter a number to check whether it is divisible by 5 and 11 :110\n",
            "110 is divisible by both 5 and 11\n"
          ]
        }
      ]
    },
    {
      "cell_type": "code",
      "source": [
        "#41. To perform the simple calculator operation. \n",
        "print(\"1. Addition\\n2. Subraction\\n3. Multiplication\\n4. Division\\n5. Remainder\")\n",
        "choice=int(input(\"Enter your choice :\"))\n",
        "if(choice>5 or choice<1):\n",
        "    print(\"Invalid choice.\")\n",
        "else:\n",
        "    print(\"Enter any two numbers :\")\n",
        "    a=float(input())\n",
        "    b=float(input())\n",
        "    if(choice==1):\n",
        "        print(a,\"+\",b,\"=\",a+b)\n",
        "    elif(choice==2):\n",
        "        print(a,\"-\",b,\"=\",a-b)\n",
        "    elif(choice==3):\n",
        "        print(a,\"X\",b,\"=\",a*b)\n",
        "    elif(choice==4):\n",
        "        print(a,\"/\",b,\"=\",a/b)\n",
        "    else:\n",
        "        print(a,\"%\",b,\"=\",a%b)"
      ],
      "metadata": {
        "colab": {
          "base_uri": "https://localhost:8080/"
        },
        "id": "HKCKYz8WAr7v",
        "outputId": "61dd0be1-721a-4846-b89d-4742159fc97a"
      },
      "execution_count": null,
      "outputs": [
        {
          "output_type": "stream",
          "name": "stdout",
          "text": [
            "1. Addition\n",
            "2. Subraction\n",
            "3. Multiplication\n",
            "4. Division\n",
            "5. Remainder\n",
            "Enter your choice :5\n",
            "Enter any two numbers :\n",
            "6\n",
            "5\n",
            "6.0 % 5.0 = 1.0\n"
          ]
        }
      ]
    },
    {
      "cell_type": "code",
      "source": [
        "#42. Develop a calculator to convert time, distance, area, volume and temperature from  one unit to another.\n",
        "print(\"Unit converter for time, distance, area, volume, temperature from one unit to another\")\n",
        "ch=input(\"Enter your choice :\")\n",
        "if(ch==\"time\" or ch==\"Time\"):\n",
        "    print(\"1. Minutes to seconds\\n2. Seconds to minutes\\n3. Hours to minutes\\n4. Hours to seconds\")\n",
        "    c=int(input(\"Enter your choice :\"))\n",
        "    if(c>4 and c<1):\n",
        "        print(\"Invalid choice\")\n",
        "    else:\n",
        "        if(c==1):\n",
        "            M=int(input(\"Minutes :\"))\n",
        "            print(\"Seconds :\",M*60,\"\\bs\")\n",
        "        elif(c==2):\n",
        "            s=int(input(\"Seconds\"))\n",
        "            print(\"Minutes :\",s/60,\"\\bm\")\n",
        "        elif(c==3):\n",
        "            H=int(input(\"Hours :\"))\n",
        "            print(\"Minutes :\",H*60,\"\\bm\")\n",
        "        else:\n",
        "            H=int(input(\"Hours :\"))\n",
        "            print(\"Seconds :\",H*(60**2),\"\\bs\")\n",
        "elif(ch==\"distance\" or \"Distance\"):\n",
        "    print(\"1. cm to mm\\n2. km to m\\n3. m to cm\")\n",
        "    c=int(input(\"Enter your choice :\"))\n",
        "    if(c>3 and ch<1):\n",
        "        print(\"Invalid choice\")\n",
        "    else:\n",
        "        if(c==1):\n",
        "            cm=float(input(\"Enter the length in cm :\"))\n",
        "            print(\"Millimitters :\",cm*10,\"\\bmm\")\n",
        "        elif(c==2):\n",
        "            km=float(input(\"Enter the distance im KM :\"))\n",
        "            print(\"Meters :\",km*1000,\"\\bM\")\n",
        "        elif(c==3):\n",
        "            m=float(input(\"Enter the length im Metres :\"))\n",
        "            print(\"Cenimeters :\",m*100,\"\\bcm\")\n",
        "elif(ch==\"area\"or\"Area\"):\n",
        "    print(\"1. square centimeter to square millimeter\\n2. square meter to square centimeter\\n3. square centimeter to square meter\")\n",
        "    c=int(input(\"Enter your choice :\"))\n",
        "    if(c>3 and c<1):\n",
        "        print(\"INvalid choice.\")\n",
        "    elif(c==1):\n",
        "        scm=float(input(\"Enter the area in square cetimeters :\"))\n",
        "        print(\"Area in square millimeters :\",scm*100,\"\\bsqmm\")\n",
        "    elif(c==2):\n",
        "        sm=float(input(\"Enter the area in square meters :\"))\n",
        "        print(\"Area in square centimeters :\",sm*10000,\"\\bsqcm\")\n",
        "    elif(c==3):\n",
        "        scm=float(input(\"Enter the area in square cetimeters :\"))\n",
        "        print(\"Area in square meters :\",scm/10000,\"sqm\")"
      ],
      "metadata": {
        "id": "IvnBDy6kCnny",
        "colab": {
          "base_uri": "https://localhost:8080/"
        },
        "outputId": "87150d14-d4e5-4bdd-9874-7ab9c89a9614"
      },
      "execution_count": null,
      "outputs": [
        {
          "output_type": "stream",
          "name": "stdout",
          "text": [
            "Unit converter for time, distance, area, volume, temperature from one unit to another\n",
            "Enter your choice :distance\n",
            "1. cm to mm\n",
            "2. km to m\n",
            "3. m to cm\n",
            "Enter your choice :2\n",
            "Enter the distance im KM :100\n",
            "Meters : 100000.0 \bM\n"
          ]
        }
      ]
    },
    {
      "cell_type": "code",
      "source": [
        "#43. To check whether the input is number or not. \n",
        "n=input(\"Enter any number :\")\n",
        "if ord(n)>=40 and ord(n)<=57 :\n",
        "    print(\"Input is number\")\n",
        "else:\n",
        "    print(\"Input is not a number.\")"
      ],
      "metadata": {
        "id": "WEkbiTYkPb9g",
        "colab": {
          "base_uri": "https://localhost:8080/"
        },
        "outputId": "7c4036ce-98f0-4dbb-ed60-9bb53ea79d8a"
      },
      "execution_count": null,
      "outputs": [
        {
          "output_type": "stream",
          "name": "stdout",
          "text": [
            "Enter any number :A\n",
            "Input is not a number.\n"
          ]
        }
      ]
    },
    {
      "cell_type": "code",
      "source": [
        "#44. To check whether the person is eligible for voting or not. \n",
        "age=int(input(\"Enter the age of the person :\"))\n",
        "if age>=18:\n",
        "    print(\"Person is eligible for voting\")\n",
        "else:\n",
        "    print(\"Person is not eligible for voting\")\n"
      ],
      "metadata": {
        "colab": {
          "base_uri": "https://localhost:8080/"
        },
        "id": "S8jOc7Ws4ad1",
        "outputId": "aba57063-2d00-46ae-e4c8-19d0662b3019"
      },
      "execution_count": null,
      "outputs": [
        {
          "output_type": "stream",
          "name": "stdout",
          "text": [
            "Enter the age of the person :19\n",
            "Person is eligible for voting\n"
          ]
        }
      ]
    },
    {
      "cell_type": "code",
      "source": [
        "#45. To find the roots of an quadratic equation using elif. \n",
        "def discrimenent(a,b,c):\n",
        "    return (b*b)-(4*a*c)\n",
        "\n",
        "print(\"Enter the values of a,b,c of a quadratic equation to find it's roots :\")\n",
        "a=float(input());b=float(input());c=float(input())\n",
        "x=discrimenent(a,b,c)\n",
        "if x>0:\n",
        "    print(\"Roots are real and distint\\nThe roots are : %0.2f\"%((-b+(x**0.5))/(2*a)),\"\\t%0.2f\"%((-b-(x**0.5))/(2*a)))\n",
        "elif x==0:\n",
        "    print(\"Roots are real and equal\\nThe roots are : %0.2f\"%(-b/(2*a)),\"\\t%0.2f\"%(-b/(2*a)))\n",
        "else:\n",
        "    print(\"Roots are imaginary and distint\\nThe roots are :%0.2f\"%(-b/(2*a)),\"\\b+i %0.2f\"%x,\"\\t%0.2f\"%(-b/(2*a)),\"\\b-i %0.2f\"%x)"
      ],
      "metadata": {
        "id": "3I3iJPeQ5uLn",
        "colab": {
          "base_uri": "https://localhost:8080/"
        },
        "outputId": "f08bee02-1066-4877-d871-ca6e74be9e2c"
      },
      "execution_count": null,
      "outputs": [
        {
          "output_type": "stream",
          "name": "stdout",
          "text": [
            "Enter the values of a,b,c of a quadratic equation to find it's roots :\n",
            "7\n",
            "8\n",
            "2\n",
            "Roots are real and distint\n",
            "The roots are : -0.37 \t-0.77\n"
          ]
        }
      ]
    },
    {
      "cell_type": "code",
      "source": [
        "#46. For student grading system.\n"
      ],
      "metadata": {
        "id": "nGfbtpK35_iY"
      },
      "execution_count": null,
      "outputs": []
    },
    {
      "cell_type": "code",
      "source": [
        "#47. To print your name ‘n’ times. \n",
        "name=input(\"Enter your name :\")\n",
        "n=int(input(\"How many times to be printed :\"))\n",
        "for i in range(0,n):\n",
        "    print(name)"
      ],
      "metadata": {
        "colab": {
          "base_uri": "https://localhost:8080/"
        },
        "id": "lm2DftSd6BKh",
        "outputId": "dd6c5c19-2577-4149-c46d-e95fbf6c17f2"
      },
      "execution_count": null,
      "outputs": [
        {
          "output_type": "stream",
          "name": "stdout",
          "text": [
            "Enter your name :Tarun\n",
            "How many times to be printed :5\n",
            "Tarun\n",
            "Tarun\n",
            "Tarun\n",
            "Tarun\n",
            "Tarun\n"
          ]
        }
      ]
    },
    {
      "cell_type": "code",
      "source": [
        "#48. To find the sum and average of ‘n’ input numbers. \n",
        "n=int(input(\"Enter how many numbers to be entered :\"))\n",
        "print(\"Enter\",n,\"numbers :\")\n",
        "l=[]\n",
        "sum=0\n",
        "for i in range(0,n):\n",
        "    l.append(int(input()))\n",
        "for i in l:\n",
        "    sum=sum+i\n",
        "print(\"Sum of numbers in\",l,\"is :\",sum,\"\\nAverage :\",sum/len(l))"
      ],
      "metadata": {
        "colab": {
          "base_uri": "https://localhost:8080/"
        },
        "id": "FuC78e736f9F",
        "outputId": "a0696236-a00c-4c79-d215-6a4565538418"
      },
      "execution_count": null,
      "outputs": [
        {
          "output_type": "stream",
          "name": "stdout",
          "text": [
            "Enter how many numbers to be entered :5\n",
            "Enter 5 numbers :\n",
            "10\n",
            "20\n",
            "30\n",
            "40\n",
            "50\n",
            "Sum of numbers in [10, 20, 30, 40, 50] is : 150 \n",
            "Average : 30.0\n"
          ]
        }
      ]
    },
    {
      "cell_type": "code",
      "source": [
        "#49. To print the natural numbers till ‘n’. \n",
        "n=int(input(\"Enter any number to generate natural number series upto input number :\"))\n",
        "print(\"Natural number series :\")\n",
        "for i in range(1,n+1):\n",
        "    print(i,end=' ')"
      ],
      "metadata": {
        "colab": {
          "base_uri": "https://localhost:8080/"
        },
        "id": "VPRBopQL7fDq",
        "outputId": "227c722f-ce4b-4ea2-b912-d56effdff189"
      },
      "execution_count": null,
      "outputs": [
        {
          "output_type": "stream",
          "name": "stdout",
          "text": [
            "Enter any number to generate natural number series upto input number :20\n",
            "Natural number series :\n",
            "1 2 3 4 5 6 7 8 9 10 11 12 13 14 15 16 17 18 19 20 "
          ]
        }
      ]
    },
    {
      "cell_type": "code",
      "source": [
        "#50. To print the whole numbers till ‘n’. \n",
        "n=int(input(\"Enter any number to generate Whole number series upto input number :\"))\n",
        "print(\"Whole number series :\")\n",
        "for i in range(0,n+1):\n",
        "    print(i,end=' ')"
      ],
      "metadata": {
        "colab": {
          "base_uri": "https://localhost:8080/"
        },
        "id": "i-7Zd7wQ9ZA7",
        "outputId": "00bde1d4-68d1-4c14-d65d-3e0411ef5253"
      },
      "execution_count": null,
      "outputs": [
        {
          "output_type": "stream",
          "name": "stdout",
          "text": [
            "Enter any number to generate Whole number series upto input number :20\n",
            "Whole number series :\n",
            "0 1 2 3 4 5 6 7 8 9 10 11 12 13 14 15 16 17 18 19 20 "
          ]
        }
      ]
    },
    {
      "cell_type": "code",
      "source": [
        "#51. To print the even series. (Till ‘nth term’ / First ‘n’ Numbers) \n",
        "n=int(input(\"How many numbers are to be printed in the series :\"))\n",
        "c=0\n",
        "i=1\n",
        "print(\"Even series till\",n)\n",
        "while(c<n):\n",
        "    if i%2==0:\n",
        "        print(i,end=' ')\n",
        "        c+=1\n",
        "    i+=1"
      ],
      "metadata": {
        "colab": {
          "base_uri": "https://localhost:8080/"
        },
        "id": "X7eA2stK9q1b",
        "outputId": "2c3f7f9d-bc5c-4360-e90f-dcfad9a6f141"
      },
      "execution_count": null,
      "outputs": [
        {
          "output_type": "stream",
          "name": "stdout",
          "text": [
            "How many numbers are to be printed in the series :20\n",
            "Even series till 20\n",
            "2 4 6 8 10 12 14 16 18 20 22 24 26 28 30 32 34 36 38 40 "
          ]
        }
      ]
    },
    {
      "cell_type": "code",
      "source": [
        "#52. To print the odd series. (Till ‘nth term’ / First ‘n’ Numbers) \n",
        "n=int(input(\"How many numbers are to be printed in the series :\"))\n",
        "c=0\n",
        "i=1\n",
        "print(\"odd series till\",n)\n",
        "while(c<n):\n",
        "    if i%2!=0:\n",
        "        print(i,end=' ')\n",
        "        c+=1\n",
        "    i+=1"
      ],
      "metadata": {
        "colab": {
          "base_uri": "https://localhost:8080/"
        },
        "id": "Avkk5Idw-g4U",
        "outputId": "02bc1c02-dcf0-4da1-e41f-1185482e42bc"
      },
      "execution_count": null,
      "outputs": [
        {
          "output_type": "stream",
          "name": "stdout",
          "text": [
            "How many numbers are to be printed in the series :20\n",
            "odd series till 20\n",
            "1 3 5 7 9 11 13 15 17 19 21 23 25 27 29 31 33 35 37 39 "
          ]
        }
      ]
    },
    {
      "cell_type": "code",
      "source": [
        "#53. To print the AP series (Inputs: first number of the series, common difference and  last number).\n",
        "def ap_series(a,n,d):\n",
        "    for i in range(0,n):\n",
        "        print(a,end=\" \")\n",
        "        a+=d\n",
        "\n",
        "a=int(input(\"Enter the starting point of the series : \"))\n",
        "n=int(input(\"How many numbers are to be printed in the series : \"))\n",
        "d=int(input(\"Common difference : \"))\n",
        "ap_series(a,n,d)"
      ],
      "metadata": {
        "id": "XiMJNsm-_vJs",
        "colab": {
          "base_uri": "https://localhost:8080/"
        },
        "outputId": "1c95c1a7-253b-46b1-d8f3-80480f2982e5"
      },
      "execution_count": null,
      "outputs": [
        {
          "output_type": "stream",
          "name": "stdout",
          "text": [
            "Enter the starting point of the series : 2\n",
            "How many numbers are to be printed in the series : 10\n",
            "Common difference : 6\n",
            "2 8 14 20 26 32 38 44 50 56 "
          ]
        }
      ]
    },
    {
      "cell_type": "code",
      "source": [
        "#54. To check a given number is prime or not. \n",
        "def prime_or_not(n):\n",
        "    c=0\n",
        "    for i in range(2,(n//2)+1):\n",
        "        if n%i==0:\n",
        "            c=1\n",
        "    if c==1:\n",
        "        return False\n",
        "    else:\n",
        "        return True\n",
        "\n",
        "num=int(input(\"Enter a number :\"))\n",
        "if(prime_or_not(num)==True):\n",
        "    print(\"Prime number\")\n",
        "else:\n",
        "    print(\"Not a prime number\")"
      ],
      "metadata": {
        "colab": {
          "base_uri": "https://localhost:8080/"
        },
        "id": "sdUGg9b8J9N_",
        "outputId": "0b7d20ad-f22a-4ac9-c2b4-6be6f1c4d9c6"
      },
      "execution_count": null,
      "outputs": [
        {
          "output_type": "stream",
          "name": "stdout",
          "text": [
            "Enter a number :12\n",
            "Not a prime number\n"
          ]
        }
      ]
    },
    {
      "cell_type": "code",
      "source": [
        "#55. To print the Prime Number series till ‘n’. \n",
        "n=int(input(\"Enter the end point of the series :\"))\n",
        "print(\"Series of prime numbers till\",n,\":\")\n",
        "for i in range(2,n+1):\n",
        "    prime=True\n",
        "    for j in range(2,i):\n",
        "        if(i%j==0):\n",
        "            prime=False\n",
        "    if prime:\n",
        "        print(i,end=\" \")\n",
        "    "
      ],
      "metadata": {
        "colab": {
          "base_uri": "https://localhost:8080/"
        },
        "id": "eTU3KZ79LHDy",
        "outputId": "959ddf39-7d70-46b2-8754-329a10b9e8c9"
      },
      "execution_count": null,
      "outputs": [
        {
          "output_type": "stream",
          "name": "stdout",
          "text": [
            "Enter the end point of the series :100\n",
            "Series of prime numbers till 100 :\n",
            "2 3 5 7 11 13 17 19 23 29 31 37 41 43 47 53 59 61 67 71 73 79 83 89 97 "
          ]
        }
      ]
    },
    {
      "cell_type": "code",
      "source": [
        "#56. To print the natural number series and its sum till ‘n’. \n",
        "n=int(input(\"Enter the end point of series:\"))\n",
        "sum=0\n",
        "print(\"Series of natural numbers till\",n,\":\")\n",
        "for i in range(1,n+1):\n",
        "    print(i,end=\" \")\n",
        "    if i%50==0:\n",
        "        print(\"\\n\")\n",
        "    sum=sum+i\n",
        "print(\"\\nSum of series :\",sum)"
      ],
      "metadata": {
        "colab": {
          "base_uri": "https://localhost:8080/"
        },
        "id": "ynADWyouQF77",
        "outputId": "dfadfc9e-6704-449f-f3e0-7bb66c5eafcf"
      },
      "execution_count": null,
      "outputs": [
        {
          "output_type": "stream",
          "name": "stdout",
          "text": [
            "Enter the end point of series:100\n",
            "Series of natural numbers till 100 :\n",
            "1 2 3 4 5 6 7 8 9 10 11 12 13 14 15 16 17 18 19 20 21 22 23 24 25 26 27 28 29 30 31 32 33 34 35 36 37 38 39 40 41 42 43 44 45 46 47 48 49 50 \n",
            "\n",
            "51 52 53 54 55 56 57 58 59 60 61 62 63 64 65 66 67 68 69 70 71 72 73 74 75 76 77 78 79 80 81 82 83 84 85 86 87 88 89 90 91 92 93 94 95 96 97 98 99 100 \n",
            "\n",
            "\n",
            "Sum of series : 5050\n"
          ]
        }
      ]
    },
    {
      "cell_type": "code",
      "source": [
        "#57. To print the even series and its sum with total number of even numbers within ‘n’. \n",
        "\n",
        "n=int(input(\"Enter the end point of series:\"))\n",
        "c=0;sum=0\n",
        "print(\"Series of even numbers till\",n,\":\")\n",
        "for i in range(1,n+1):\n",
        "    if i%2==0:\n",
        "        print(i,end=\" \")\n",
        "        sum=sum+i\n",
        "        c+=1\n",
        "print(\"\\nSum of series :\",sum,\"\\nCount of numbers in the series :\",c)"
      ],
      "metadata": {
        "colab": {
          "base_uri": "https://localhost:8080/"
        },
        "id": "2TMgtbFvM8IL",
        "outputId": "357887c9-8f29-4f24-e3f3-77bac01e7941"
      },
      "execution_count": null,
      "outputs": [
        {
          "output_type": "stream",
          "name": "stdout",
          "text": [
            "Enter the end point of series:37\n",
            "Series of even numbers till 37 :\n",
            "2 4 6 8 10 12 14 16 18 20 22 24 26 28 30 32 34 36 \n",
            "Sum of series : 342 \n",
            "Count of numbers in the series : 18\n"
          ]
        }
      ]
    },
    {
      "cell_type": "code",
      "source": [
        "#58. To print the odd series and its sum with total number of odd numbers within ‘n’. \n",
        "n=int(input(\"Enter the end point of series:\"))\n",
        "c=0;sum=0\n",
        "print(\"Series of odd numbers till\",n,\":\")\n",
        "for i in range(1,n+1):\n",
        "    if i%2!=0:\n",
        "        print(i,end=\" \")\n",
        "        sum=sum+i\n",
        "        c+=1\n",
        "print(\"\\nSum of series :\",sum,\"\\nCount of numbers in the series :\",c)"
      ],
      "metadata": {
        "colab": {
          "base_uri": "https://localhost:8080/"
        },
        "id": "FPDt_X0xP0Zg",
        "outputId": "244065c4-994d-459b-9c3c-61368f2a7b53"
      },
      "execution_count": null,
      "outputs": [
        {
          "output_type": "stream",
          "name": "stdout",
          "text": [
            "Enter the end point of series:100\n",
            "Series of odd numbers till 100 :\n",
            "1 3 5 7 9 11 13 15 17 19 21 23 25 27 29 31 33 35 37 39 41 43 45 47 49 51 53 55 57 59 61 63 65 67 69 71 73 75 77 79 81 83 85 87 89 91 93 95 97 99 \n",
            "Sum of series : 2500 \n",
            "Count of numbers in the series : 50\n"
          ]
        }
      ]
    },
    {
      "cell_type": "code",
      "source": [
        "#59. To find the sum of following series 1+2+4+8+……+n. \n",
        "n=int(input(\"Enter the value of n to compute 1+2+4+8+...+n :\"))\n",
        "sum=1;i=2\n",
        "while i<=n:\n",
        "    sum=sum+i\n",
        "    i+=i\n",
        "print(\"sum of the series :\",sum)"
      ],
      "metadata": {
        "id": "DOyc9XXKRDiG",
        "colab": {
          "base_uri": "https://localhost:8080/"
        },
        "outputId": "f58708da-6f06-42c4-ffc8-db3cb68ce282"
      },
      "execution_count": null,
      "outputs": [
        {
          "output_type": "stream",
          "name": "stdout",
          "text": [
            "Enter the value of n to compute 1+2+4+8+...+n :30\n",
            "sum of the series : 31\n"
          ]
        }
      ]
    },
    {
      "cell_type": "code",
      "source": [
        "#60. To Evaluate the following series: 1+x+x2+x3+…..+xn.\n",
        "x=int(input(\"Enter the value of x and n to compute the series 1+x+x^2+x^3+....x^n :\\n\"));n=int(input())\n",
        "sum=1\n",
        "for i in range(1,n+1):\n",
        "    sum=sum+pow(x,i)\n",
        "print(\"Sum of the series :\",sum)"
      ],
      "metadata": {
        "id": "Js9ozrK0nqze",
        "colab": {
          "base_uri": "https://localhost:8080/"
        },
        "outputId": "b7a8fa25-e952-4495-e39f-ac42c5e8e825"
      },
      "execution_count": null,
      "outputs": [
        {
          "output_type": "stream",
          "name": "stdout",
          "text": [
            "Enter the value of x and n to compute the series 1+x+x^2+x^3+....x^n :\n",
            "4\n",
            "3\n",
            "Sum of the series : 85\n"
          ]
        }
      ]
    },
    {
      "cell_type": "code",
      "source": [
        "#61. To evaluate the following series: 1+x+x2/2+x3/3+…..+xn/n. \n",
        "x=int(input(\"Enter the value of x and n to compute the series 1+x+x2/2+x3/3+…..+xn/n :\\n\"));n=int(input())\n",
        "sum=1\n",
        "for i in range(1,n+1):\n",
        "    sum=sum+(pow(x,i)/i)\n",
        "print(\"Sum of the series : %0.2f\"%sum)"
      ],
      "metadata": {
        "colab": {
          "base_uri": "https://localhost:8080/"
        },
        "id": "Kupk7MHqVZLF",
        "outputId": "bca23dfe-9b95-41dc-ca4a-24137b3e32c5"
      },
      "execution_count": null,
      "outputs": [
        {
          "output_type": "stream",
          "name": "stdout",
          "text": [
            "Enter the value of x and n to compute the series 1+x+x2/2+x3/3+…..+xn/n :\n",
            "4\n",
            "3\n",
            "Sum of the series : 34.33\n"
          ]
        }
      ]
    },
    {
      "cell_type": "code",
      "source": [
        "#62. To evaluate the following series: 1-x+x2-x3+x4-x5…..+xn. \n",
        "x=int(input(\"Enter the value of x and n to compute the series 1-x+x2-x3+x4-x5…..+xn :\\n\"));n=int(input())\n",
        "sum=1\n",
        "for i in range(1,n+1):\n",
        "    if i%2==0:\n",
        "        sum=sum+pow(x,i)\n",
        "    else:\n",
        "        sum=sum-pow(x,i)\n",
        "print(\"Sum of the series :\",sum)"
      ],
      "metadata": {
        "colab": {
          "base_uri": "https://localhost:8080/"
        },
        "id": "4-WJgnxpW8mY",
        "outputId": "09d2ca28-d929-47d4-8825-9e62e78f6cd6"
      },
      "execution_count": null,
      "outputs": [
        {
          "output_type": "stream",
          "name": "stdout",
          "text": [
            "Enter the value of x and n to compute the series 1+x+x^2+x^3+....x^n :\n",
            "4\n",
            "5\n",
            "Sum of the series : -819\n"
          ]
        }
      ]
    },
    {
      "cell_type": "code",
      "source": [
        "#Function for factorial\n",
        "def factorial(n):\n",
        "    if n==1:\n",
        "        return 1\n",
        "    else:\n",
        "        return n*factorial(n-1)"
      ],
      "metadata": {
        "id": "wrTGIxAXqwQo"
      },
      "execution_count": null,
      "outputs": []
    },
    {
      "cell_type": "code",
      "source": [
        "#63. To find the sum of the series [ 1-X^2/2!+X^4/4!- .........]. \n",
        "\n",
        "x=int(input(\"Enter the value of x and n to compute the series [ 1-X^2/2!+X^4/4!- .........] :\\n\"));n=int(input())\n",
        "sum=1\n",
        "for i in range(2,n+1):\n",
        "    if i%2==0:\n",
        "        sum=sum-(pow(x,i)/factorial(i))\n",
        "    else:\n",
        "        sum=sum+(pow(x,i)/factorial(i))\n",
        "print(\"Sum of the series : %0.2f\"%sum)"
      ],
      "metadata": {
        "colab": {
          "base_uri": "https://localhost:8080/"
        },
        "id": "CjAf4NcZXdjj",
        "outputId": "65d46e3c-9b11-4135-da43-6b61070395eb"
      },
      "execution_count": null,
      "outputs": [
        {
          "output_type": "stream",
          "name": "stdout",
          "text": [
            "Enter the value of x and n to compute the series [ 1-X^2/2!+X^4/4!- .........] :\n",
            "4\n",
            "4\n",
            "Sum of the series : -7.00\n"
          ]
        }
      ]
    },
    {
      "cell_type": "code",
      "source": [
        "#64. To Compute the Sin series. \n",
        "print(\"Enter the values of x and n to compute sin series :\")\n",
        "x=int(input());n=int(input())\n",
        "c=1\n",
        "sum=x\n",
        "for i in range(2,n+1):\n",
        "    if(i%2!=0):\n",
        "        if(c%2!=0):\n",
        "            sum=sum-(pow(x,i)/factorial(i))\n",
        "        else:\n",
        "            sum=sum+(pow(x,i)/factorial(i))\n",
        "    c+=1\n",
        "print(\"Result of the series : \",sum)"
      ],
      "metadata": {
        "colab": {
          "base_uri": "https://localhost:8080/"
        },
        "id": "KYmOpokiXoz4",
        "outputId": "58bfe1f0-0f88-47e9-bf0b-a17ef72fec46"
      },
      "execution_count": null,
      "outputs": [
        {
          "output_type": "stream",
          "name": "stdout",
          "text": [
            "Enter the values of x and n to compute sin series :\n",
            "120\n",
            "8\n",
            "Result of the series :  71302505262.85715\n"
          ]
        }
      ]
    },
    {
      "cell_type": "code",
      "source": [
        "c=1\n",
        "for i in range(1,10):\n",
        "    if(i%2!=0):\n",
        "        if(c%2!=0):\n",
        "            print(\"-\")\n",
        "        else:\n",
        "            print(\"+\")\n",
        "        c+=1"
      ],
      "metadata": {
        "colab": {
          "base_uri": "https://localhost:8080/"
        },
        "id": "6FJvcRQmrPyb",
        "outputId": "88c3dbf3-04e9-4a7a-858c-cd263042e08f"
      },
      "execution_count": null,
      "outputs": [
        {
          "output_type": "stream",
          "name": "stdout",
          "text": [
            "-\n",
            "+\n",
            "-\n",
            "+\n",
            "-\n"
          ]
        }
      ]
    },
    {
      "cell_type": "code",
      "source": [
        "#65. To Compute the Cos series. \n",
        "print(\"Enter the values of x and n to compute sin series :\")\n",
        "x=int(input());n=int(input())\n",
        "c=1\n",
        "sum=1\n",
        "for i in range(1,n+1):\n",
        "    if(i%2==0):\n",
        "        if(c%2!=0):\n",
        "            sum=sum-(pow(x,i)/factorial(i))\n",
        "        else:\n",
        "            sum=sum-(pow(x,i)/factorial(i))\n",
        "print(\"Sum of the series :\",sum)"
      ],
      "metadata": {
        "id": "0jetk67grlsj",
        "colab": {
          "base_uri": "https://localhost:8080/"
        },
        "outputId": "3f8ef72c-4ac6-4ea9-f216-b601ed451047"
      },
      "execution_count": null,
      "outputs": [
        {
          "output_type": "stream",
          "name": "stdout",
          "text": [
            "Enter the values of x and n to compute sin series :\n",
            "120\n",
            "8\n",
            "Sum of the series : -1070578704341.8572\n"
          ]
        }
      ]
    },
    {
      "cell_type": "code",
      "source": [
        "#66. To find the power of a given number without using inbuilt function pow ( ).\n",
        "x=int(input(\"Enter any integer and its exponent to find it's power value :\\n\"));n=int(input())\n",
        "print(\"Computed value :\",x**n)"
      ],
      "metadata": {
        "colab": {
          "base_uri": "https://localhost:8080/"
        },
        "id": "xjqjOutV_7ax",
        "outputId": "7e3fbea8-631a-4f1a-b35b-5f19b50e7b5b"
      },
      "execution_count": null,
      "outputs": [
        {
          "output_type": "stream",
          "name": "stdout",
          "text": [
            "Enter any integer and its exponent to find it's power value :\n",
            "3\n",
            "4\n",
            "Computed value : 81\n"
          ]
        }
      ]
    },
    {
      "cell_type": "code",
      "source": [
        "#67. To Split number into digits. \n",
        "n=list(input())\n",
        "for i in n:\n",
        "    print(i,end=\" \")"
      ],
      "metadata": {
        "colab": {
          "base_uri": "https://localhost:8080/"
        },
        "id": "JxEtAIPIMJf_",
        "outputId": "cfca36ba-5fd8-400d-e142-562641b54943"
      },
      "execution_count": null,
      "outputs": [
        {
          "output_type": "stream",
          "name": "stdout",
          "text": [
            "12345\n",
            "1 2 3 4 5 "
          ]
        }
      ]
    },
    {
      "cell_type": "code",
      "source": [
        "#68. To print the factors of a given number and total numbers of factor. \n",
        "n=int(input(\"Enter any number :\"));sum=0\n",
        "print(\"Factors of\",n,\":\")\n",
        "for i in range(1,(n//2)+1):\n",
        "    if(n%i==0):\n",
        "        print(i,end=\" \")\n",
        "        sum=sum+i\n",
        "print(\"Sum of the factors of\",n,\":\",sum)\n"
      ],
      "metadata": {
        "colab": {
          "base_uri": "https://localhost:8080/"
        },
        "id": "sg4B6hrpMxnQ",
        "outputId": "bb8a05cf-0791-41b5-8b8a-55fc80bfe8c2"
      },
      "execution_count": null,
      "outputs": [
        {
          "output_type": "stream",
          "name": "stdout",
          "text": [
            "Enter any number :30\n",
            "Factors of 30 :\n",
            "1 2 3 5 6 10 15 Sum of the factors of 30 : 42\n"
          ]
        }
      ]
    },
    {
      "cell_type": "code",
      "source": [
        "#69. To find the sum of digits of a given number. \n",
        "n=int(input(\"Enter any number to find the sum of it's digits :\"));sum=0\n",
        "print(\"Sum of digits in\",n,\":\",end=\" \")\n",
        "while n!=0:\n",
        "    sum=sum+n%10\n",
        "    n=n//10\n",
        "print(sum)"
      ],
      "metadata": {
        "colab": {
          "base_uri": "https://localhost:8080/"
        },
        "id": "75b_NMu8SDOu",
        "outputId": "c2bcb4ce-51e4-464b-8cbc-1a3c9c86d4d5"
      },
      "execution_count": null,
      "outputs": [
        {
          "output_type": "stream",
          "name": "stdout",
          "text": [
            "Enter any number to find the sum of it's digits :64532\n",
            "Sum of digits in 64532 : 20\n"
          ]
        }
      ]
    },
    {
      "cell_type": "code",
      "source": [
        "#70. To find the sum of digits of a given number till the resulting number is a single  digit.\n",
        "def sum_of_digits(n):\n",
        "    sum=0\n",
        "    while n!=0:\n",
        "        sum=sum+n%10\n",
        "        n=n//10\n",
        "    return sum\n",
        "\n",
        "num=int(input(\"Enter any number :\"))\n",
        "x=sum_of_digits(num)\n",
        "if(x>9):\n",
        "    x=sum_of_digits(x)\n",
        "print(\"Result after computing :\",x)"
      ],
      "metadata": {
        "colab": {
          "base_uri": "https://localhost:8080/"
        },
        "id": "T7OSkW4aSoPe",
        "outputId": "13f1a030-df8f-4324-e28a-ea4b2d9153a8"
      },
      "execution_count": null,
      "outputs": [
        {
          "output_type": "stream",
          "name": "stdout",
          "text": [
            "Enter any number :123456\n",
            "Result after computing : 3\n"
          ]
        }
      ]
    },
    {
      "cell_type": "code",
      "source": [
        "#71. To find the sum of squares of digits in a given number. \n",
        "n=int(input(\"Enter any number to find the sum of squares of it's digits :\"));sum=0\n",
        "print(\"Sum of squares of digits in\",n,\":\",end=\" \")\n",
        "while n!=0:\n",
        "    sum=sum+((n%10)**2)\n",
        "    n//=10\n",
        "print(sum)"
      ],
      "metadata": {
        "colab": {
          "base_uri": "https://localhost:8080/"
        },
        "id": "ImSY0zM0TPxQ",
        "outputId": "e1eff21b-011b-49b1-ab7c-e2628f7936bd"
      },
      "execution_count": null,
      "outputs": [
        {
          "output_type": "stream",
          "name": "stdout",
          "text": [
            "Enter any number to find the sum of squares of it's digits :123\n",
            "Sum of squares of digits in 123 : 14\n"
          ]
        }
      ]
    },
    {
      "cell_type": "code",
      "source": [
        "#72. To find the reverse of a given number. //Method 1\n",
        "n=int(input(\"Enter any number to fi nd it's reverse :\"));rev=0\n",
        "print(\"The reverse of\",n,\"is :\",end=\" \")\n",
        "while n!=0:\n",
        "    rev=(rev*10)+(n%10)\n",
        "    n//=10\n",
        "print(rev)"
      ],
      "metadata": {
        "colab": {
          "base_uri": "https://localhost:8080/"
        },
        "id": "jKgQRaFFTwaU",
        "outputId": "390a6dba-fcf1-40e1-e950-e7a245aaa581"
      },
      "execution_count": null,
      "outputs": [
        {
          "output_type": "stream",
          "name": "stdout",
          "text": [
            "Enter any number to fi nd it's reverse :6354\n",
            "The reverse of 6354 is : 4536\n"
          ]
        }
      ]
    },
    {
      "cell_type": "code",
      "source": [
        "# //Method 2\n",
        "n=input(\"Enter any number to find it's reverse :\")\n",
        "print(\"The reverse of\",n,\"is :\",n[::-1])\n"
      ],
      "metadata": {
        "colab": {
          "base_uri": "https://localhost:8080/"
        },
        "id": "pSpB_0TKUV19",
        "outputId": "73493fe8-d9ca-4be0-b834-3129fc92c4ec"
      },
      "execution_count": null,
      "outputs": [
        {
          "output_type": "stream",
          "name": "stdout",
          "text": [
            "Enter any number to find it's reverse :6354\n",
            "The reverse of 6354 is : 4536\n"
          ]
        }
      ]
    },
    {
      "cell_type": "code",
      "source": [
        "#73. To check the given number is palindrome or not. \n",
        "n=input(\"Enter any number :\")\n",
        "if n==n[::-1]:\n",
        "    print(int(n),\"is a palindrome\")\n",
        "else:\n",
        "    print(int(n),\"is not a palindrome\")"
      ],
      "metadata": {
        "colab": {
          "base_uri": "https://localhost:8080/"
        },
        "id": "mlPaTqzSUkq8",
        "outputId": "6213a27a-c1d6-456a-a1aa-20d6428bde20"
      },
      "execution_count": null,
      "outputs": [
        {
          "output_type": "stream",
          "name": "stdout",
          "text": [
            "Enter any number :12453\n",
            "12453 is not a palindrome\n"
          ]
        }
      ]
    },
    {
      "cell_type": "code",
      "source": [
        "#74. To count the number of digits in a given number. \n",
        "n=int(input(\"Enter any number :\"));c=0\n",
        "n=str(n)\n",
        "for i in n:\n",
        "    c+=1\n",
        "print(\"Number of digits in\",n,\"is :\",c)"
      ],
      "metadata": {
        "colab": {
          "base_uri": "https://localhost:8080/"
        },
        "id": "b10TRAMSVOZ0",
        "outputId": "ae3f3415-2257-4e92-8a15-52bf2714c3e5"
      },
      "execution_count": null,
      "outputs": [
        {
          "output_type": "stream",
          "name": "stdout",
          "text": [
            "Enter any number :12345\n",
            "Number of digits in 12345 is : 5\n"
          ]
        }
      ]
    },
    {
      "cell_type": "code",
      "source": [
        "#75. To find the frequency of a digit in a given number. \n",
        "num=int(input(\"Enter any number :\"))\n",
        "n=str(num);s=set(n);c=0\n",
        "for i in s:\n",
        "    for j in n:\n",
        "        if(i==j):\n",
        "            c+=1\n",
        "    print(\"count of\",i,\"in\",n,\"is :\",c)\n",
        "    c=0"
      ],
      "metadata": {
        "id": "37Xex71TVvpN",
        "colab": {
          "base_uri": "https://localhost:8080/"
        },
        "outputId": "d087e983-dc4b-4206-a60b-dedb1fb47700"
      },
      "execution_count": null,
      "outputs": [
        {
          "output_type": "stream",
          "name": "stdout",
          "text": [
            "Enter any number :11122332112\n",
            "count of 3 in 11122332112 is : 2\n",
            "count of 2 in 11122332112 is : 4\n",
            "count of 1 in 11122332112 is : 5\n"
          ]
        }
      ]
    },
    {
      "cell_type": "code",
      "source": [
        " #76. To Print Whether the given number is perfect number or not. (for a perfect  number, the sum of divisors- except the number itself-will be equal to that number;  Exs: 6,28,496,etc.).\n",
        "num=int(input(\"Enter any number :\"))\n",
        "sum=0\n",
        "for i in range(1,(num//2)+1):\n",
        "    if num%i==0:\n",
        "        sum=sum+i\n",
        "print(num,\"is a perfect number\") if(num==sum) else print(num,\"is not a perfect number.\")\n",
        "   \n"
      ],
      "metadata": {
        "id": "Psp_SVGlmoyl",
        "colab": {
          "base_uri": "https://localhost:8080/"
        },
        "outputId": "1f5877fe-ec95-44ce-cef4-4f64d7d81915"
      },
      "execution_count": null,
      "outputs": [
        {
          "output_type": "stream",
          "name": "stdout",
          "text": [
            "Enter any number :81\n",
            "81 is not a perfect number.\n"
          ]
        }
      ]
    },
    {
      "cell_type": "code",
      "source": [
        "#77. To find the factorial of a given number. \n",
        "n=int(input(\"Enter any number : \"));num=n;f=1\n",
        "while n!=0:\n",
        "    f=f*n\n",
        "    n-=1\n",
        "print(f,\"is the factorial of\",num)"
      ],
      "metadata": {
        "colab": {
          "base_uri": "https://localhost:8080/"
        },
        "id": "9oWv1w84_bb9",
        "outputId": "a90a769f-78a7-47a9-cdf8-c4727aac240b"
      },
      "execution_count": null,
      "outputs": [
        {
          "output_type": "stream",
          "name": "stdout",
          "text": [
            "Enter any number : 8\n",
            "40320 is the factorial of 8\n"
          ]
        }
      ]
    },
    {
      "cell_type": "code",
      "source": [
        "#78. Convert a decimal number to binary number. \n",
        "def decimal_to_binary(n):\n",
        "        if n>=1:\n",
        "            decimal_to_binary(n//2)\n",
        "            print(n%2,end=\"\")\n",
        "num=int(input(\"Enter any number to find its binary : \"))\n",
        "print(\"The binary equalent of\",num,\"is :\",end=\" \")\n",
        "decimal_to_binary(num)\n",
        "\n"
      ],
      "metadata": {
        "colab": {
          "base_uri": "https://localhost:8080/"
        },
        "id": "bhAoajQbBJmI",
        "outputId": "770089c7-9f6a-4fe2-8485-5aa0066f1b2b"
      },
      "execution_count": 194,
      "outputs": [
        {
          "output_type": "stream",
          "name": "stdout",
          "text": [
            "Enter any number to find its binary : 15\n",
            "The binary equalent of 15 is : 1111"
          ]
        }
      ]
    },
    {
      "cell_type": "code",
      "source": [
        "#79. To find the GCD and LCM of two input numbers. \n",
        "print(\"Enter any two numbers :\")\n",
        "l=[];m=[]\n",
        "a=int(input());b=int(input())\n",
        "for i in range(1,b+1):\n",
        "    if(b%i==0):\n",
        "        l.append(i)\n",
        "for j in l:\n",
        "    if(a%j==0):\n",
        "        m.append(j)\n",
        "print(\"The GCD of\",a,\"and\",b,\"is :\",max(m))\n",
        "i=1\n",
        "while i:\n",
        "    if i%a==0 and i%b==0:\n",
        "        print(\"The LCM of\",a,\"and\",b,\"is :\",i)\n",
        "        break\n",
        "    i+=1"
      ],
      "metadata": {
        "colab": {
          "base_uri": "https://localhost:8080/"
        },
        "id": "4OKc9QXmDKng",
        "outputId": "5fe59839-1808-45b5-8732-d9a214884802"
      },
      "execution_count": null,
      "outputs": [
        {
          "output_type": "stream",
          "name": "stdout",
          "text": [
            "Enter any two numbers :\n",
            "12\n",
            "100\n",
            "The GCD of 12 and 100 is : 4\n",
            "The LCM of 12 and 100 is : 300\n"
          ]
        }
      ]
    },
    {
      "cell_type": "code",
      "source": [
        "#80. To print First n terms of Fibonacci Numbers. \n",
        "a=0;b=1;n=int(input(\"Enter the number of terms to be printed in Fibonacci series :\"))\n",
        "print(\"Series of Fibonacci :\")\n",
        "print(a,b,end=\" \")\n",
        "for i in range(3,n+1):\n",
        "    sum=a+b\n",
        "    print(sum,end=\" \")\n",
        "    a=b\n",
        "    b=sum\n",
        "    "
      ],
      "metadata": {
        "colab": {
          "base_uri": "https://localhost:8080/"
        },
        "id": "bgINs3roE19U",
        "outputId": "6cb6a0a0-0ec4-471c-ab68-2a8fdf16a4c5"
      },
      "execution_count": null,
      "outputs": [
        {
          "output_type": "stream",
          "name": "stdout",
          "text": [
            "Enter the number of terms to be printed in Fibonacci series :20\n",
            "Series of Fibonacci :\n",
            "0 1 1 2 3 5 8 13 21 34 55 89 144 233 377 610 987 1597 2584 4181 "
          ]
        }
      ]
    },
    {
      "cell_type": "code",
      "source": [
        "#81. To Print Twin Primes up to a Specified limit. (Exs: 3-5,5-7,11-13, 17-19, etc.) \n",
        "n=int(input(\"Enter the end point :\"))\n",
        "l=[]\n",
        "for i in range(2,n+1):\n",
        "    prime=True\n",
        "    for j in range(2,i):\n",
        "        if(i%j==0):\n",
        "            prime=False\n",
        "    if prime:\n",
        "        l.append(i)\n",
        "for i in range(0,len(l),2):\n",
        "    if i<len(l)-1:\n",
        "        i=i+1\n",
        "        print(l[i],\"-\",l[i+1])"
      ],
      "metadata": {
        "colab": {
          "base_uri": "https://localhost:8080/"
        },
        "id": "vsd0YrGeIAQ3",
        "outputId": "cda203db-5292-4eac-8c20-7acebeea375d"
      },
      "execution_count": null,
      "outputs": [
        {
          "output_type": "stream",
          "name": "stdout",
          "text": [
            "Enter the end point :100\n",
            "3 - 5\n",
            "7 - 11\n",
            "13 - 17\n",
            "19 - 23\n",
            "29 - 31\n",
            "37 - 41\n",
            "43 - 47\n",
            "53 - 59\n",
            "61 - 67\n",
            "71 - 73\n",
            "79 - 83\n",
            "89 - 97\n"
          ]
        }
      ]
    },
    {
      "cell_type": "code",
      "source": [
        "#82. To Check if a given number is Armstrong number or not. \n",
        "n=int(input(\"Enter any number :\"));num=n;c=0;sum=0\n",
        "while n!=0:\n",
        "    n=n//10\n",
        "    c=c+1\n",
        "n=num\n",
        "while n!=0:\n",
        "    sum=sum+((n%10)**c)\n",
        "    n//=10\n",
        "if num==sum:\n",
        "    print(num,\"is an Armstrong number\")\n",
        "else:\n",
        "    print(num,\"is not an Armstrong number\")"
      ],
      "metadata": {
        "id": "oq2yCP4BJhjY",
        "colab": {
          "base_uri": "https://localhost:8080/"
        },
        "outputId": "bbcf44f1-4f83-4747-81a0-4108064b7789"
      },
      "execution_count": null,
      "outputs": [
        {
          "output_type": "stream",
          "name": "stdout",
          "text": [
            "Enter any number :153\n",
            "153 is an Armstrong number\n"
          ]
        }
      ]
    },
    {
      "cell_type": "code",
      "source": [
        "#83. To display the Tables for input ‘n’.(2*1=2……. 2*20=40). \n",
        "n=int(input(\"Enter any number : \"))\n",
        "for i in range(1,21):\n",
        "    if i<10:\n",
        "        print(n,\"X\",i,\" =\",n*i)\n",
        "    else:\n",
        "        print(n,\"X\",i,\"=\",n*i)"
      ],
      "metadata": {
        "id": "1Zswq2PCLmD_",
        "colab": {
          "base_uri": "https://localhost:8080/"
        },
        "outputId": "6f6df0d9-25e3-4140-ce41-fa57f15f8f7a"
      },
      "execution_count": null,
      "outputs": [
        {
          "output_type": "stream",
          "name": "stdout",
          "text": [
            "Enter any number : 14\n",
            "14 X 1  = 14\n",
            "14 X 2  = 28\n",
            "14 X 3  = 42\n",
            "14 X 4  = 56\n",
            "14 X 5  = 70\n",
            "14 X 6  = 84\n",
            "14 X 7  = 98\n",
            "14 X 8  = 112\n",
            "14 X 9  = 126\n",
            "14 X 10 = 140\n",
            "14 X 11 = 154\n",
            "14 X 12 = 168\n",
            "14 X 13 = 182\n",
            "14 X 14 = 196\n",
            "14 X 15 = 210\n",
            "14 X 16 = 224\n",
            "14 X 17 = 238\n",
            "14 X 18 = 252\n",
            "14 X 19 = 266\n",
            "14 X 20 = 280\n"
          ]
        }
      ]
    },
    {
      "cell_type": "code",
      "source": [
        "#84. To print nth Fibonacci number. \n",
        "a=0;b=1;n=int(input(\"Enter the value of n :\"))\n",
        "print(\"Fibonacci number placed at\",n,\"is :\",end=\"\")\n",
        "for i in range(3,n+1):\n",
        "    sum=a+b\n",
        "    a=b\n",
        "    b=sum\n",
        "print(sum)"
      ],
      "metadata": {
        "colab": {
          "base_uri": "https://localhost:8080/"
        },
        "id": "4Lw7YVVnX13n",
        "outputId": "951ae107-6663-47b6-c1f2-deea48ae85bc"
      },
      "execution_count": null,
      "outputs": [
        {
          "output_type": "stream",
          "name": "stdout",
          "text": [
            "Enter the value of n :20\n",
            "Fibonacci number placed at 20 is :4181\n"
          ]
        }
      ]
    },
    {
      "cell_type": "code",
      "source": [
        "#85. To find square root of a given number without using square root function. \n",
        "n=int(input(\"Enter any number : \"))\n",
        "print(\"Square root of\",n,\"is : %g\"%(n**0.5))"
      ],
      "metadata": {
        "colab": {
          "base_uri": "https://localhost:8080/"
        },
        "id": "xAIjysyEZPVJ",
        "outputId": "3a271bec-622a-44b8-f9c9-9e8f0ab1d70d"
      },
      "execution_count": null,
      "outputs": [
        {
          "output_type": "stream",
          "name": "stdout",
          "text": [
            "Enter any number : 16\n",
            "Square root of 16 is : 4\n"
          ]
        }
      ]
    },
    {
      "cell_type": "code",
      "source": [
        "#86. To print the sequence of prime numbers between two intervals \n",
        "st=int(input(\"Enter the starting point of the series :\"))\n",
        "ep=int(input(\"Enter the end point of the series :\"))\n",
        "print(\"Series of prime numbers between\",st,\"and\",ep,\"is :\")\n",
        "for i in range(st,ep+1):\n",
        "    prime=True\n",
        "    for j in range(2,i):\n",
        "        if(i%j==0):\n",
        "            prime=False\n",
        "    if prime:\n",
        "        print(i,end=\" \")"
      ],
      "metadata": {
        "colab": {
          "base_uri": "https://localhost:8080/"
        },
        "id": "KmMXyn39bgDv",
        "outputId": "98c3ae5c-1ae1-42ef-a457-972a5c64f8ce"
      },
      "execution_count": null,
      "outputs": [
        {
          "output_type": "stream",
          "name": "stdout",
          "text": [
            "Enter the starting point of the series :10\n",
            "Enter the end point of the series :100\n",
            "Series of prime numbers between 10 and 100 is :\n",
            "11 13 17 19 23 29 31 37 41 43 47 53 59 61 67 71 73 79 83 89 97 "
          ]
        }
      ]
    },
    {
      "cell_type": "code",
      "source": [
        "#87. To find largest, smallest and second largest of three numbers. \n",
        "print(\"Enter any three numbers :\")\n",
        "l=[]\n",
        "for i in range(0,3):\n",
        "    l.append(int(input()))\n",
        "print(min(l),\"is smallest\")\n",
        "m=max(l)\n",
        "for i in range(0,3):\n",
        "    if(m==l[i]):\n",
        "        l[i]=min(l)\n",
        "print(max(l),\"is second larest\")\n",
        "\n"
      ],
      "metadata": {
        "colab": {
          "base_uri": "https://localhost:8080/"
        },
        "id": "IOHXjaSDclV8",
        "outputId": "43da5f81-0cc2-4388-9a56-133f4d6fc613"
      },
      "execution_count": null,
      "outputs": [
        {
          "output_type": "stream",
          "name": "stdout",
          "text": [
            "Enter any three numbers :\n",
            "11\n",
            "15\n",
            "10\n",
            "10 is smallest\n",
            "11 is second larest\n"
          ]
        }
      ]
    },
    {
      "cell_type": "code",
      "source": [
        "#88. To Find HCF of two Numbers. \n",
        "print(\"Enter any two numbers :\")\n",
        "l=[];m=[]\n",
        "a=int(input());b=int(input())\n",
        "for i in range(1,b+1):\n",
        "    if(b%i==0):\n",
        "        l.append(i)\n",
        "for j in l:\n",
        "    if(a%j==0):\n",
        "        m.append(j)\n",
        "print(\"The HCF of\",a,\"and\",b,\"is :\",max(m))"
      ],
      "metadata": {
        "colab": {
          "base_uri": "https://localhost:8080/"
        },
        "id": "9M2EV9L1c291",
        "outputId": "43f8edd5-ef05-4d17-820f-dbae9b683ff8"
      },
      "execution_count": null,
      "outputs": [
        {
          "output_type": "stream",
          "name": "stdout",
          "text": [
            "Enter any two numbers :\n",
            "12\n",
            "100\n",
            "The HCF of 12 and 100 is : 4\n"
          ]
        }
      ]
    },
    {
      "cell_type": "code",
      "source": [
        "#89. To Display Armstrong Numbers between Two Intervals. "
      ],
      "metadata": {
        "id": "gweC9xj9hi05"
      },
      "execution_count": null,
      "outputs": []
    },
    {
      "cell_type": "code",
      "source": [
        "#90. To check given number is strong number or not. \n",
        "n=int(input(\"Enter any number :\"));num=n;f=1;sum=0\n",
        "while n!=0:\n",
        "    for i in range(1,(n%10)+1):\n",
        "        f=f*i\n",
        "    sum=sum+f\n",
        "    n//=10\n",
        "    f=1\n",
        "if sum==num:\n",
        "    print(num,\"is a Strong number\")\n",
        "else:\n",
        "    print(num,\"is not a Strong number\")"
      ],
      "metadata": {
        "colab": {
          "base_uri": "https://localhost:8080/"
        },
        "id": "2tgSMvZExtWi",
        "outputId": "fc8b719f-6e2c-4297-95e9-f42315fd82b8"
      },
      "execution_count": null,
      "outputs": [
        {
          "output_type": "stream",
          "name": "stdout",
          "text": [
            "Enter any number :145\n",
            "145 is a Strong number\n"
          ]
        }
      ]
    },
    {
      "cell_type": "code",
      "source": [
        "#91. To display the multiplication table. \n",
        "n=int(input(\"Enter the value of n :\"))\n",
        "print(\"Multiplication table of\",n,\"numbers :\")\n",
        "for i in range(1,n+1):\n",
        "    for j in range(1,n+1):\n",
        "        print(i*j,end=\"\\t\")\n",
        "    print(\"\\n\")"
      ],
      "metadata": {
        "colab": {
          "base_uri": "https://localhost:8080/"
        },
        "id": "bM-OGOo3z7ZQ",
        "outputId": "fd5c12a9-0704-4201-d0d8-574308fd69b2"
      },
      "execution_count": null,
      "outputs": [
        {
          "output_type": "stream",
          "name": "stdout",
          "text": [
            "Enter the value of n :20\n",
            "Multiplication table of 20 numbers :\n",
            "1\t2\t3\t4\t5\t6\t7\t8\t9\t10\t11\t12\t13\t14\t15\t16\t17\t18\t19\t20\t\n",
            "\n",
            "2\t4\t6\t8\t10\t12\t14\t16\t18\t20\t22\t24\t26\t28\t30\t32\t34\t36\t38\t40\t\n",
            "\n",
            "3\t6\t9\t12\t15\t18\t21\t24\t27\t30\t33\t36\t39\t42\t45\t48\t51\t54\t57\t60\t\n",
            "\n",
            "4\t8\t12\t16\t20\t24\t28\t32\t36\t40\t44\t48\t52\t56\t60\t64\t68\t72\t76\t80\t\n",
            "\n",
            "5\t10\t15\t20\t25\t30\t35\t40\t45\t50\t55\t60\t65\t70\t75\t80\t85\t90\t95\t100\t\n",
            "\n",
            "6\t12\t18\t24\t30\t36\t42\t48\t54\t60\t66\t72\t78\t84\t90\t96\t102\t108\t114\t120\t\n",
            "\n",
            "7\t14\t21\t28\t35\t42\t49\t56\t63\t70\t77\t84\t91\t98\t105\t112\t119\t126\t133\t140\t\n",
            "\n",
            "8\t16\t24\t32\t40\t48\t56\t64\t72\t80\t88\t96\t104\t112\t120\t128\t136\t144\t152\t160\t\n",
            "\n",
            "9\t18\t27\t36\t45\t54\t63\t72\t81\t90\t99\t108\t117\t126\t135\t144\t153\t162\t171\t180\t\n",
            "\n",
            "10\t20\t30\t40\t50\t60\t70\t80\t90\t100\t110\t120\t130\t140\t150\t160\t170\t180\t190\t200\t\n",
            "\n",
            "11\t22\t33\t44\t55\t66\t77\t88\t99\t110\t121\t132\t143\t154\t165\t176\t187\t198\t209\t220\t\n",
            "\n",
            "12\t24\t36\t48\t60\t72\t84\t96\t108\t120\t132\t144\t156\t168\t180\t192\t204\t216\t228\t240\t\n",
            "\n",
            "13\t26\t39\t52\t65\t78\t91\t104\t117\t130\t143\t156\t169\t182\t195\t208\t221\t234\t247\t260\t\n",
            "\n",
            "14\t28\t42\t56\t70\t84\t98\t112\t126\t140\t154\t168\t182\t196\t210\t224\t238\t252\t266\t280\t\n",
            "\n",
            "15\t30\t45\t60\t75\t90\t105\t120\t135\t150\t165\t180\t195\t210\t225\t240\t255\t270\t285\t300\t\n",
            "\n",
            "16\t32\t48\t64\t80\t96\t112\t128\t144\t160\t176\t192\t208\t224\t240\t256\t272\t288\t304\t320\t\n",
            "\n",
            "17\t34\t51\t68\t85\t102\t119\t136\t153\t170\t187\t204\t221\t238\t255\t272\t289\t306\t323\t340\t\n",
            "\n",
            "18\t36\t54\t72\t90\t108\t126\t144\t162\t180\t198\t216\t234\t252\t270\t288\t306\t324\t342\t360\t\n",
            "\n",
            "19\t38\t57\t76\t95\t114\t133\t152\t171\t190\t209\t228\t247\t266\t285\t304\t323\t342\t361\t380\t\n",
            "\n",
            "20\t40\t60\t80\t100\t120\t140\t160\t180\t200\t220\t240\t260\t280\t300\t320\t340\t360\t380\t400\t\n",
            "\n"
          ]
        }
      ]
    },
    {
      "cell_type": "code",
      "source": [
        "#92. To print Floyd’s triangle\n",
        "n=int(input(\"How many rows are to be printed in 'Floyd's Triangle' :\"))\n",
        "print(\"Floyd's Triangle with\",n,\"rows :\")\n",
        "k=1\n",
        "for i in range(1,n+1):\n",
        "    for j in range(1,i+1):\n",
        "        print(k,end=\" \")\n",
        "        k+=1\n",
        "    print(\"\\n\")"
      ],
      "metadata": {
        "colab": {
          "base_uri": "https://localhost:8080/"
        },
        "id": "HHe5ddrn1U_o",
        "outputId": "3719c08c-981f-4eed-9405-5918180022e2"
      },
      "execution_count": null,
      "outputs": [
        {
          "output_type": "stream",
          "name": "stdout",
          "text": [
            "How many rows are to be printed in 'Floyd's Triangle' :5\n",
            "Floyd's Triangle with 5 rows :\n",
            "1 \n",
            "\n",
            "2 3 \n",
            "\n",
            "4 5 6 \n",
            "\n",
            "7 8 9 10 \n",
            "\n",
            "11 12 13 14 15 \n",
            "\n"
          ]
        }
      ]
    },
    {
      "cell_type": "code",
      "source": [
        "#93. To print Pascal triangle. \n",
        "n=int(input(\"Enter how many rows are to be printed in Pascal Triangle :\"))\n",
        "print(\"Pascal's Triangle with\",n,\"rows :\")\n",
        "for i in range(1,n+1):\n",
        "    for sp in range(0,n-i+1):\n",
        "        print(\" \",end=\" \")\n",
        "    k=1\n",
        "    for l in range(1,i+1):\n",
        "        print(\" \",k,end=\" \")\n",
        "        k=k*(i-l)//l\n",
        "    print(\"\\n\")"
      ],
      "metadata": {
        "colab": {
          "base_uri": "https://localhost:8080/"
        },
        "id": "luz2SO4j2VkS",
        "outputId": "90a1f403-b7e1-43f2-8662-e003755ef779"
      },
      "execution_count": null,
      "outputs": [
        {
          "output_type": "stream",
          "name": "stdout",
          "text": [
            "Enter how many rows are to be printed in Pascal Triangle :5\n",
            "Pascal's Triangle with 5 rows :\n",
            "            1 \n",
            "\n",
            "          1   1 \n",
            "\n",
            "        1   2   1 \n",
            "\n",
            "      1   3   3   1 \n",
            "\n",
            "    1   4   6   4   1 \n",
            "\n"
          ]
        }
      ]
    },
    {
      "cell_type": "code",
      "source": [
        "#94. To print pyramids of numbers. "
      ],
      "metadata": {
        "id": "7LOPv4Py5Bin"
      },
      "execution_count": null,
      "outputs": []
    },
    {
      "cell_type": "code",
      "source": [
        "#95. To print the following patterns: \n",
        "#95.1\n",
        "\"\"\"\n",
        "* \n",
        "* * \n",
        "* * * \n",
        "* * * * \n",
        "* * * * * \n",
        "\"\"\"\n",
        "n=int(input(\"Enter how many rows are to be printed :\"))\n",
        "print(\"Pattern with\",n,\"rows :\")\n",
        "for i in range(0,n):\n",
        "    for j in range(0,i+1):\n",
        "        print(\"*\",end=\" \")\n",
        "    print()"
      ],
      "metadata": {
        "id": "7_7pyJZy7Cpt",
        "colab": {
          "base_uri": "https://localhost:8080/"
        },
        "outputId": "968ef3e5-1d69-4fa2-a0af-cadbcdaeac8f"
      },
      "execution_count": null,
      "outputs": [
        {
          "output_type": "stream",
          "name": "stdout",
          "text": [
            "Enter how many rows are to be printed :5\n",
            "Pattern with 5 rows :\n",
            "* \n",
            "* * \n",
            "* * * \n",
            "* * * * \n",
            "* * * * * \n"
          ]
        }
      ]
    },
    {
      "cell_type": "code",
      "source": [
        "#95.2\n",
        "\"\"\"\n",
        "1 \n",
        "1 2 \n",
        "1 2 3 \n",
        "1 2 3 4 \n",
        "1 2 3 4 5 \n",
        "\"\"\"\n",
        "n=int(input(\"Enter how many rows are to be printed :\"))\n",
        "print(\"Pattern witn\",n,\"rows :\")\n",
        "for i in range(1,n+1):\n",
        "    for j in range(1,i+1):\n",
        "        print(j,end=\" \")\n",
        "    print()"
      ],
      "metadata": {
        "colab": {
          "base_uri": "https://localhost:8080/"
        },
        "id": "Md-Le8ni8Kuy",
        "outputId": "a059873e-5750-4b87-94fb-a74574882401"
      },
      "execution_count": null,
      "outputs": [
        {
          "output_type": "stream",
          "name": "stdout",
          "text": [
            "Enter how many rows are to be printed :5\n",
            "Pattern witn 5 rows :\n",
            "1 \n",
            "1 2 \n",
            "1 2 3 \n",
            "1 2 3 4 \n",
            "1 2 3 4 5 \n"
          ]
        }
      ]
    },
    {
      "cell_type": "code",
      "source": [
        "#95.3\n",
        "\"\"\"\n",
        "A \n",
        "B B \n",
        "C C C \n",
        "D D D D \n",
        "E E E E E \n",
        "\"\"\"\n",
        "n=int(input(\"Enter how many rows are to be printed :\"))\n",
        "print(\"Pattern with\",n,\"rows :\")\n",
        "for i in range(ord('A'),ord('A')+n):\n",
        "    for j in range(ord('A'),i+1):\n",
        "        print(chr(i),end=\" \")\n",
        "    print()"
      ],
      "metadata": {
        "colab": {
          "base_uri": "https://localhost:8080/"
        },
        "id": "8z4fIX988xGx",
        "outputId": "c5c816bf-6cef-4322-ae0e-7711a2f698fd"
      },
      "execution_count": null,
      "outputs": [
        {
          "output_type": "stream",
          "name": "stdout",
          "text": [
            "Enter how many rows are to be printed :5\n",
            "Pattern with 5 rows :\n",
            "A \n",
            "B B \n",
            "C C C \n",
            "D D D D \n",
            "E E E E E \n"
          ]
        }
      ]
    },
    {
      "cell_type": "code",
      "source": [
        "#95.4\n",
        "\"\"\"\n",
        "1 \n",
        "2 3 \n",
        "4 5 6 \n",
        "7 8 9 10 \n",
        "\"\"\"\n",
        "n=int(input(\"Enter how many rows are to be printed :\"));k=1\n",
        "print(\"Pattern with\",n,\"rows :\")\n",
        "for i in range(0,n):\n",
        "    for j in range(0,i+1):\n",
        "        print(k,end=\"  \")\n",
        "        k+=1\n",
        "    print()"
      ],
      "metadata": {
        "colab": {
          "base_uri": "https://localhost:8080/"
        },
        "id": "H9KBbiRz9qgm",
        "outputId": "eaf7877d-1db2-4c29-8e33-bf0dfb5c854a"
      },
      "execution_count": null,
      "outputs": [
        {
          "output_type": "stream",
          "name": "stdout",
          "text": [
            "Enter how many rows are to be printed :4\n",
            "Pattern with 4 rows :\n",
            "1  \n",
            "2  3  \n",
            "4  5  6  \n",
            "7  8  9  10  \n"
          ]
        }
      ]
    },
    {
      "cell_type": "code",
      "source": [
        "#95.5\n",
        "\"\"\"\n",
        "* * * * * \n",
        "* * * * \n",
        "* * *  \n",
        "* * \n",
        "* \n",
        "\"\"\"\n",
        "n=int(input(\"Enter how many rows are to be printed :\"));\n",
        "print(\"Pattern with\",n,\"rows :\")\n",
        "for i in range(n+1,0,-1):\n",
        "    for j in range(0,i-1):\n",
        "            print(\"*\",end=\" \")\n",
        "            \n",
        "    print()"
      ],
      "metadata": {
        "colab": {
          "base_uri": "https://localhost:8080/"
        },
        "id": "yLiQeTMq_QM5",
        "outputId": "763352e2-dbe6-453a-84e7-d5328291fc34"
      },
      "execution_count": null,
      "outputs": [
        {
          "output_type": "stream",
          "name": "stdout",
          "text": [
            "Enter how many rows are to be printed :5\n",
            "Pattern with 5 rows :\n",
            "* * * * * \n",
            "* * * * \n",
            "* * * \n",
            "* * \n",
            "* \n",
            "\n"
          ]
        }
      ]
    },
    {
      "cell_type": "code",
      "source": [
        "#95.6\n",
        "\"\"\"\n",
        "1 2 3 4 5 \n",
        "1 2 3 4  \n",
        "1 2 3\n",
        "1 2 \n",
        "1 \n",
        "\"\"\"\n",
        "n=int(input(\"Enter how many rows are to be printed :\"))\n",
        "print(\"Pattern with\",n,\"rows :\")\n",
        "for i in range(n+1,0,-1):\n",
        "    for j in range(0,i-1):\n",
        "        print(j+1,end=\" \")\n",
        "    print()"
      ],
      "metadata": {
        "colab": {
          "base_uri": "https://localhost:8080/"
        },
        "id": "zSDtaMaQ_7xT",
        "outputId": "7981a979-fbc7-49cd-8f2e-18856083887f"
      },
      "execution_count": null,
      "outputs": [
        {
          "output_type": "stream",
          "name": "stdout",
          "text": [
            "Enter hoe many rows are to be printed :5\n",
            "Pattern with 5 rows :\n",
            "1 2 3 4 5 \n",
            "1 2 3 4 \n",
            "1 2 3 \n",
            "1 2 \n",
            "1 \n",
            "\n"
          ]
        }
      ]
    },
    {
      "cell_type": "code",
      "source": [
        "#95.6\n",
        "\"\"\"\n",
        "* \n",
        "* * *\n",
        "* * * * *\n",
        "* * * * * *\n",
        "* * * * * * * *\n",
        "\"\"\"\n",
        "n=int(input(\"Enter how many rows are to be printed :\"))\n",
        "print(\"Pattern with\",n,\"rows :\")\n",
        "for i in range(1,(2*n)+1,2):\n",
        "    for j in range(1,i+1):\n",
        "        print(\"*\",end=\" \")\n",
        "    print()"
      ],
      "metadata": {
        "colab": {
          "base_uri": "https://localhost:8080/"
        },
        "id": "rMETthgrClw-",
        "outputId": "81462372-3437-4b7b-a7fd-2695e9262d21"
      },
      "execution_count": null,
      "outputs": [
        {
          "output_type": "stream",
          "name": "stdout",
          "text": [
            "Enter how many rows are to be printed :5\n",
            "Pattern with 5 rows :\n",
            "* \n",
            "* * * \n",
            "* * * * * \n",
            "* * * * * * * \n",
            "* * * * * * * * * \n"
          ]
        }
      ]
    },
    {
      "cell_type": "code",
      "source": [
        "#95.7 ##\"\"\"\"NEED TO CLARIFY\"\"\"\"\"\n",
        "\"\"\"\n",
        "1 \n",
        "2 3 2 \n",
        "3 4 5 4 3 \n",
        "4 5 6 7 6 5 4 \n",
        "5 6 7 8 9 8 7 6 5 \n",
        "\"\"\"\n",
        "n=int(input(\"Enter how many rows are to be printed :\"));k=0\n",
        "print(\"Pattern with\",n,\"rows :\")\n",
        "for i in range(1,(2*n)+1,2):\n",
        "    k+=1\n",
        "    tem=k\n",
        "    for j in range(1,i+1):\n",
        "        print(tem,end=\" \")\n",
        "        tem=tem+1\n",
        "    print()\n"
      ],
      "metadata": {
        "colab": {
          "base_uri": "https://localhost:8080/"
        },
        "id": "BlG2BBmQGACn",
        "outputId": "4a6e3c48-7cb3-47cd-eb81-18b3ef3f7655"
      },
      "execution_count": null,
      "outputs": [
        {
          "output_type": "stream",
          "name": "stdout",
          "text": [
            "Enter how many rows are to be printed :5\n",
            "Pattern with 5 rows :\n",
            "1 \n",
            "2 3 4 \n",
            "3 4 5 6 7 \n",
            "4 5 6 7 8 9 10 \n",
            "5 6 7 8 9 10 11 12 13 \n"
          ]
        }
      ]
    },
    {
      "cell_type": "code",
      "source": [
        "#95.8\n",
        "\"\"\"\n",
        "3 3 3 3 3  \n",
        "3 2 2 2 3 \n",
        "3 2 1 2 3 \n",
        "3 2 2 2 3 \n",
        "3 3 3 3 3\n",
        "\"\"\""
      ],
      "metadata": {
        "colab": {
          "base_uri": "https://localhost:8080/",
          "height": 35
        },
        "id": "JEamU3CxHcQM",
        "outputId": "f5b5b470-3259-4418-a819-f4792854e4fc"
      },
      "execution_count": null,
      "outputs": [
        {
          "output_type": "execute_result",
          "data": {
            "text/plain": [
              "'\\n3 3 3 3 3  \\n3 2 2 2 3 \\n3 2 1 2 3 \\n3 2 2 2 3 \\n3 3 3 3 3\\n'"
            ],
            "application/vnd.google.colaboratory.intrinsic+json": {
              "type": "string"
            }
          },
          "metadata": {},
          "execution_count": 123
        }
      ]
    },
    {
      "cell_type": "code",
      "source": [
        "#96. To find largest among three numbers using binary minus operator. \n",
        "print(\"Enter any 3 numbers :\")\n",
        "a=int(input())\n",
        "b=int(input())\n",
        "c=int(input())\n",
        "if a-b>0 and a-c>0:\n",
        "    print(a,\"is largest\")\n",
        "elif b-c>0:\n",
        "    print(b,\"is largest\")\n",
        "else:\n",
        "    print(c,\"is largest\")"
      ],
      "metadata": {
        "colab": {
          "base_uri": "https://localhost:8080/"
        },
        "id": "L4pCWvSg4gX5",
        "outputId": "d27d67f4-eb5d-4a73-d9d5-a83ae84a6f97"
      },
      "execution_count": 236,
      "outputs": [
        {
          "output_type": "stream",
          "name": "stdout",
          "text": [
            "Enter any 3 numbers :\n",
            "11\n",
            "13\n",
            "12\n",
            "13 is largest\n"
          ]
        }
      ]
    },
    {
      "cell_type": "code",
      "source": [
        "#97. To find out prime factor of given number. \n",
        "def prime_or_not(n):\n",
        "    c=0\n",
        "    for i in range(2,(n//2)+1):\n",
        "        if n%i==0:\n",
        "            c=1\n",
        "    if c==1:\n",
        "        pass\n",
        "    else:\n",
        "        print(n,end=\" \")\n",
        "n=int(input(\"Enter a number :\"));l=[]\n",
        "for i in range(1,n+1):\n",
        "    if(n%i==0):\n",
        "        l.append(i)\n",
        "print(\"Factors of\",n,\":\",l)\n",
        "print(\"Prime factors of\",n,\":\",end=\" \")\n",
        "for num in l:\n",
        "    prime_or_not(num)\n",
        "    "
      ],
      "metadata": {
        "colab": {
          "base_uri": "https://localhost:8080/"
        },
        "id": "duyrafnx6R6N",
        "outputId": "2cd71b61-c928-43eb-b87f-7a718ff24e5f"
      },
      "execution_count": 250,
      "outputs": [
        {
          "output_type": "stream",
          "name": "stdout",
          "text": [
            "Enter a number :27\n",
            "Factors of 27 : [1, 3, 9, 27]\n",
            "Prime factors of 27 : 1 3 "
          ]
        }
      ]
    },
    {
      "cell_type": "code",
      "source": [
        "#99. To print 1 to 100 without using loop. \n",
        "def sequel_series(sp,ep):\n",
        "    i=sp\n",
        "    j=ep\n",
        "    if(sp<=ep):\n",
        "        print(i,end=\" \")\n",
        "    i+=1\n",
        "    if i<ep :\n",
        "        sequel_series(i,j)\n",
        "    else:\n",
        "        print(ep)\n",
        "\n",
        "s=int(input(\"Enter the starting point of the series :\"))\n",
        "e=int(input(\"Enter the end point of the series :\"))\n",
        "sequel_series(s,e)"
      ],
      "metadata": {
        "colab": {
          "base_uri": "https://localhost:8080/"
        },
        "id": "zSX-2_GTVICo",
        "outputId": "a984ee0b-7adc-4096-dd3d-623987299386"
      },
      "execution_count": null,
      "outputs": [
        {
          "output_type": "stream",
          "name": "stdout",
          "text": [
            "Enter the starting point of the series :1\n",
            "Enter the end point of the series :100\n",
            "1 2 3 4 5 6 7 8 9 10 11 12 13 14 15 16 17 18 19 20 21 22 23 24 25 26 27 28 29 30 31 32 33 34 35 36 37 38 39 40 41 42 43 44 45 46 47 48 49 50 51 52 53 54 55 56 57 58 59 60 61 62 63 64 65 66 67 68 69 70 71 72 73 74 75 76 77 78 79 80 81 82 83 84 85 86 87 88 89 90 91 92 93 94 95 96 97 98 99 100\n"
          ]
        }
      ]
    },
    {
      "cell_type": "code",
      "source": [
        "#100. Check the input number is a Neon Number or not. (Neon number is a  number where the sum of digits of square of the number is equal to the number  itself. Ex: 9 is a Neon Number – 9*9 =81, where 8+1=9)\n",
        "num=int(input(\"Enter any number :\"));sum=0\n",
        "n=num*num\n",
        "while n!=0:\n",
        "    sum=sum+(n%10)\n",
        "    n//=10\n",
        "if sum==num:\n",
        "    print(num,\"is a Neon number\")\n",
        "else:\n",
        "    print(num,\"is not a Neon number\")\n"
      ],
      "metadata": {
        "colab": {
          "base_uri": "https://localhost:8080/"
        },
        "id": "QyWUaZsPd6G3",
        "outputId": "19f09326-d8b3-4091-a2e5-afff985a210e"
      },
      "execution_count": null,
      "outputs": [
        {
          "output_type": "stream",
          "name": "stdout",
          "text": [
            "Enter any number :9\n",
            "9 is a Neon number\n"
          ]
        }
      ]
    },
    {
      "cell_type": "code",
      "source": [
        "#101. Check the input number is an Automorphic Number or not. (Automorphic  number is a number whose square ends in the same digit as the number it self. Ex:  5 – Square ends with 5 (25))\n",
        "n=int(input(\"Enter any number :\"))\n",
        "ns=str(n)\n",
        "sqs=str(n**2)\n",
        "if ns in sqs[len(sqs)//2::]:\n",
        "    print(\"Automprphic number\")\n",
        "else:\n",
        "    print(\"Not an Automorphic number\")\n",
        "print(\"Square of\",n,\":\",n**2)\n"
      ],
      "metadata": {
        "colab": {
          "base_uri": "https://localhost:8080/"
        },
        "id": "9yWpW09AJ2BB",
        "outputId": "2e04940c-56e6-4bed-a8ff-2de1f99563bb"
      },
      "execution_count": null,
      "outputs": [
        {
          "output_type": "stream",
          "name": "stdout",
          "text": [
            "Enter any number :15\n",
            "Not an Automorphic number\n",
            "Square of 15 : 225\n"
          ]
        }
      ]
    },
    {
      "cell_type": "code",
      "source": [
        "#102. Check the input number is a Spy Number or not. ( A spy number is a  number where the sum of its digits equals the product of its digits. For example,  1124 is a spy number, the sum of its digits is 1+1+2+4=8 and the product of its  digits is 1*1*2*4=8.)\n",
        "n=int(input(\"Enter any number :\"));s=0;p=1\n",
        "num=n\n",
        "while n!=0:\n",
        "    s=s+(n%10)\n",
        "    p=p*(n%10)\n",
        "    n//=10\n",
        "if s==p:\n",
        "    print(num,\"is a Spy number\")\n",
        "else:\n",
        "    print(num,\"is not a Spy number\")"
      ],
      "metadata": {
        "colab": {
          "base_uri": "https://localhost:8080/"
        },
        "id": "kC9s8XOYTh7G",
        "outputId": "4dafdfbc-ddb6-497c-f986-5ec0833ca12d"
      },
      "execution_count": null,
      "outputs": [
        {
          "output_type": "stream",
          "name": "stdout",
          "text": [
            "Enter any number :1234\n",
            "1234 is not a Spy number\n"
          ]
        }
      ]
    },
    {
      "cell_type": "code",
      "source": [
        "#103. Check the input number is a Happy Number or not. ( Happy number is a  number which eventually reaches 1 when replaced by the sum of the square of  each digit. For instance, 13 is a happy number because {1^{2}+3^{2}=10}, and  {1^{2}+0^{2}=1}.)\n",
        "def sq_sum(n):\n",
        "    sum=0\n",
        "    while n!=0:\n",
        "        sum=sum+((n%10)**2)\n",
        "        n//=10\n",
        "    x=sum\n",
        "    if x>9:\n",
        "        x=sq_sum(x)\n",
        "    return x\n",
        "\n",
        "num=int(input(\"Enter any number :\"))\n",
        "x=sq_sum(num)\n",
        "if x==1:\n",
        "    print(num,\"is a Happy number\")\n",
        "else:\n",
        "    print(num,\"is not a Happy number\")"
      ],
      "metadata": {
        "colab": {
          "base_uri": "https://localhost:8080/"
        },
        "id": "h2ePdVOYfyjX",
        "outputId": "27808773-7694-4091-d34c-2c69e35fb7e7"
      },
      "execution_count": null,
      "outputs": [
        {
          "output_type": "stream",
          "name": "stdout",
          "text": [
            "Enter any number :97\n",
            "97 is a Happy number\n"
          ]
        }
      ]
    },
    {
      "cell_type": "code",
      "source": [
        "#104. Check the input number is a Sunny Number or not. ( A number n is called  Sunny number if the next number (n+1) is a perfect square number. For example  15 is a Sunny number because 15+1 =16 is a perfect square number.)\n",
        "n=int(input(\"Enter any number :\"))\n",
        "print(n,\"is a Sunny number\") if ((n+1)**0.5)%2==0 else print(n,\"is not a Sunny number\")"
      ],
      "metadata": {
        "colab": {
          "base_uri": "https://localhost:8080/"
        },
        "id": "XKDJ7P9ShFyg",
        "outputId": "9e0aa2f3-18e9-474a-c974-a023eda540c6"
      },
      "execution_count": null,
      "outputs": [
        {
          "output_type": "stream",
          "name": "stdout",
          "text": [
            "Enter any number :3\n",
            "3 is a Sunny number\n"
          ]
        }
      ]
    },
    {
      "cell_type": "code",
      "source": [
        "#105. Check the input number is a Fascinating Number or not. ( Fascinating  Number: When a number( 3 digits or more ) is multiplied by 2 and 3, and when  both these products are concatenated with the original number, then it results in all \n",
        "n=int(input(\"Enter any number (>99) :\"))\n",
        "if(len(str(n))<3):\n",
        "    print(\"Invalid input. Enter a valid input\")\n",
        "else:\n",
        "    l=str(n)+str(n*2)+str(n*3)\n",
        "    s=set(l)\n",
        "    if len(s)==len(l):\n",
        "        print(n,\"is a Fascinating number\")\n",
        "    else:\n",
        "        print(n,\"is not a Fascinating number\")\n",
        "        \n",
        "\n"
      ],
      "metadata": {
        "colab": {
          "base_uri": "https://localhost:8080/"
        },
        "id": "lzUYRu2PijVZ",
        "outputId": "c3e16085-e08b-45c7-b6c9-8858c7c23e08"
      },
      "execution_count": null,
      "outputs": [
        {
          "output_type": "stream",
          "name": "stdout",
          "text": [
            "Enter any number (>99) :273\n",
            "273 is a Fascinating number\n"
          ]
        }
      ]
    },
    {
      "cell_type": "code",
      "source": [
        "#106. Check the input number is a Disarium Number or not. ( A disarium  number is a number in which the sum of the digits to the power of their respective  position is equal to the number itself (position is counted from left to right starting  from 1). Hence,175 is a disarium number).\n",
        "def count(n):\n",
        "    c=0\n",
        "    n=str(n)\n",
        "    for i in n:\n",
        "        c+=1\n",
        "    return c\n",
        "\n",
        "n=int(input(\"Enter a number :\"))\n",
        "c=count(n);sum=0\n",
        "num=n\n",
        "while n!=0:\n",
        "    sum=sum+((n%10)**c)\n",
        "    c-=1\n",
        "    n//=10\n",
        "print(num,\"is a Disarium number\") if sum==num else print(num,\"is a not Disarium number\")\n",
        "\n",
        "   \n"
      ],
      "metadata": {
        "colab": {
          "base_uri": "https://localhost:8080/"
        },
        "id": "ikIN457IkR-z",
        "outputId": "b1cf990e-d93c-4969-f9d0-44adf788fb53"
      },
      "execution_count": null,
      "outputs": [
        {
          "output_type": "stream",
          "name": "stdout",
          "text": [
            "Enter a number :175\n",
            "175 is a Disarium number\n"
          ]
        }
      ]
    },
    {
      "cell_type": "code",
      "source": [
        "#107. Check the input number is a Pronic Number or not. ( Pronic number is a  product of two consecutive integers of the form: n(n+1). For example: 6 = 2(2+1)=  n(n+1), 72 =8(8+1) = n(n+1)).\n",
        "n=int(input(\"Enter a number :\"))\n",
        "i=1\n",
        "x=0\n",
        "while i<n//2:\n",
        "    x=i*(i+1)\n",
        "    if(x==n):\n",
        "        print(n,\"is a Pronic number\")\n",
        "        break\n",
        "    i+=1\n",
        "else:\n",
        "    print(n,\"is not a Pronic number\")"
      ],
      "metadata": {
        "colab": {
          "base_uri": "https://localhost:8080/"
        },
        "id": "4jkWIKq_q5nL",
        "outputId": "07ca4693-e223-49aa-ed36-98ab710618f8"
      },
      "execution_count": null,
      "outputs": [
        {
          "output_type": "stream",
          "name": "stdout",
          "text": [
            "Enter a number :552\n",
            "552 is a Pronic number\n"
          ]
        }
      ]
    },
    {
      "cell_type": "code",
      "source": [
        "#108. Check the input number is a Trimorphic Number or not. ( A number is  called Trimorphic number if and only if its cube ends in the same digits as the  number itself. In other words, number appears at the end of its cube. Ex: 5 - 5*5*5=125).\n",
        "n=int(input(\"Enter any number :\"))\n",
        "ns=str(n)\n",
        "cs=str(n**3)\n",
        "if ns in cs[len(cs)//2::]:\n",
        "    print(\"Trimorphic number\")\n",
        "else:\n",
        "    print(\"Not an Trimorphic number\")\n",
        "print(\"Cube of\",n,\":\",n**3)\n"
      ],
      "metadata": {
        "id": "SZ-MwmnesGC0",
        "colab": {
          "base_uri": "https://localhost:8080/"
        },
        "outputId": "fe4c314a-19d4-483e-d1e1-7e5b8335a896"
      },
      "execution_count": 193,
      "outputs": [
        {
          "output_type": "stream",
          "name": "stdout",
          "text": [
            "Enter any number :6\n",
            "Trimorphic number\n",
            "Cube of 6 : 216\n"
          ]
        }
      ]
    },
    {
      "cell_type": "code",
      "source": [
        "#109. Check the input number is Evil or Odious Number. (An odious number is  a nonnegative number that has an odd number of 1s in its binary expansion. An  Evil number is a nonnegative number that has an even number of 1s in its binary  expansion).\n",
        "def decimal_to_binary(n):\n",
        "        l=\"\"\n",
        "        if n>=1:\n",
        "            decimal_to_binary(n//2)\n",
        "            l=l+str(n%2)\n",
        "        return l\n",
        "\n",
        "num=int(input(\"Enter any number :\"))\n",
        "x=decimal_to_binary(num)\n",
        "print(x)\n",
        "c=0\n",
        "for i in x:\n",
        "    if i=='1':\n",
        "        c+=1\n",
        "if c%2==0:\n",
        "    print(num,\"is an Evil number\")\n",
        "else:\n",
        "    print(num,\"is an Odious number\")"
      ],
      "metadata": {
        "colab": {
          "base_uri": "https://localhost:8080/"
        },
        "id": "zbs67Pg3wgEh",
        "outputId": "36b54c0e-1194-4d35-d5b7-ad27c517cbc3"
      },
      "execution_count": 202,
      "outputs": [
        {
          "output_type": "stream",
          "name": "stdout",
          "text": [
            "Enter any number :15\n",
            "1\n",
            "15 is an Odious number\n"
          ]
        }
      ]
    },
    {
      "cell_type": "code",
      "source": [
        "#111. To Compute the Speed of a Vehicle based on the input distance in KM and  time in HR.\n",
        "km=float(input(\"Enter the distance in Km/hr :\"))\n",
        "hr=float(input(\"Enter the time taken to cover the distance (in hrs) :\"))\n",
        "print(\"The speed of the Vehicle is : %g\"%(km/hr))"
      ],
      "metadata": {
        "colab": {
          "base_uri": "https://localhost:8080/"
        },
        "id": "g6VouzLczFPR",
        "outputId": "45dcc991-aa62-4398-e2bf-743862234068"
      },
      "execution_count": 223,
      "outputs": [
        {
          "output_type": "stream",
          "name": "stdout",
          "text": [
            "Enter the distance in Km/hr :130\n",
            "Enter the time taken to cover the distance (in hrs) :3\n",
            "The speed of the Vehicle is : 43.3333\n"
          ]
        }
      ]
    },
    {
      "cell_type": "code",
      "source": [
        ""
      ],
      "metadata": {
        "id": "UJRS7Q8c3p5K"
      },
      "execution_count": null,
      "outputs": []
    }
  ],
  "metadata": {
    "colab": {
      "name": "Programs.ipynb",
      "provenance": [],
      "collapsed_sections": [],
      "authorship_tag": "ABX9TyPAnMg7phBoybOhsanh7tJ3",
      "include_colab_link": true
    },
    "kernelspec": {
      "display_name": "Python 3",
      "name": "python3"
    },
    "language_info": {
      "name": "python"
    }
  },
  "nbformat": 4,
  "nbformat_minor": 0
}